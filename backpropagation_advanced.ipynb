{
 "cells": [
  {
   "cell_type": "code",
   "execution_count": 66,
   "metadata": {},
   "outputs": [],
   "source": [
    "import numpy as np\n",
    "\n",
    "np.random.seed(0)"
   ]
  },
  {
   "cell_type": "markdown",
   "metadata": {},
   "source": [
    "## Problem"
   ]
  },
  {
   "cell_type": "code",
   "execution_count": 67,
   "metadata": {},
   "outputs": [],
   "source": [
    "X = np.random.rand(1000, 2)\n",
    "y = 50 * np.exp(np.sin(X))"
   ]
  },
  {
   "cell_type": "code",
   "execution_count": 68,
   "metadata": {},
   "outputs": [],
   "source": [
    "from sklearn.model_selection import train_test_split\n",
    "X_train, X_test, y_train, y_test = train_test_split(X, y, test_size=0.33, random_state=42)"
   ]
  },
  {
   "cell_type": "code",
   "execution_count": 69,
   "metadata": {},
   "outputs": [
    {
     "data": {
      "text/plain": [
       "((670, 2), (670, 2))"
      ]
     },
     "execution_count": 69,
     "metadata": {},
     "output_type": "execute_result"
    }
   ],
   "source": [
    "X_train.shape, y_train.shape"
   ]
  },
  {
   "cell_type": "code",
   "execution_count": 70,
   "metadata": {},
   "outputs": [],
   "source": [
    "in_size = 2\n",
    "hid_1_size = 3\n",
    "hid_2_size = 4\n",
    "hid_3_size = 3\n",
    "out_size = 2\n",
    "\n",
    "sizes = [in_size, hid_1_size, hid_2_size, hid_3_size, out_size]\n",
    "\n",
    "# in_size = 2\n",
    "# hid_2_size = 5\n",
    "# hid_3_size = 3\n",
    "# out_size = 2\n",
    "\n",
    "# sizes = [in_size, hid_2_size, hid_3_size, out_size]"
   ]
  },
  {
   "cell_type": "code",
   "execution_count": 71,
   "metadata": {},
   "outputs": [
    {
     "name": "stdout",
     "output_type": "stream",
     "text": [
      "W_l1 | Layer 1, with index 0\n",
      "[[0.81151847 0.47608399]\n",
      " [0.52315599 0.25052059]\n",
      " [0.60504302 0.30290481]]\n",
      "\n",
      "\n",
      "W_l2 | Layer 2, with index 1\n",
      "[[0.57728401 0.16967812 0.15946909]\n",
      " [0.41702974 0.42681952 0.26810926]\n",
      " [0.13159685 0.03921054 0.02523183]\n",
      " [0.27155029 0.46185344 0.72624328]]\n",
      "\n",
      "\n",
      "W_l3 | Layer 3, with index 2\n",
      "[[0.4748717  0.90405082 0.0352198  0.18066062]\n",
      " [0.33851449 0.57749619 0.85273616 0.35020195]\n",
      " [0.26798868 0.06188917 0.82130348 0.37966644]]\n",
      "\n",
      "\n",
      "W_l4 | Layer 4, with index 3\n",
      "[[0.5715502  0.98355542 0.00159457]\n",
      " [0.14545014 0.77911099 0.80512749]]\n",
      "\n",
      "\n"
     ]
    }
   ],
   "source": [
    "W = []\n",
    "\n",
    "for i in range(1, len(sizes)):\n",
    "    W.append(np.random.rand(sizes[i], sizes[i-1]))\n",
    "    print(f\"W_l{i} | Layer {i}, with index {i-1}\")\n",
    "    print(W[i-1])\n",
    "    print(\"\\n\")\n"
   ]
  },
  {
   "cell_type": "code",
   "execution_count": 72,
   "metadata": {},
   "outputs": [
    {
     "name": "stdout",
     "output_type": "stream",
     "text": [
      "z_l1 | Layer 1, with index 0:\n",
      "[0. 0. 0.]\n",
      "a_l1 | Layer 1, with index 0:\n",
      "[0. 0. 0.]\n",
      "\n",
      "\n",
      "z_l2 | Layer 2, with index 1:\n",
      "[0. 0. 0. 0.]\n",
      "a_l2 | Layer 2, with index 1:\n",
      "[0. 0. 0. 0.]\n",
      "\n",
      "\n",
      "z_l3 | Layer 3, with index 2:\n",
      "[0. 0. 0.]\n",
      "a_l3 | Layer 3, with index 2:\n",
      "[0. 0. 0.]\n",
      "\n",
      "\n",
      "z_l4 | Layer 4, with index 3:\n",
      "[0. 0.]\n",
      "a_l4 | Layer 4, with index 3:\n",
      "[0. 0.]\n",
      "\n",
      "\n"
     ]
    }
   ],
   "source": [
    "z = []\n",
    "a = []\n",
    "\n",
    "\n",
    "for i in range(1, len(sizes)):\n",
    "    z.append(np.zeros(sizes[i]))\n",
    "    a.append(np.zeros(sizes[i]))\n",
    "    print(f\"z_l{i} | Layer {i}, with index {i-1}:\")\n",
    "    print(z[i-1])\n",
    "    print(f\"a_l{i} | Layer {i}, with index {i-1}:\")\n",
    "    print(a[i-1])\n",
    "    print(\"\\n\")"
   ]
  },
  {
   "cell_type": "code",
   "execution_count": 73,
   "metadata": {},
   "outputs": [],
   "source": [
    "def forward(xi, log=False):\n",
    "        \n",
    "    # Input\n",
    "    if log: print(\"Input x:\")\n",
    "    x = np.array([xi]).T\n",
    "    if log: print(x, \"\\n\")\n",
    "\n",
    "    z[0] = W[0] @ x\n",
    "    a[0] = 1 / (1 + np.exp(-z[0]))\n",
    "    if log: print(f\"W_l{1}\", \"\\n\", W[0], \"\\n\")\n",
    "    if log: print(f\"z_l{1}\", \"\\n\", z[0], \"\\n\")\n",
    "    if log: print(f\"a_l{1}\", \"\\n\", a[0], \"\\n\")\n",
    "\n",
    "    # Hidden layers, and output\n",
    "    for i in range(1, len(sizes)-1):\n",
    "\n",
    "        if log: print(f\"Layer {i+1}:\")\n",
    "        z[i] = W[i] @ a[i-1]\n",
    "\n",
    "        if i != len(sizes)-2:\n",
    "            a[i] = 1 / (1 + np.exp(-z[i]))\n",
    "            if log: print(f\"W_l{i+1}\", \"\\n\", W[i], \"\\n\")\n",
    "            if log: print(f\"z_l{i+1}\", \"\\n\", z[i], \"\\n\")\n",
    "            if log: print(f\"a_l{i+1}\", \"\\n\", a[i], \"\\n\")\n",
    "        else:\n",
    "            a[i] = z[i]\n",
    "            if log: print(f\"W_l{i+1}\", \"\\n\", W[i], \"\\n\")\n",
    "            if log: print(f\"z_l{i+1}\", \"\\n\", z[i], \"\\n\")\n",
    "            if log: print(\"y\", \"\\n\", a[i], \"\\n\")                \n",
    "\n",
    "    return a[len(sizes)-2]\n",
    "\n",
    "\n",
    "def loss_MSE(x, t, log=False):\n",
    "    # MSE\n",
    "    if log: print(\"t\" \"\\n\", t, \"\\n\")\n",
    "\n",
    "    try:\n",
    "        MSE = 0.5 * ( (t[0] - x[0])** 2 + (t[1] - x[1])** 2 )\n",
    "        return MSE\n",
    "    except Exception as e:\n",
    "        print(e)\n",
    "\n",
    "\n",
    "def backward(x, t):\n",
    "\n",
    "    # Initialization\n",
    "    W_grad = []\n",
    "    for w in W:\n",
    "        W_grad.append(np.zeros_like(w))\n",
    "\n",
    "    delta = []\n",
    "    for i in range(1, len(sizes)):\n",
    "        delta.append(np.zeros(sizes[i]))\n",
    "\n",
    "    # -------------------------------\n",
    "    # Final LAYER\n",
    "    # --> compute delta\n",
    "    out_size = sizes[-1]\n",
    "    hid_last_size = sizes[-2]\n",
    "    L = len(sizes)-2\n",
    "    for i in range(out_size):\n",
    "        # delta^L_i = y_i - t_1\n",
    "        delta[L][i] = a[L][i] - t[i]\n",
    "\n",
    "    # --> compute W_grad\n",
    "    for i in range(out_size):\n",
    "        for j in range(hid_last_size):\n",
    "            W_grad[L][i,j] = delta[L][i] * a[L-1][j]\n",
    "\n",
    "    # -------------------------------\n",
    "    # ALL OTHER LAYER \n",
    "    for l in range(L, 0, -1):\n",
    "        # --> compute delta\n",
    "        next_size = sizes[l+1]\n",
    "        prev_size = sizes[l]\n",
    "        for k in range(prev_size):\n",
    "            acc = 0\n",
    "            for i in range(next_size):\n",
    "                acc += delta[l][i] * W[l][i,k] * a[l-1][k] * (1 - a[l-1][k])\n",
    "            delta[l-1][k] = acc\n",
    "\n",
    "        # --> compute W_grad\n",
    "        pre_prev_size = sizes[l-1]\n",
    "        for i in range(prev_size):\n",
    "            for j in range(pre_prev_size):\n",
    "                if l!=1:\n",
    "                    W_grad[l-1][i,j] = delta[l-1][i] * a[l-2][j]\n",
    "                else:\n",
    "                    W_grad[l-1][i,j] = delta[l-1][i] * x[j]\n",
    "\n",
    "    # UPDATE WEIGHTS\n",
    "    mu = 0.0001\n",
    "    for idx, w_grad in enumerate(W_grad):\n",
    "        W[idx] = W[idx] - mu * w_grad"
   ]
  },
  {
   "cell_type": "code",
   "execution_count": 74,
   "metadata": {},
   "outputs": [
    {
     "name": "stdout",
     "output_type": "stream",
     "text": [
      "Epoch: 0, \t Test loss: [4847.52288109], \t Train loss: [4878.71278938]\n",
      "Epoch: 10, \t Test loss: [490.64253482], \t Train loss: [474.52705404]\n",
      "Epoch: 20, \t Test loss: [418.30279043], \t Train loss: [395.84457943]\n",
      "Epoch: 30, \t Test loss: [417.74046541], \t Train loss: [394.43608822]\n",
      "Epoch: 40, \t Test loss: [417.78257187], \t Train loss: [394.36965218]\n",
      "Epoch: 50, \t Test loss: [417.7199754], \t Train loss: [394.29993958]\n",
      "Epoch: 60, \t Test loss: [417.59226099], \t Train loss: [394.18419922]\n",
      "Epoch: 70, \t Test loss: [417.3413959], \t Train loss: [393.96182856]\n",
      "Epoch: 80, \t Test loss: [416.71129507], \t Train loss: [393.41174527]\n",
      "Epoch: 90, \t Test loss: [414.42539062], \t Train loss: [391.48224441]\n",
      "Epoch: 100, \t Test loss: [410.25953906], \t Train loss: [387.88317087]\n",
      "Epoch: 110, \t Test loss: [407.03241988], \t Train loss: [384.87217515]\n",
      "Epoch: 120, \t Test loss: [404.83911817], \t Train loss: [382.79803839]\n",
      "Epoch: 130, \t Test loss: [403.28506391], \t Train loss: [381.34094458]\n",
      "Epoch: 140, \t Test loss: [402.1160651], \t Train loss: [380.26587364]\n",
      "Epoch: 150, \t Test loss: [401.21221364], \t Train loss: [379.45147705]\n",
      "Epoch: 160, \t Test loss: [400.50360855], \t Train loss: [378.82549284]\n",
      "Epoch: 170, \t Test loss: [399.94305999], \t Train loss: [378.33989023]\n",
      "Epoch: 180, \t Test loss: [399.49660115], \t Train loss: [377.96084466]\n",
      "Epoch: 190, \t Test loss: [399.13911923], \t Train loss: [377.6638055]\n"
     ]
    }
   ],
   "source": [
    "EPOCHS = 200\n",
    "for ep in range(EPOCHS):\n",
    "    for i in range(X_train.shape[0]):\n",
    "        target = y_train[i]\n",
    "        out = forward(X_train[i], False)\n",
    "        loss = loss_MSE(out, target)\n",
    "        backward(X_train[i], target)\n",
    "\n",
    "    if ep%10==0:\n",
    "        loss = 0\n",
    "        for j in range(X_train.shape[0]):\n",
    "            target = y_train[j]\n",
    "            out = forward(X_train[j])\n",
    "            loss += loss_MSE(out, target)\n",
    "        l_train = loss / X_train.shape[0]\n",
    "\n",
    "        loss = 0\n",
    "        for j in range(X_test.shape[0]):\n",
    "            target = y_test[j]\n",
    "            out = forward(X_test[j])\n",
    "            loss += loss_MSE(out, target)\n",
    "        l_test = loss / X_test.shape[0]\n",
    "\n",
    "        print(f\"Epoch: {ep}, \\t Test loss: {l_test}, \\t Train loss: {l_train}\")"
   ]
  },
  {
   "cell_type": "code",
   "execution_count": 76,
   "metadata": {},
   "outputs": [
    {
     "name": "stdout",
     "output_type": "stream",
     "text": [
      "input \t0.6267064759591049 0.7275436095907498\n",
      "target \t89.88250476831203 97.22814149547783\n",
      "out \t82.06237339078395 81.53286394019605\n",
      "loss \t[153.74809615] \n",
      "\n",
      "input \t0.32147293085420525 0.47418481226362175\n",
      "target \t68.57906974666787 78.93591811610015\n",
      "out \t81.29021082183004 80.76568449634547\n",
      "loss \t[82.46057622] \n",
      "\n",
      "input \t0.05790927689626024 0.29138882053690274\n",
      "target \t52.97922848956347 66.64005232873065\n",
      "out \t80.22248897216187 79.70485419222098\n",
      "loss \t[456.44214473] \n",
      "\n",
      "input \t0.6147698861442988 0.037129603891447815\n",
      "target \t89.01399117162639 51.89093326749542\n",
      "out \t81.04846741619382 80.52550237411454\n",
      "loss \t[441.69405831] \n",
      "\n",
      "input \t0.4254017253550547 0.06355377483615843\n",
      "target \t75.54358249126678 53.27856036812152\n",
      "out \t80.65259633515664 80.13218626624881\n",
      "loss \t[373.60962317] \n",
      "\n"
     ]
    }
   ],
   "source": [
    "# Prediction\n",
    "for i in range(5):\n",
    "    out = forward(X_test[i])\n",
    "    loss = loss_MSE(out, y_test[i])\n",
    "    print(f\"input \\t{X_test[i][0]} {X_test[i][1]}\")\n",
    "    print(f\"target \\t{y_test[i][0]} {y_test[i][1]}\")\n",
    "    print(f\"out \\t{out[0][0]} {out[1][0]}\")\n",
    "    print(f\"loss \\t{loss} \\n\")"
   ]
  }
 ],
 "metadata": {
  "kernelspec": {
   "display_name": "Python 3",
   "language": "python",
   "name": "python3"
  },
  "language_info": {
   "codemirror_mode": {
    "name": "ipython",
    "version": 3
   },
   "file_extension": ".py",
   "mimetype": "text/x-python",
   "name": "python",
   "nbconvert_exporter": "python",
   "pygments_lexer": "ipython3",
   "version": "3.8.5"
  },
  "varInspector": {
   "cols": {
    "lenName": 16,
    "lenType": 16,
    "lenVar": 40
   },
   "kernels_config": {
    "python": {
     "delete_cmd_postfix": "",
     "delete_cmd_prefix": "del ",
     "library": "var_list.py",
     "varRefreshCmd": "print(var_dic_list())"
    },
    "r": {
     "delete_cmd_postfix": ") ",
     "delete_cmd_prefix": "rm(",
     "library": "var_list.r",
     "varRefreshCmd": "cat(var_dic_list()) "
    }
   },
   "types_to_exclude": [
    "module",
    "function",
    "builtin_function_or_method",
    "instance",
    "_Feature"
   ],
   "window_display": false
  },
  "vscode": {
   "interpreter": {
    "hash": "f7e374ee5e09e3e1c64a32e01379f0a0a71f66221bd3efaa81b204d4a8f2076c"
   }
  }
 },
 "nbformat": 4,
 "nbformat_minor": 2
}
