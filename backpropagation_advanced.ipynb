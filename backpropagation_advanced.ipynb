{
 "cells": [
  {
   "cell_type": "code",
   "execution_count": 158,
   "metadata": {},
   "outputs": [],
   "source": [
    "import numpy as np\n",
    "\n",
    "np.random.seed(0)"
   ]
  },
  {
   "cell_type": "markdown",
   "metadata": {},
   "source": [
    "![backpropagation](imgs/backpropagation.png)"
   ]
  },
  {
   "cell_type": "markdown",
   "metadata": {},
   "source": [
    "Mean squared error:\n",
    "\n",
    "$$\n",
    "\\begin{align*}\n",
    "    MSE &= \\frac{1}{2} \\sum^{1}_{n=0} (t_i - y_i)^2 \\\\\n",
    "    &= \\frac{1}{2} (t_0 - y_0)^2 + \\frac{1}{2} (t_1 - y_1)^2\n",
    "\\end{align*}\n",
    "$$"
   ]
  },
  {
   "cell_type": "markdown",
   "metadata": {},
   "source": [
    "In general:\n",
    "$$\n",
    "\\begin{align*}\n",
    "    \\frac{\\partial MSE}{\\partial y_{i}} &= -(t_i - y_i) \\\\\n",
    "    &= y_i - t_i \n",
    "\\end{align*}\n",
    "$$\n",
    "\n",
    "In specific case:\n",
    "$$\n",
    "\\begin{align*}\n",
    "    \\frac{\\partial MSE}{\\partial y_{0}} &= -(t_0 - y_0) \\\\\n",
    "    &= y_0 - t_0 \n",
    "\\end{align*}\n",
    "$$\n",
    "\n",
    "$$\n",
    "\\begin{align*}\n",
    "    \\frac{\\partial MSE}{\\partial y_{1}} &= -(t_1 - y_1) \\\\\n",
    "    &= y_1 - t_1 \n",
    "\\end{align*}\n",
    "$$"
   ]
  },
  {
   "cell_type": "markdown",
   "metadata": {},
   "source": [
    "Linear activation (before final output):\n",
    "$$\n",
    "\\begin{align*}\n",
    "    y_i &= z_i^{(L)}\n",
    "    \\hspace{35pt}\n",
    "    where\n",
    "    \\hspace{10pt}\n",
    "    \\{0, 1, ..., l, ..., L-1, L\\} \\,\\, layers\n",
    "\\end{align*}\n",
    "$$"
   ]
  },
  {
   "cell_type": "markdown",
   "metadata": {},
   "source": [
    "In general:\n",
    "$$\n",
    "\\begin{align*}\n",
    "    \\frac{\\partial y_i}{\\partial z^{(L)}_{i}} &= \\frac{\\partial a^{(L)}_i}{\\partial z^{(L)}_{i}} = 1 \\\\\n",
    "\\end{align*}\n",
    "$$\n",
    "\n",
    "In specific case:\n",
    "$$\n",
    "\\begin{align*}\n",
    "    \\frac{\\partial y_0}{\\partial z^{(L)}_{0}} &= \\frac{\\partial a^{(L)}_0}{\\partial z^{(L)}_{i}} = 1 \\\\\n",
    "\\end{align*}\n",
    "$$\n",
    "\n",
    "$$\n",
    "\\begin{align*}\n",
    "    \\frac{\\partial y_1}{\\partial z^{(L)}_{1}} &= \\frac{\\partial a^{(L)}_1}{\\partial z^{(L)}_{i}} = 1 \\\\\n",
    "\\end{align*}\n",
    "$$"
   ]
  },
  {
   "cell_type": "markdown",
   "metadata": {},
   "source": [
    "Before activation function:\n",
    "\n",
    "- In matrix form:\n",
    "$$\n",
    "\\begin{align*}\n",
    "    z^{(l)} &= W^{(l)} \\, a^{l-1} \\\\\n",
    "\\end{align*}\n",
    "$$"
   ]
  },
  {
   "cell_type": "markdown",
   "metadata": {},
   "source": [
    "- For instante, we fix $l=2$ (that is last layer L), therefore we want compute between last layer and middle layer:\n",
    "\n",
    "$$\n",
    "\\begin{align*}\n",
    "    z^{(l)} &= W^{(l)} \\, a^{l-1} \\\\\n",
    "    &= W^{(2)} \\, a^{1} \\\\\n",
    "    &=\n",
    "    \\begin{bmatrix}\n",
    "        w^{(2)}_{00} & w^{(2)}_{01} & w^{(2)}_{02} \\\\\n",
    "        w^{(2)}_{10} & w^{(2)}_{11} & w^{(2)}_{12}\n",
    "    \\end{bmatrix}\n",
    "    %\n",
    "    \\begin{bmatrix}\n",
    "        a^{(1)}_{0} \\\\\n",
    "        a^{(1)}_{1} \\\\\n",
    "        a^{(1)}_{2}\n",
    "    \\end{bmatrix} \\\\\n",
    "    % \n",
    "    &=\n",
    "    \\begin{bmatrix}\n",
    "        w^{(2)}_{00} a^{(1)}_{0} + w^{(2)}_{01} a^{(1)}_{01} + w^{(2)}_{02} a^{(1)}_{2} \\\\\n",
    "        w^{(2)}_{10} a^{(1)}_{0} + w^{(2)}_{11} a^{(1)}_{01} + w^{(2)}_{12} a^{(1)}_{2}\n",
    "    \\end{bmatrix} \\\\\n",
    "    %\n",
    "    &=\n",
    "    \\begin{bmatrix}\n",
    "        z^{(2)}_{0} \\\\\n",
    "        z^{(2)}_{1}\n",
    "    \\end{bmatrix}\n",
    "\\end{align*}\n",
    "$$"
   ]
  },
  {
   "cell_type": "markdown",
   "metadata": {},
   "source": [
    "- For instante, we fix $l=1$, therefore we want compute between middle layer and input:\n",
    "\n",
    "$$\n",
    "\\begin{align*}\n",
    "    z^{(l)} &= W^{(l)} \\, a^{l-1} \\\\\n",
    "    &= W^{(1)} \\, a^{0} \\\\\n",
    "    &= W^{(1)} \\, x \\\\  \n",
    "    &=\n",
    "    \\begin{bmatrix}\n",
    "        w^{(1)}_{00} & w^{(1)}_{01 } \\\\\n",
    "        w^{(1)}_{10} & w^{(1)}_{11} \\\\\n",
    "        w^{(1)}_{20} & w^{(1)}_{21}\n",
    "    \\end{bmatrix}\n",
    "    %\n",
    "    \\begin{bmatrix}\n",
    "        x^{(1)}_{0} \\\\\n",
    "        x^{(1)}_{1}\n",
    "    \\end{bmatrix} \\\\\n",
    "    %\n",
    "    &=\n",
    "    \\begin{bmatrix}\n",
    "        w^{(1)}_{00} x_{0} + w^{(1)}_{01} x_{1} \\\\\n",
    "        w^{(1)}_{10} x_{0} + w^{(1)}_{11} x_{1} \\\\\n",
    "        w^{(1)}_{20} x_{0} + w^{(1)}_{21} x_{1}\n",
    "    \\end{bmatrix} \\\\\n",
    "    %\n",
    "    &=\n",
    "    \\begin{bmatrix}\n",
    "        z^{(1)}_{0} \\\\\n",
    "        z^{(1)}_{1} \\\\\n",
    "        z^{(1)}_{2}\n",
    "    \\end{bmatrix}\n",
    "\\end{align*}\n",
    "$$"
   ]
  },
  {
   "cell_type": "markdown",
   "metadata": {},
   "source": [
    "- In scalar form:\n",
    "$$\n",
    "\\begin{align*}\n",
    "    z^{(l)}_{i} &= \\sum^{len(l)}_{i=0} \\sum^{len(l-1)}_{j=0} w^{(l)}_{ij} \\, a^{(l-1)}_{j} \\\\\n",
    "\\end{align*}\n",
    "$$\n",
    "\n",
    "$$\n",
    "\\begin{align*}\n",
    "    z^{(2)}_{0} &= w^{(2)}_{00} a^{(1)}_{0} + w^{(2)}_{01} a^{(1)}_{1} + w^{(2)}_{02} a^{(1)}_{2} \\\\\n",
    "    z^{(2)}_{1} &= w^{(2)}_{10} a^{(1)}_{0} + w^{(2)}_{11} a^{(1)}_{1} + w^{(2)}_{12} a^{(1)}_{2} \\\\\n",
    "    \\\\\n",
    "    z^{(1)}_{0} &= w^{(1)}_{00} x_{0} + w^{(1)}_{01} x_{1} \\\\\n",
    "    z^{(1)}_{1} &= w^{(1)}_{10} x_{0} + w^{(1)}_{11} x_{1} \\\\\n",
    "    z^{(1)}_{2} &= w^{(1)}_{20} x_{0} + w^{(1)}_{21} x_{1}\n",
    "\\end{align*}\n",
    "$$"
   ]
  },
  {
   "cell_type": "markdown",
   "metadata": {},
   "source": [
    "In general:\n",
    "\n",
    "$$\n",
    "\\begin{align*}\n",
    "    \\frac{\\partial z^{(l)}_{i}}{\\partial a^{(l-1)}_{j}} = w_{ij}^{(l)}\n",
    "    \\hspace{35pt}\n",
    "    where\n",
    "    \\hspace{10pt}\n",
    "    a^{(0)}_{j} = x_j\n",
    "\\end{align*}\n",
    "$$"
   ]
  },
  {
   "cell_type": "markdown",
   "metadata": {},
   "source": [
    "In specific case:\n",
    "\n",
    "$$\n",
    "\\begin{align*}\n",
    "    \\frac{\\partial z^{(2)}_{0}}{\\partial a^{(1)}_{0}} = w_{00}^{(2)} \\\\\n",
    "    \\frac{\\partial z^{(2)}_{0}}{\\partial a^{(1)}_{1}} = w_{01}^{(2)} \\\\\n",
    "    \\frac{\\partial z^{(2)}_{0}}{\\partial a^{(1)}_{2}} = w_{02}^{(2)} \\\\\n",
    "    \\\\\n",
    "    \\frac{\\partial z^{(2)}_{1}}{\\partial a^{(1)}_{0}} = w_{10}^{(2)} \\\\\n",
    "    \\frac{\\partial z^{(2)}_{1}}{\\partial a^{(1)}_{1}} = w_{11}^{(2)} \\\\\n",
    "    \\frac{\\partial z^{(2)}_{1}}{\\partial a^{(1)}_{2}} = w_{12}^{(2)} \\\\\n",
    "    \\\\\n",
    "    \\frac{\\partial z^{(1)}_{0}}{\\partial a^{(1)}_{0}} = \\frac{\\partial z^{(1)}_{0}}{\\partial x_{0}} = w_{00}^{(1)} \\\\\n",
    "    \\frac{\\partial z^{(1)}_{0}}{\\partial a^{(1)}_{1}} = \\frac{\\partial z^{(1)}_{0}}{\\partial x_{1}} = w_{01}^{(1)} \\\\\n",
    "    \\\\\n",
    "    \\frac{\\partial z^{(1)}_{1}}{\\partial a^{(1)}_{0}} = \\frac{\\partial z^{(1)}_{1}}{\\partial x_{0}} = w_{10}^{(1)} \\\\\n",
    "    \\frac{\\partial z^{(1)}_{1}}{\\partial a^{(1)}_{1}} = \\frac{\\partial z^{(1)}_{1}}{\\partial x_{1}} = w_{11}^{(1)} \\\\\n",
    "    \\\\\n",
    "    \\frac{\\partial z^{(1)}_{2}}{\\partial a^{(1)}_{0}} = \\frac{\\partial z^{(1)}_{2}}{\\partial x_{0}} = w_{20}^{(1)} \\\\\n",
    "    \\frac{\\partial z^{(1)}_{2}}{\\partial a^{(1)}_{1}} = \\frac{\\partial z^{(1)}_{2}}{\\partial x_{1}} = w_{21}^{(1)} \\\\\n",
    "\\end{align*}\n",
    "$$"
   ]
  },
  {
   "cell_type": "markdown",
   "metadata": {},
   "source": [
    "In general:\n",
    "\n",
    "$$\n",
    "\\begin{align*}\n",
    "    \\frac{\\partial z^{(l)}_{i}}{\\partial w^{(l)}_{ij}} = a^{(l-1)}_{j}\n",
    "    \\hspace{35pt}\n",
    "    where\n",
    "    \\hspace{10pt}\n",
    "    a^{(0)}_{j} = x_j\n",
    "\\end{align*}\n",
    "$$"
   ]
  },
  {
   "cell_type": "markdown",
   "metadata": {},
   "source": [
    "In specific case:\n",
    "\n",
    "$$\n",
    "\\begin{align*}\n",
    "    \\frac{\\partial z^{(2)}_{0}}{\\partial w_{00}^{(2)}} = a^{(1)}_{0} \\\\\n",
    "    \\frac{\\partial z^{(2)}_{0}}{\\partial w_{01}^{(2)}} = a^{(1)}_{1}  \\\\\n",
    "    \\frac{\\partial z^{(2)}_{0}}{\\partial w_{02}^{(2)}} = a^{(1)}_{2} \\\\\n",
    "    \\\\\n",
    "    \\frac{\\partial z^{(2)}_{1}}{\\partial w_{10}^{(2)}} = a^{(1)}_{0} \\\\\n",
    "    \\frac{\\partial z^{(2)}_{1}}{\\partial w_{11}^{(2)}} = a^{(1)}_{1} \\\\\n",
    "    \\frac{\\partial z^{(2)}_{1}}{\\partial w_{12}^{(2)}} = a^{(1)}_{2} \\\\\n",
    "    \\\\\n",
    "    \\frac{\\partial z^{(1)}_{0}}{\\partial w_{00}^{(1)}} = a^{(1)}_{0} = x_{0}\\\\\n",
    "    \\frac{\\partial z^{(1)}_{0}}{\\partial w_{01}^{(1)}} = a^{(1)}_{1} = x_{1}\\\\\n",
    "    \\\\\n",
    "    \\frac{\\partial z^{(1)}_{1}}{\\partial w_{10}^{(1)}} = a^{(1)}_{0} = x_{0} \\\\\n",
    "    \\frac{\\partial z^{(1)}_{1}}{\\partial w_{11}^{(1)}} = a^{(1)}_{1} = x_{1} \\\\\n",
    "    \\\\\n",
    "    \\frac{\\partial z^{(1)}_{2}}{\\partial w_{20}^{(1)}} = a^{(1)}_{0} = x_{0} \\\\\n",
    "    \\frac{\\partial z^{(1)}_{2}}{\\partial w_{21}^{(1)}} = a^{(1)}_{1} = x_{1}\n",
    "\\end{align*}\n",
    "$$"
   ]
  },
  {
   "cell_type": "markdown",
   "metadata": {},
   "source": [
    "Activation function:\n",
    "$$\n",
    "\\begin{align*}\n",
    "    a^{(l)}_{i} = \\frac{1}{1 + e^{-z^{(l)}_{i}}} \\\\\n",
    "\\end{align*}\n",
    "$$"
   ]
  },
  {
   "cell_type": "markdown",
   "metadata": {},
   "source": [
    "In general:\n",
    "\n",
    "$$\n",
    "\\begin{align*}\n",
    "    \\frac{\\partial a^{(l)}_{i}}{\\partial z^{(l)}_{i}} = a^{(l)}_{i} (1 - a^{(l)}_{i})\n",
    "    \\hspace{35pt}\n",
    "    where\n",
    "    \\hspace{10pt}\n",
    "    1 \\le l < L\n",
    "\\end{align*}\n",
    "$$\n",
    "\n",
    "Note that for $L=2$ we have linear activation that we compute in a different way, as we have already seen before. But for the hidden layer we have the no linear activation functions."
   ]
  },
  {
   "cell_type": "markdown",
   "metadata": {},
   "source": [
    "Update weights for $l=2$:\n",
    "$$\n",
    "\\begin{align*}\n",
    "    \\frac{\\partial MSE}{\\partial w^{(2)}_{00}} = \n",
    "    \\frac{\\partial MSE}{\\partial y^{(2)}_{0}} \\,\n",
    "    \\frac{\\partial y^{(2)}_{0}}{\\partial z^{(2)}_{0}} \\,\n",
    "    \\frac{\\partial z^{(2)}_{0}}{\\partial w^{(2)}_{00}}\n",
    "\\end{align*}\n",
    "$$\n",
    "\n",
    "$$\n",
    "\\begin{align*}\n",
    "    \\frac{\\partial MSE}{\\partial w^{(2)}_{01}} = \n",
    "    \\frac{\\partial MSE}{\\partial y^{(2)}_{0}} \\,\n",
    "    \\frac{\\partial y^{(2)}_{0}}{\\partial z^{(2)}_{0}} \\,\n",
    "    \\frac{\\partial z^{(2)}_{0}}{\\partial w^{(2)}_{01}}\n",
    "\\end{align*}\n",
    "$$\n",
    "\n",
    "$$\n",
    "\\begin{align*}\n",
    "    \\frac{\\partial MSE}{\\partial w^{(2)}_{02}} = \n",
    "    \\frac{\\partial MSE}{\\partial y^{(2)}_{0}} \\,\n",
    "    \\frac{\\partial y^{(2)}_{0}}{\\partial z^{(2)}_{0}} \\,\n",
    "    \\frac{\\partial z^{(2)}_{0}}{\\partial w^{(2)}_{02}}\n",
    "\\end{align*}\n",
    "$$"
   ]
  },
  {
   "cell_type": "markdown",
   "metadata": {},
   "source": [
    "$$\n",
    "\\begin{align*}\n",
    "    \\frac{\\partial MSE}{\\partial w^{(2)}_{10}} = \n",
    "    \\frac{\\partial MSE}{\\partial y^{(2)}_{1}} \\,\n",
    "    \\frac{\\partial y^{(2)}_{1}}{\\partial z^{(2)}_{1}} \\,\n",
    "    \\frac{\\partial z^{(2)}_{1}}{\\partial w^{(2)}_{10}}\n",
    "\\end{align*}\n",
    "$$\n",
    "\n",
    "$$\n",
    "\\begin{align*}\n",
    "    \\frac{\\partial MSE}{\\partial w^{(2)}_{11}} = \n",
    "    \\frac{\\partial MSE}{\\partial y^{(2)}_{1}} \\,\n",
    "    \\frac{\\partial y^{(2)}_{1}}{\\partial z^{(2)}_{1}} \\,\n",
    "    \\frac{\\partial z^{(2)}_{1}}{\\partial w^{(2)}_{11}}\n",
    "\\end{align*}\n",
    "$$\n",
    "\n",
    "$$\n",
    "\\begin{align*}\n",
    "    \\frac{\\partial MSE}{\\partial w^{(2)}_{12}} = \n",
    "    \\frac{\\partial MSE}{\\partial y^{(2)}_{1}} \\,\n",
    "    \\frac{\\partial y^{(2)}_{1}}{\\partial z^{(2)}_{1}} \\,\n",
    "    \\frac{\\partial z^{(2)}_{1}}{\\partial w^{(2)}_{12}}\n",
    "\\end{align*}\n",
    "$$"
   ]
  },
  {
   "cell_type": "markdown",
   "metadata": {},
   "source": [
    "Update weights for $l=1$:\n",
    "$$\n",
    "\\begin{align*}\n",
    "    \\frac{\\partial MSE}{\\partial w^{(1)}_{00}} = \n",
    "    \\frac{\\partial MSE}{\\partial y^{(2)}_{0}} \\,\n",
    "    \\frac{\\partial y^{(2)}_{0}}{\\partial z^{(2)}_{0}} \\, \n",
    "    \\frac{\\partial z^{(2)}_{0}}{\\partial a^{(1)}_{0}} \\,\n",
    "    \\frac{\\partial a^{(1)}_{0}}{\\partial z^{(1)}_{0}} \\,\n",
    "    \\frac{\\partial z^{(1)}_{0}}{\\partial w^{(1)}_{00}} + \\\\\n",
    "    \\frac{\\partial MSE}{\\partial y^{(2)}_{1}} \\,\n",
    "    \\frac{\\partial y^{(2)}_{1}}{\\partial z^{(2)}_{1}} \\, \n",
    "    \\frac{\\partial z^{(2)}_{1}}{\\partial a^{(1)}_{0}} \\,\n",
    "    \\frac{\\partial a^{(1)}_{0}}{\\partial z^{(1)}_{0}} \\,\n",
    "    \\frac{\\partial z^{(1)}_{0}}{\\partial w^{(1)}_{00}}\n",
    "\\end{align*}\n",
    "$$\n",
    "\n",
    "$$\n",
    "\\begin{align*}\n",
    "    \\frac{\\partial MSE}{\\partial w^{(1)}_{01}} = \n",
    "    \\frac{\\partial MSE}{\\partial y^{(2)}_{0}} \\,\n",
    "    \\frac{\\partial y^{(2)}_{0}}{\\partial z^{(2)}_{0}} \\, \n",
    "    \\frac{\\partial z^{(2)}_{0}}{\\partial a^{(1)}_{0}} \\,\n",
    "    \\frac{\\partial a^{(1)}_{0}}{\\partial z^{(1)}_{0}} \\,\n",
    "    \\frac{\\partial z^{(1)}_{0}}{\\partial w^{(1)}_{01}} + \\\\\n",
    "    \\frac{\\partial MSE}{\\partial y^{(2)}_{1}} \\,\n",
    "    \\frac{\\partial y^{(2)}_{1}}{\\partial z^{(2)}_{1}} \\, \n",
    "    \\frac{\\partial z^{(2)}_{1}}{\\partial a^{(1)}_{0}} \\,\n",
    "    \\frac{\\partial a^{(1)}_{0}}{\\partial z^{(1)}_{0}} \\,\n",
    "    \\frac{\\partial z^{(1)}_{0}}{\\partial w^{(1)}_{01}}\n",
    "\\end{align*}\n",
    "$$\n"
   ]
  },
  {
   "cell_type": "markdown",
   "metadata": {},
   "source": [
    "\n",
    "$$\n",
    "\\begin{align*}\n",
    "    \\frac{\\partial MSE}{\\partial w^{(1)}_{10}} = \n",
    "    \\frac{\\partial MSE}{\\partial y^{(2)}_{0}} \\,\n",
    "    \\frac{\\partial y^{(2)}_{0}}{\\partial z^{(2)}_{0}} \\, \n",
    "    \\frac{\\partial z^{(2)}_{0}}{\\partial a^{(1)}_{1}} \\,\n",
    "    \\frac{\\partial a^{(1)}_{1}}{\\partial z^{(1)}_{1}} \\,\n",
    "    \\frac{\\partial z^{(1)}_{1}}{\\partial w^{(1)}_{10}} + \\\\\n",
    "    \\frac{\\partial MSE}{\\partial y^{(2)}_{1}} \\,\n",
    "    \\frac{\\partial y^{(2)}_{1}}{\\partial z^{(2)}_{1}} \\, \n",
    "    \\frac{\\partial z^{(2)}_{1}}{\\partial a^{(1)}_{1}} \\,\n",
    "    \\frac{\\partial a^{(1)}_{1}}{\\partial z^{(1)}_{1}} \\,\n",
    "    \\frac{\\partial z^{(1)}_{1}}{\\partial w^{(1)}_{10}}\n",
    "\\end{align*}\n",
    "$$\n",
    "\n",
    "$$\n",
    "\\begin{align*}\n",
    "    \\frac{\\partial MSE}{\\partial w^{(1)}_{11}} = \n",
    "    \\frac{\\partial MSE}{\\partial y^{(2)}_{0}} \\,\n",
    "    \\frac{\\partial y^{(2)}_{0}}{\\partial z^{(2)}_{0}} \\, \n",
    "    \\frac{\\partial z^{(2)}_{0}}{\\partial a^{(1)}_{1}} \\,\n",
    "    \\frac{\\partial a^{(1)}_{1}}{\\partial z^{(1)}_{1}} \\,\n",
    "    \\frac{\\partial z^{(1)}_{1}}{\\partial w^{(1)}_{11}} + \\\\\n",
    "    \\frac{\\partial MSE}{\\partial y^{(2)}_{1}} \\,\n",
    "    \\frac{\\partial y^{(2)}_{1}}{\\partial z^{(2)}_{1}} \\, \n",
    "    \\frac{\\partial z^{(2)}_{1}}{\\partial a^{(1)}_{1}} \\,\n",
    "    \\frac{\\partial a^{(1)}_{1}}{\\partial z^{(1)}_{1}} \\,\n",
    "    \\frac{\\partial z^{(1)}_{1}}{\\partial w^{(1)}_{11}}\n",
    "\\end{align*}\n",
    "$$\n"
   ]
  },
  {
   "cell_type": "markdown",
   "metadata": {},
   "source": [
    "$$\n",
    "\\begin{align*}\n",
    "    \\frac{\\partial MSE}{\\partial w^{(1)}_{20}} = \n",
    "    \\frac{\\partial MSE}{\\partial y^{(2)}_{0}} \\,\n",
    "    \\frac{\\partial y^{(2)}_{0}}{\\partial z^{(2)}_{0}} \\, \n",
    "    \\frac{\\partial z^{(2)}_{0}}{\\partial a^{(1)}_{2}} \\,\n",
    "    \\frac{\\partial a^{(1)}_{2}}{\\partial z^{(1)}_{2}} \\,\n",
    "    \\frac{\\partial z^{(1)}_{2}}{\\partial w^{(1)}_{10}} + \\\\\n",
    "    \\frac{\\partial MSE}{\\partial y^{(2)}_{1}} \\,\n",
    "    \\frac{\\partial y^{(2)}_{1}}{\\partial z^{(2)}_{1}} \\, \n",
    "    \\frac{\\partial z^{(2)}_{1}}{\\partial a^{(1)}_{2}} \\,\n",
    "    \\frac{\\partial a^{(1)}_{2}}{\\partial z^{(1)}_{2}} \\,\n",
    "    \\frac{\\partial z^{(1)}_{2}}{\\partial w^{(1)}_{20}}\n",
    "\\end{align*}\n",
    "$$\n",
    "\n",
    "$$\n",
    "\\begin{align*}\n",
    "    \\frac{\\partial MSE}{\\partial w^{(1)}_{21}} = \n",
    "    \\frac{\\partial MSE}{\\partial y^{(2)}_{0}} \\,\n",
    "    \\frac{\\partial y^{(2)}_{0}}{\\partial z^{(2)}_{0}} \\, \n",
    "    \\frac{\\partial z^{(2)}_{0}}{\\partial a^{(1)}_{2}} \\,\n",
    "    \\frac{\\partial a^{(1)}_{2}}{\\partial z^{(1)}_{2}} \\,\n",
    "    \\frac{\\partial z^{(1)}_{2}}{\\partial w^{(1)}_{11}} + \\\\\n",
    "    \\frac{\\partial MSE}{\\partial y^{(2)}_{1}} \\,\n",
    "    \\frac{\\partial y^{(2)}_{1}}{\\partial z^{(2)}_{1}} \\, \n",
    "    \\frac{\\partial z^{(2)}_{1}}{\\partial a^{(1)}_{2}} \\,\n",
    "    \\frac{\\partial a^{(1)}_{2}}{\\partial z^{(1)}_{2}} \\,\n",
    "    \\frac{\\partial z^{(1)}_{2}}{\\partial w^{(1)}_{21}}\n",
    "\\end{align*}\n",
    "$$"
   ]
  },
  {
   "cell_type": "markdown",
   "metadata": {},
   "source": [
    "Decompose\n",
    "\n",
    "$$\n",
    "\\begin{align*}\n",
    "    \\delta^{(L)} &= \\frac{\\partial MSE}{\\partial y} \\,\n",
    "    \\frac{\\partial y}{\\partial z^{(L)}} \\\\\n",
    "    &= \n",
    "    \\frac{\\partial MSE}{\\partial a^{(L)}} \\,\n",
    "    \\frac{\\partial a^{(L)}}{\\partial z^{(L)}} \\\\\n",
    "    %\n",
    "    \\delta^{(L-1)} &= \\delta^{(L)} \\,\n",
    "    \\frac{\\partial z^{(L)}}{\\partial a^{(L-1)}} \\,\n",
    "    \\frac{\\partial a^{(L-1)}}{\\partial z^{(L-1)}} \\\\\n",
    "    %\n",
    "    \\delta^{(L-2)} &= \\delta^{(L-1)} \\,\n",
    "    \\frac{\\partial z^{(L-1)}}{\\partial a^{(L-2)}} \\,\n",
    "    \\frac{\\partial a^{(L-2)}}{\\partial z^{(L-2)}} \\\\\n",
    "    & \\vdots \\\\\n",
    "    \\delta^{(l-1)} &= \\delta^{(l)} \\,\n",
    "    \\frac{\\partial z^{(l)}}{\\partial a^{(l-1)}} \\,\n",
    "    \\frac{\\partial a^{(l-1)}}{\\partial z^{(l-1)}}\n",
    "\\end{align*}\n",
    "$$"
   ]
  },
  {
   "cell_type": "markdown",
   "metadata": {},
   "source": [
    "Therefore\n",
    "\n",
    "$$\n",
    "\\begin{align*}\n",
    "    \\frac{\\partial MSE}{\\partial w^{(l)}_{ij}} = \\delta^{(l)} \\, \\frac{\\partial z^{(l)}}{\\partial w^{(l)}_{ij}}\n",
    "\\end{align*}\n",
    "$$"
   ]
  },
  {
   "cell_type": "markdown",
   "metadata": {},
   "source": [
    "Scalar mode:\n",
    "\n",
    "$$\n",
    "\\begin{align*}\n",
    "    \\delta^{(L)}_{i} &= \n",
    "    \\frac{\\partial MSE}{\\partial a^{(L)}_{i}} \\,\n",
    "    \\frac{\\partial a^{(L)}_{i}}{\\partial z^{(L)}_{i}}\n",
    "    \\hspace{75pt}\n",
    "    where\n",
    "    \\hspace{10pt}\n",
    "    0 \\le i < len(L) \\\\\n",
    "    %\n",
    "    \\delta^{(L-1)}_{k} &= \n",
    "    \\sum^{len(L)}_{i=0} \\delta^{(L)}_{i} \\,\n",
    "    \\frac{\\partial z^{(L)}_{i}}{\\partial a^{(L-1)}_{k}} \\,\n",
    "    \\frac{\\partial a^{(L-1)}_{k}}{\\partial z^{(L-1)}_{k}}\n",
    "    \\hspace{35pt}\n",
    "    where\n",
    "    \\hspace{10pt}\n",
    "    0 \\le k < len(L-1) \\\\\n",
    "    %\n",
    "    &\\vdots\\\\\n",
    "    \\delta^{(l-1)}_{k} &= \n",
    "    \\sum^{len(l)}_{i=0} \\delta^{(l)}_{i} \\,\n",
    "    \\frac{\\partial z^{(l)}_{i}}{\\partial a^{(l-1)}_{k}} \\,\n",
    "    \\frac{\\partial a^{(l-1)}_{k}}{\\partial z^{(l-1)}_{k}}\n",
    "    \\hspace{45pt}\n",
    "    where\n",
    "    \\hspace{10pt}\n",
    "    0 \\le k < len(l-1)\n",
    "\\end{align*}\n",
    "$$"
   ]
  },
  {
   "cell_type": "markdown",
   "metadata": {},
   "source": [
    "Therefore:\n",
    "\n",
    "$$\n",
    "\\begin{align*}\n",
    "    \\frac{\\partial MSE}{\\partial w^{(L)}_{ij}} &= \\delta^{(L)}_{i} \\, \n",
    "    \\frac{\\partial z^{(L)}_{i}}{\\partial w^{(L)}_{ij}}\n",
    "    \\hspace{50pt}\n",
    "    where\n",
    "    \\hspace{10pt}\n",
    "    0 \\le i < len(L) &\n",
    "    0 \\le j < len(L-1) \\\\\n",
    "    %\n",
    "    \\frac{\\partial MSE}{\\partial w^{(L-1)}_{ij}} &= \\delta^{(L-1)}_{i} \\, \n",
    "    \\frac{\\partial z^{(L-1)}_{i}}{\\partial w^{(L-1)}_{ij}}\n",
    "    \\hspace{35pt}\n",
    "    where\n",
    "    \\hspace{10pt}\n",
    "    0 \\le i < len(L-1) &\n",
    "    0 \\le j < len(L-2) \\\\\n",
    "    %\n",
    "    & \\vdots \\\\\n",
    "    \\frac{\\partial MSE}{\\partial w^{(l-1)}_{ij}} &= \\delta^{(l-1)}_{i} \\, \n",
    "    \\frac{\\partial z^{(l-1)}_{i}}{\\partial w^{(l-1)}_{ij}}\n",
    "    \\hspace{40pt}\n",
    "    where\n",
    "    \\hspace{10pt}\n",
    "    0 \\le i < len(l-1) &\n",
    "    0 \\le j < len(l-2)\n",
    "\\end{align*}\n",
    "$$"
   ]
  },
  {
   "cell_type": "markdown",
   "metadata": {},
   "source": [
    "## Forward pass"
   ]
  },
  {
   "cell_type": "code",
   "execution_count": 159,
   "metadata": {},
   "outputs": [
    {
     "name": "stdout",
     "output_type": "stream",
     "text": [
      "Input x:\n",
      "[[1]\n",
      " [3]] \n",
      "\n",
      "Layer 1:\n",
      "W_l1 \n",
      " [[0.5488135  0.71518937]\n",
      " [0.60276338 0.54488318]\n",
      " [0.4236548  0.64589411]] \n",
      "\n",
      "z_l1 \n",
      " [[2.6943816 ]\n",
      " [2.23741293]\n",
      " [2.36133714]] \n",
      "\n",
      "a_l1 \n",
      " [[0.9366943 ]\n",
      " [0.90355926]\n",
      " [0.91383116]] \n",
      "\n",
      "Layer 2:\n",
      "W_l2 \n",
      " [[0.43758721 0.891773   0.96366276]\n",
      " [0.38344152 0.79172504 0.52889492]] \n",
      "\n",
      "z_l2 \n",
      " [[5.44982404]\n",
      " [4.05345282]] \n",
      "\n",
      "y \n",
      " [[5.44982404]\n",
      " [4.05345282]] \n",
      "\n",
      "t\n",
      " [[0]\n",
      " [1]] \n",
      "\n",
      "MSE \n",
      " [19.51207808] \n",
      "\n"
     ]
    }
   ],
   "source": [
    "print(\"Input x:\")\n",
    "x = np.array([[1,3]]).T\n",
    "print(x, \"\\n\")\n",
    "\n",
    "print(\"Layer 1:\")\n",
    "W_l1 = np.random.rand(3,2)\n",
    "z_l1 = W_l1 @ x\n",
    "a_l1 = 1 / (1 + np.exp(-z_l1))\n",
    "print(\"W_l1\", \"\\n\", W_l1, \"\\n\")\n",
    "print(\"z_l1\", \"\\n\", z_l1, \"\\n\")\n",
    "print(\"a_l1\", \"\\n\", a_l1, \"\\n\")\n",
    "\n",
    "print(\"Layer 2:\")\n",
    "W_l2 = np.random.rand(2,3)\n",
    "z_l2 = W_l2 @ z_l1\n",
    "print(\"W_l2\", \"\\n\", W_l2, \"\\n\")\n",
    "print(\"z_l2\", \"\\n\", z_l2, \"\\n\")\n",
    "\n",
    "y = z_l2\n",
    "print(\"y\", \"\\n\", y, \"\\n\")\n",
    "\n",
    "t = np.random.randint(5, size=(2,1))\n",
    "print(\"t\" \"\\n\", t, \"\\n\")\n",
    "MSE = 0.5 * ( (t[0] - y[0])** 2 + (t[1] - y[1])** 2 )\n",
    "print(\"MSE\", \"\\n\", MSE, \"\\n\")"
   ]
  },
  {
   "cell_type": "markdown",
   "metadata": {},
   "source": [
    "## Backward pass"
   ]
  },
  {
   "cell_type": "markdown",
   "metadata": {},
   "source": [
    "$$\n",
    "\\begin{align*}\n",
    "    \\delta^{(L)}_{i} &= \n",
    "    \\frac{\\partial MSE}{\\partial a^{(L)}_{i}} \\,\n",
    "    \\frac{\\partial a^{(L)}_{i}}{\\partial z^{(L)}_{i}}\n",
    "    \\hspace{35pt}\n",
    "    where\n",
    "    \\hspace{10pt}\n",
    "    0 \\le i < len(L) \\\\\n",
    "    %\n",
    "    &= (y_i - t_i) \\, 1 \\\\\n",
    "    &= (y_i - t_i)\n",
    "\\end{align*}\n",
    "$$"
   ]
  },
  {
   "cell_type": "code",
   "execution_count": 160,
   "metadata": {},
   "outputs": [
    {
     "name": "stdout",
     "output_type": "stream",
     "text": [
      "Dimension of L-layer: 2\n",
      "delta_L2: [5.44982404 3.05345282]\n"
     ]
    }
   ],
   "source": [
    "L2_size = z_l2.shape[0]\n",
    "\n",
    "delta_L2 = np.zeros(L2_size)\n",
    "for i in range(L2_size):\n",
    "    delta_L2[i] = y[i] - t[i]\n",
    "\n",
    "print(f\"Dimension of L-layer: {L2_size}\")\n",
    "print(f\"delta_L2: {delta_L2}\")"
   ]
  },
  {
   "cell_type": "markdown",
   "metadata": {},
   "source": [
    "$$\n",
    "\\begin{align*}    \n",
    "    \\frac{\\partial MSE}{\\partial w^{(L)}_{ij}} &= \\delta^{(L)}_{i} \\, \\frac{\\partial z^{(L)}_{i}}{\\partial w^{(L)}_{ij}}\n",
    "    \\hspace{35pt}\n",
    "    where\n",
    "    \\hspace{10pt}\n",
    "    0 \\le i < len(L) &\n",
    "    0 \\le j < len(L-1) \\\\\n",
    "    %\n",
    "    &= \\delta^{(L)}_{i} \\, a^{(L-1)}_{j}\n",
    "\\end{align*}\n",
    "$$"
   ]
  },
  {
   "cell_type": "code",
   "execution_count": 161,
   "metadata": {},
   "outputs": [
    {
     "name": "stdout",
     "output_type": "stream",
     "text": [
      "W_grad of layers 2:\n",
      "[[5.10481911 4.92423895 4.98021899]\n",
      " [2.86015186 2.75897556 2.79034032]]\n"
     ]
    }
   ],
   "source": [
    "l1_size = z_l1.shape[0]\n",
    "\n",
    "W_l2_grad = np.zeros_like(W_l2)\n",
    "for i in range(L2_size):\n",
    "    for j in range(l1_size):\n",
    "        W_l2_grad[i,j] = delta_L2[i] * a_l1[j]\n",
    "\n",
    "print(\"W_grad of layers 2:\")\n",
    "print(W_l2_grad)"
   ]
  },
  {
   "cell_type": "markdown",
   "metadata": {},
   "source": [
    " $$\n",
    "\\begin{align*}   \n",
    "    \\delta^{(L-1)}_{k} &= \n",
    "    \\sum^{len(L)}_{i=0} \\delta^{(L)}_{i} \\,\n",
    "    \\frac{\\partial z^{(L)}_{i}}{\\partial a^{(L-1)}_{k}} \\,\n",
    "    \\frac{\\partial a^{(L-1)}_{k}}{\\partial z^{(L-1)}_{k}}\n",
    "    \\hspace{35pt}\n",
    "    where\n",
    "    \\hspace{10pt}\n",
    "    0 \\le k < len(L-1) \\\\\n",
    "    %\n",
    "    &= \\sum^{len(L)}_{i=0} \\delta^{(L)}_{i} \\, w^{(L)}_{ik} \\, a^{(L-1)}_{k} \\, (1 - a^{(L-1)}_{k})\n",
    "\\end{align*}\n",
    "$$"
   ]
  },
  {
   "cell_type": "code",
   "execution_count": 162,
   "metadata": {},
   "outputs": [
    {
     "name": "stdout",
     "output_type": "stream",
     "text": [
      "Dimension of L-1 layer: 3\n",
      "delta_L-1: [0.21083992 0.6341609  0.54071367]\n"
     ]
    }
   ],
   "source": [
    "delta_l1 = np.zeros(l1_size)\n",
    "for k in range(l1_size):\n",
    "    acc = 0\n",
    "    for i in range(L2_size):\n",
    "        acc += delta_L2[i] * W_l2[i,k] * a_l1[k] * (1 - a_l1[k])\n",
    "    delta_l1[k] = acc\n",
    "\n",
    "print(f\"Dimension of L-1 layer: {l1_size}\")\n",
    "print(f\"delta_L-1: {delta_l1}\")"
   ]
  },
  {
   "cell_type": "markdown",
   "metadata": {},
   "source": [
    "$$\n",
    "\\begin{align*}\n",
    "    \\frac{\\partial MSE}{\\partial w^{(L-1)}_{ij}} &= \\delta^{(L-1)}_{i} \\,\n",
    "    \\frac{\\partial z^{(L-1)}_{i}}{\\partial w^{(L-1)}_{ij}}\n",
    "    \\hspace{35pt}\n",
    "    where\n",
    "    \\hspace{10pt}\n",
    "    0 \\le i < len(L-1) &\n",
    "    0 \\le j < len(L-2) \\\\\n",
    "    %\n",
    "    &= \\delta^{(L-1)}_{i} \\, a^{(L-2)}_{j} \\\\\n",
    "    &= \\delta^{(L-1)}_{i} \\, x_{j} \\\\\n",
    "\\end{align*}\n",
    "$$"
   ]
  },
  {
   "cell_type": "code",
   "execution_count": 163,
   "metadata": {},
   "outputs": [
    {
     "name": "stdout",
     "output_type": "stream",
     "text": [
      "W_grad of layers 1:\n",
      "[[0.21083992 0.63251976]\n",
      " [0.6341609  1.90248271]\n",
      " [0.54071367 1.62214102]]\n"
     ]
    }
   ],
   "source": [
    "l0_size = x.shape[0]\n",
    "\n",
    "W_l1_grad = np.zeros_like(W_l1)\n",
    "for i in range(l1_size):\n",
    "    for j in range(l0_size):\n",
    "        W_l1_grad[i,j] = delta_l1[i] * x[j]\n",
    "\n",
    "print(\"W_grad of layers 1:\")\n",
    "print(W_l1_grad)"
   ]
  },
  {
   "cell_type": "markdown",
   "metadata": {},
   "source": [
    "## Gradient descent"
   ]
  },
  {
   "cell_type": "code",
   "execution_count": 164,
   "metadata": {},
   "outputs": [],
   "source": [
    "mu = 0.01"
   ]
  },
  {
   "cell_type": "code",
   "execution_count": 165,
   "metadata": {},
   "outputs": [
    {
     "name": "stdout",
     "output_type": "stream",
     "text": [
      "w_l1 before:\n",
      "[[0.5488135  0.71518937]\n",
      " [0.60276338 0.54488318]\n",
      " [0.4236548  0.64589411]]\n",
      "\n",
      "\n",
      "w_l1 new:\n",
      "[[0.5467051  0.70886417]\n",
      " [0.59642177 0.52585836]\n",
      " [0.41824766 0.6296727 ]]\n"
     ]
    }
   ],
   "source": [
    "print(\"w_l1 before:\")\n",
    "print(W_l1)\n",
    "W_l1 = W_l1 - mu * W_l1_grad\n",
    "\n",
    "print(\"\\n\")\n",
    "\n",
    "print(\"w_l1 new:\")\n",
    "print(W_l1)"
   ]
  },
  {
   "cell_type": "code",
   "execution_count": 166,
   "metadata": {},
   "outputs": [
    {
     "name": "stdout",
     "output_type": "stream",
     "text": [
      "w_l2 before:\n",
      "[[0.43758721 0.891773   0.96366276]\n",
      " [0.38344152 0.79172504 0.52889492]]\n",
      "\n",
      "\n",
      "w_l2 new:\n",
      "[[0.38653902 0.84253061 0.91386057]\n",
      " [0.35484    0.76413528 0.50099152]]\n"
     ]
    }
   ],
   "source": [
    "print(\"w_l2 before:\")\n",
    "print(W_l2)\n",
    "W_l2 = W_l2 - mu * W_l2_grad\n",
    "\n",
    "print(\"\\n\")\n",
    "\n",
    "print(\"w_l2 new:\")\n",
    "print(W_l2)"
   ]
  },
  {
   "cell_type": "code",
   "execution_count": 167,
   "metadata": {},
   "outputs": [
    {
     "name": "stdout",
     "output_type": "stream",
     "text": [
      "BEFORE\n",
      "y \n",
      " [[5.44982404]\n",
      " [4.05345282]] \n",
      "\n",
      "t\n",
      " [[0]\n",
      " [1]] \n",
      "\n",
      "MSE \n",
      " [19.51207808] \n",
      "\n",
      "AFTER\n",
      "y \n",
      " [[4.97351194]\n",
      " [3.76574119]] \n",
      "\n",
      "t\n",
      " [[0]\n",
      " [1]] \n",
      "\n",
      "MSE \n",
      " [16.19257265] \n",
      "\n"
     ]
    }
   ],
   "source": [
    "print(\"BEFORE\")\n",
    "print(\"MSE\", \"\\n\", MSE, \"\\n\")\n",
    "\n",
    "x = np.array([[1,3]]).T\n",
    "z_l1 = W_l1 @ x\n",
    "a_l1 = 1 / (1 + np.exp(-z_l1))\n",
    "z_l2 = W_l2 @ z_l1\n",
    "y = z_l2\n",
    "MSE = 0.5 * ( (t[0] - y[0])** 2 + (t[1] - y[1])** 2 )\n",
    "\n",
    "print(\"AFTER\")\n",
    "print(\"MSE\", \"\\n\", MSE, \"\\n\")"
   ]
  },
  {
   "cell_type": "markdown",
   "metadata": {},
   "source": [
    "## Problem"
   ]
  },
  {
   "cell_type": "code",
   "execution_count": 168,
   "metadata": {},
   "outputs": [],
   "source": [
    "X = np.random.rand(10000, 2)\n",
    "#y = 50 * np.exp(np.sin(X)) # too difficult?\n",
    "y = 15 * np.sin(X)"
   ]
  },
  {
   "cell_type": "code",
   "execution_count": 169,
   "metadata": {},
   "outputs": [],
   "source": [
    "from sklearn.model_selection import train_test_split\n",
    "X_train, X_test, y_train, y_test = train_test_split(X, y, test_size=0.33, random_state=42)"
   ]
  },
  {
   "cell_type": "code",
   "execution_count": 170,
   "metadata": {},
   "outputs": [
    {
     "data": {
      "text/plain": [
       "((6700, 2), (6700, 2))"
      ]
     },
     "execution_count": 170,
     "metadata": {},
     "output_type": "execute_result"
    }
   ],
   "source": [
    "X_train.shape, y_train.shape"
   ]
  },
  {
   "cell_type": "code",
   "execution_count": 171,
   "metadata": {},
   "outputs": [],
   "source": [
    "in_size = 2\n",
    "hid_1_size = 3\n",
    "out_size = 2\n",
    "\n",
    "sizes = [in_size, hid_1_size, out_size]"
   ]
  },
  {
   "cell_type": "code",
   "execution_count": 172,
   "metadata": {},
   "outputs": [
    {
     "name": "stdout",
     "output_type": "stream",
     "text": [
      "W_l1 | Layer 1, with index 0\n",
      "[[0.14222247 0.08777354]\n",
      " [0.51887998 0.35993237]\n",
      " [0.96027368 0.70377222]]\n",
      "\n",
      "\n",
      "W_l2 | Layer 2, with index 1\n",
      "[[0.44599407 0.19220875 0.44288141]\n",
      " [0.46628642 0.00914256 0.25721541]]\n"
     ]
    }
   ],
   "source": [
    "W = []\n",
    "\n",
    "W.append(np.random.rand(sizes[1], sizes[0]))\n",
    "print(\"W_l1 | Layer 1, with index 0\")\n",
    "print(W[0])\n",
    "\n",
    "print(\"\\n\")\n",
    "\n",
    "W.append(np.random.rand(sizes[2], sizes[1]))\n",
    "print(\"W_l2 | Layer 2, with index 1\")\n",
    "print(W[1])"
   ]
  },
  {
   "cell_type": "code",
   "execution_count": 173,
   "metadata": {},
   "outputs": [
    {
     "name": "stdout",
     "output_type": "stream",
     "text": [
      "z_l1 | Layer 1, with index 0:\n",
      "[0. 0. 0.]\n",
      "a_l1 | Layer 1, with index 0:\n",
      "[0. 0. 0.]\n",
      "\n",
      "\n",
      "z_l2 | Layer 2, with index 1:\n",
      "[0. 0.]\n",
      "a_l2 = y | Layer 2, with index 1:\n",
      "[0. 0.]\n"
     ]
    }
   ],
   "source": [
    "z = []\n",
    "a = []\n",
    "\n",
    "# Layer 1, with index 0\n",
    "z.append(np.zeros(sizes[1]))\n",
    "a.append(np.zeros(sizes[1]))\n",
    "print(\"z_l1 | Layer 1, with index 0:\")\n",
    "print(z[0])\n",
    "print(\"a_l1 | Layer 1, with index 0:\")\n",
    "print(a[0])\n",
    "\n",
    "print(\"\\n\")\n",
    "\n",
    "# Layer 2, with index 1\n",
    "a.append(np.zeros(sizes[2]))\n",
    "z.append(np.zeros(sizes[2]))\n",
    "print(\"z_l2 | Layer 2, with index 1:\")\n",
    "print(z[1])\n",
    "print(\"a_l2 = y | Layer 2, with index 1:\")\n",
    "print(a[1])"
   ]
  },
  {
   "cell_type": "code",
   "execution_count": 174,
   "metadata": {},
   "outputs": [],
   "source": [
    "def forward(xi, log=False):\n",
    "\n",
    "    try:\n",
    "        \n",
    "        # Input\n",
    "        if log: print(\"Input x:\")\n",
    "        x = np.array([xi]).T\n",
    "        if log: print(x, \"\\n\")\n",
    "\n",
    "        # Layer 1\n",
    "        if log: print(\"Layer 1:\")\n",
    "        z[0] = W[0] @ x\n",
    "        a[0] = 1 / (1 + np.exp(-z[0]))\n",
    "        if log: print(\"W_l1\", \"\\n\", W[0], \"\\n\")\n",
    "        if log: print(\"z_l1\", \"\\n\", z[0], \"\\n\")\n",
    "        if log: print(\"a_l1\", \"\\n\", a[0], \"\\n\")\n",
    "\n",
    "        # Layer 2\n",
    "        if log: print(\"Layer 2:\")\n",
    "        z[1] = W[1] @ z[0]\n",
    "        a[1] = z[1]\n",
    "        if log: print(\"W_l2\", \"\\n\", W[1], \"\\n\")\n",
    "        if log: print(\"z_l2\", \"\\n\", z[1], \"\\n\")\n",
    "        if log: print(\"y\", \"\\n\", a[1], \"\\n\")\n",
    "\n",
    "        return a[1]\n",
    "\n",
    "    except Exception as e:\n",
    "        print(e)\n",
    "\n",
    "\n",
    "def loss_MSE(x, t, log=False):\n",
    "    # MSE\n",
    "    if log: print(\"t\" \"\\n\", t, \"\\n\")\n",
    "\n",
    "    try:\n",
    "        MSE = 0.5 * ( (t[0] - x[0])** 2 + (t[1] - x[1])** 2 )\n",
    "        return MSE\n",
    "    except Exception as e:\n",
    "        print(e)\n",
    "\n",
    "\n",
    "def backward(t):\n",
    "\n",
    "    # Initialization\n",
    "    W_grad = []\n",
    "    for w in W:\n",
    "        W_grad.append(np.zeros_like(w))\n",
    "\n",
    "    delta = []\n",
    "    for i in range(len(sizes)-1, 0, -1):\n",
    "        delta.append(np.zeros(sizes[i]))\n",
    "\n",
    "    # -------------------------------\n",
    "    # LAYER 2\n",
    "    # compute delta\n",
    "    for i in range(sizes[2]):\n",
    "        delta[0][i] = a[1][i] - t[i]\n",
    "\n",
    "    # compute W_grad\n",
    "    for i in range(sizes[2]):\n",
    "        for j in range(sizes[1]):\n",
    "            W_grad[1][i,j] = delta[0][i] * a[0][j]\n",
    "\n",
    "    # -------------------------------\n",
    "    # LAYER 1\n",
    "    # compute delta\n",
    "    for k in range(sizes[1]):\n",
    "        acc = 0\n",
    "        for i in range(sizes[2]):\n",
    "            acc += delta[0][i] * W[1][i,k] * a[0][k] * (1 - a[0][k])\n",
    "        delta[1][k] = acc\n",
    "\n",
    "    # compute W_grad\n",
    "    for i in range(sizes[1]):\n",
    "        for j in range(sizes[0]):\n",
    "            W_grad[0][i,j] = delta[1][i] * x[j]\n",
    "\n",
    "    # UPDATE WEIGHTS\n",
    "    mu = 0.001\n",
    "    for idx, w_grad in enumerate(W_grad):\n",
    "        W[idx] = W[idx] - mu * w_grad"
   ]
  },
  {
   "cell_type": "code",
   "execution_count": 175,
   "metadata": {},
   "outputs": [
    {
     "name": "stdout",
     "output_type": "stream",
     "text": [
      "Epoch: 0, \t Test loss: [8.19899298], \t Train loss: [8.16715936]\n",
      "Epoch: 10, \t Test loss: [9.21441521], \t Train loss: [9.17631165]\n",
      "Epoch: 20, \t Test loss: [7.57804078], \t Train loss: [7.54878726]\n",
      "Epoch: 30, \t Test loss: [4.60166452], \t Train loss: [4.58886274]\n",
      "Epoch: 40, \t Test loss: [2.96901776], \t Train loss: [2.9647239]\n",
      "Epoch: 50, \t Test loss: [2.08344114], \t Train loss: [2.08159684]\n",
      "Epoch: 60, \t Test loss: [1.39476739], \t Train loss: [1.39457178]\n",
      "Epoch: 70, \t Test loss: [1.02195455], \t Train loss: [1.02253527]\n",
      "Epoch: 80, \t Test loss: [0.84468959], \t Train loss: [0.84549832]\n",
      "Epoch: 90, \t Test loss: [0.73652368], \t Train loss: [0.73731545]\n"
     ]
    }
   ],
   "source": [
    "EPOCHS = 100\n",
    "for ep in range(EPOCHS):\n",
    "    for i in range(X_train.shape[0]):\n",
    "        target = y_train[i]\n",
    "        out = forward(X_train[i])\n",
    "        loss = loss_MSE(out, target)\n",
    "        backward(target)\n",
    "\n",
    "    if ep%10==0:\n",
    "        loss = 0\n",
    "        for j in range(X_train.shape[0]):\n",
    "            target = y_train[j]\n",
    "            out = forward(X_train[j])\n",
    "            loss += loss_MSE(out, target)\n",
    "        l_train = loss / X_train.shape[0]\n",
    "\n",
    "        loss = 0\n",
    "        for j in range(X_test.shape[0]):\n",
    "            target = y_test[j]\n",
    "            out = forward(X_test[j])\n",
    "            loss += loss_MSE(out, target)\n",
    "        l_test = loss / X_test.shape[0]\n",
    "\n",
    "        print(f\"Epoch: {ep}, \\t Test loss: {l_test}, \\t Train loss: {l_train}\")"
   ]
  },
  {
   "cell_type": "code",
   "execution_count": 176,
   "metadata": {},
   "outputs": [
    {
     "name": "stdout",
     "output_type": "stream",
     "text": [
      "input \t0.6383763072286476 0.6518822746930998\n",
      "target \t8.93838446451421 9.100256717461704\n",
      "out \t8.01401675569196 9.34169675446222\n",
      "loss \t[0.45637448] \n",
      "\n",
      "input \t0.28128818267820255 0.7480036204190365\n",
      "target \t4.163901508438085 10.202650108954385\n",
      "out \t4.198060363292309 10.280990324847666\n",
      "loss \t[0.00365201] \n",
      "\n",
      "input \t0.24375179333158525 0.817352116565939\n",
      "target \t3.6201780640641217 10.940052397044843\n",
      "out \t3.882675832233684 11.172381986463673\n",
      "loss \t[0.06144106] \n",
      "\n",
      "input \t0.019377383377478852 0.3005118174825214\n",
      "target \t0.29064256130922017 4.440136887750067\n",
      "out \t0.6495358812153941 4.039485908426303\n",
      "loss \t[0.14466281] \n",
      "\n",
      "input \t0.6023474066410743 0.14067727955521614\n",
      "target \t8.498674713603737 2.1032060345655736\n",
      "out \t6.875125942268951 2.467091883687906\n",
      "loss \t[1.38416176] \n",
      "\n"
     ]
    }
   ],
   "source": [
    "# Prediction\n",
    "for i in range(5):\n",
    "    out = forward(X_test[i])\n",
    "    loss = loss_MSE(out, y_test[i])\n",
    "    print(f\"input \\t{X_test[i][0]} {X_test[i][1]}\")\n",
    "    print(f\"target \\t{y_test[i][0]} {y_test[i][1]}\")\n",
    "    print(f\"out \\t{out[0][0]} {out[1][0]}\")\n",
    "    print(f\"loss \\t{loss} \\n\")"
   ]
  }
 ],
 "metadata": {
  "kernelspec": {
   "display_name": "Python 3",
   "language": "python",
   "name": "python3"
  },
  "language_info": {
   "codemirror_mode": {
    "name": "ipython",
    "version": 3
   },
   "file_extension": ".py",
   "mimetype": "text/x-python",
   "name": "python",
   "nbconvert_exporter": "python",
   "pygments_lexer": "ipython3",
   "version": "3.8.5"
  },
  "varInspector": {
   "cols": {
    "lenName": 16,
    "lenType": 16,
    "lenVar": 40
   },
   "kernels_config": {
    "python": {
     "delete_cmd_postfix": "",
     "delete_cmd_prefix": "del ",
     "library": "var_list.py",
     "varRefreshCmd": "print(var_dic_list())"
    },
    "r": {
     "delete_cmd_postfix": ") ",
     "delete_cmd_prefix": "rm(",
     "library": "var_list.r",
     "varRefreshCmd": "cat(var_dic_list()) "
    }
   },
   "types_to_exclude": [
    "module",
    "function",
    "builtin_function_or_method",
    "instance",
    "_Feature"
   ],
   "window_display": false
  },
  "vscode": {
   "interpreter": {
    "hash": "f7e374ee5e09e3e1c64a32e01379f0a0a71f66221bd3efaa81b204d4a8f2076c"
   }
  }
 },
 "nbformat": 4,
 "nbformat_minor": 2
}
