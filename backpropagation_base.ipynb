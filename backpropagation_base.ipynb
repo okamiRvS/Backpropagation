{
 "cells": [
  {
   "cell_type": "markdown",
   "metadata": {},
   "source": [
    "# Backpropagation Algorithm\n",
    "\n",
    "We will implement the following neural network."
   ]
  },
  {
   "cell_type": "markdown",
   "metadata": {},
   "source": [
    "![backpropagation](images/backpropagation.PNG)"
   ]
  },
  {
   "cell_type": "markdown",
   "metadata": {},
   "source": [
    "## Chain Rule Tree Diagram\n",
    "\n",
    "Open the following image in full view."
   ]
  },
  {
   "cell_type": "markdown",
   "metadata": {},
   "source": [
    "![chain_rule_tree_diagram](./images/chain_rule_tree_diagram.PNG)"
   ]
  },
  {
   "cell_type": "markdown",
   "metadata": {},
   "source": [
    "Mean squared error:\n",
    "\n",
    "$$\n",
    "\\begin{align*}\n",
    "    MSE &= \\frac{1}{2} \\sum^{1}_{n=0} (t_i - y_i)^2 \\\\\n",
    "    &= \\frac{1}{2} (t_0 - y_0)^2 + \\frac{1}{2} (t_1 - y_1)^2\n",
    "\\end{align*}\n",
    "$$"
   ]
  },
  {
   "cell_type": "markdown",
   "metadata": {},
   "source": [
    "In general:\n",
    "$$\n",
    "\\begin{align*}\n",
    "    \\frac{\\partial MSE}{\\partial y_{i}} &= -(t_i - y_i) \\\\\n",
    "    &= y_i - t_i \n",
    "\\end{align*}\n",
    "$$\n",
    "\n",
    "In specific case:\n",
    "$$\n",
    "\\begin{align*}\n",
    "    \\frac{\\partial MSE}{\\partial y_{0}} &= -(t_0 - y_0) \\\\\n",
    "    &= y_0 - t_0 \n",
    "\\end{align*}\n",
    "$$\n",
    "\n",
    "$$\n",
    "\\begin{align*}\n",
    "    \\frac{\\partial MSE}{\\partial y_{1}} &= -(t_1 - y_1) \\\\\n",
    "    &= y_1 - t_1 \n",
    "\\end{align*}\n",
    "$$"
   ]
  },
  {
   "cell_type": "markdown",
   "metadata": {},
   "source": [
    "Linear activation (before final output):\n",
    "$$\n",
    "\\begin{align*}\n",
    "    y_i &= z_i^{(L)}\n",
    "    \\hspace{35pt}\n",
    "    where\n",
    "    \\hspace{10pt}\n",
    "    \\{0, 1, ..., l, ..., L-1, L\\} \\,\\, layers\n",
    "\\end{align*}\n",
    "$$"
   ]
  },
  {
   "cell_type": "markdown",
   "metadata": {},
   "source": [
    "In general:\n",
    "$$\n",
    "\\begin{align*}\n",
    "    \\frac{\\partial y_i}{\\partial z^{(L)}_{i}} &= \\frac{\\partial a^{(L)}_i}{\\partial z^{(L)}_{i}} = 1 \\\\\n",
    "\\end{align*}\n",
    "$$\n",
    "\n",
    "In specific case:\n",
    "$$\n",
    "\\begin{align*}\n",
    "    \\frac{\\partial y_0}{\\partial z^{(L)}_{0}} &= \\frac{\\partial a^{(L)}_0}{\\partial z^{(L)}_{i}} = 1 \\\\\n",
    "\\end{align*}\n",
    "$$\n",
    "\n",
    "$$\n",
    "\\begin{align*}\n",
    "    \\frac{\\partial y_1}{\\partial z^{(L)}_{1}} &= \\frac{\\partial a^{(L)}_1}{\\partial z^{(L)}_{i}} = 1 \\\\\n",
    "\\end{align*}\n",
    "$$"
   ]
  },
  {
   "cell_type": "markdown",
   "metadata": {},
   "source": [
    "Before activation function:\n",
    "\n",
    "- In matrix form:\n",
    "$$\n",
    "\\begin{align*}\n",
    "    z^{(l)} &= W^{(l)}_{*} \\, a^{(l-1)}_{*} + b^{l} \\\\\n",
    "    &= W^{(l)} \\, a^{l-1}\n",
    "\\end{align*}\n",
    "$$\n",
    "\n",
    "Note that with a trick we can write:\n",
    "$$\n",
    "\\begin{align*}\n",
    "    z^{(l)} &= W^{(l)}_{*} \\, a^{l-1}_{*} + b^{l}\n",
    "    \\hspace{35pt}\n",
    "    where\n",
    "    \\hspace{10pt}\n",
    "    W^{(l)} \\in \\mathbb{R}^{M \\, x \\, N}, a^{(l-1)} \\in \\mathbb{R}^{N}, b^{(l)} \\in \\mathbb{R}^{M} \\\\\n",
    "    %\n",
    "    &=\n",
    "    \\begin{bmatrix}\n",
    "        w^{(l)}_{00} & w^{(l)}_{01} & \\dots & w^{(l)}_{0N} \\\\\n",
    "        w^{(l)}_{10} & w^{(l)}_{11} & \\dots & w^{(l)}_{1N} \\\\\n",
    "        \\vdots & \\vdots & & \\vdots \\\\\n",
    "        w^{(l)}_{M0} & w^{(l)}_{M1} & \\dots & w^{(l)}_{MN}\n",
    "    \\end{bmatrix}\n",
    "    %\n",
    "    \\begin{bmatrix}\n",
    "        a^{(l-1)}_{0} \\\\\n",
    "        a^{(l-1)}_{1} \\\\\n",
    "        \\vdots \\\\\n",
    "        a^{(l-1)}_{N}\n",
    "    \\end{bmatrix}\n",
    "    %\n",
    "    +\n",
    "    \\begin{bmatrix}\n",
    "        b^{(l)}_{0} \\\\\n",
    "        b^{(l)}_{1} \\\\\n",
    "        \\vdots \\\\\n",
    "        b^{(l)}_{M}\n",
    "    \\end{bmatrix} \\\\\n",
    "    % \n",
    "    &=\n",
    "    \\begin{bmatrix}\n",
    "        w^{(l)}_{00} a^{(l-1)}_{0} + w^{(l)}_{01} a^{(l-1)}_{1} + \\dots + w^{(l)}_{0N} a^{(l-1)}_{N} \\\\\n",
    "        w^{(l)}_{10} a^{(l-1)}_{0} + w^{(l)}_{11} a^{(l-1)}_{1} + \\dots + w^{(l)}_{1N} a^{(l-1)}_{N} \\\\\n",
    "        \\vdots \\\\\n",
    "        w^{(l)}_{M0} a^{(l-1)}_{0} + w^{(l)}_{M1} a^{(l-1)}_{1} + \\dots + w^{(l)}_{MN} a^{(l-1)}_{N}\n",
    "    \\end{bmatrix}\n",
    "    %\n",
    "    +\n",
    "    \\begin{bmatrix}\n",
    "        b^{(l)}_{0} \\\\\n",
    "        b^{(l)}_{1} \\\\\n",
    "        \\vdots \\\\\n",
    "        b^{(l)}_{M}\n",
    "    \\end{bmatrix} \\\\\n",
    "    %\n",
    "    &=\n",
    "    \\begin{bmatrix}\n",
    "        w^{(l)}_{00} a^{(l-1)}_{0} + w^{(l)}_{01} a^{(l-1)}_{1} + \\dots + w^{(l)}_{0N} a^{(l-1)}_{N} + 1b^{(l)}_{0} \\\\\n",
    "        w^{(l)}_{10} a^{(l-1)}_{0} + w^{(l)}_{11} a^{(l-1)}_{1} + \\dots + w^{(l)}_{1N} a^{(l-1)}_{N} + 1b^{(l)}_{1} \\\\\n",
    "        \\vdots \\\\\n",
    "        w^{(l)}_{M0} a^{(l-1)}_{0} + w^{(l)}_{M1} a^{(l-1)}_{1} + \\dots + w^{(l)}_{MN} a^{(l-1)}_{N} + 1b^{(l)}_{M}\n",
    "    \\end{bmatrix} \\\\\n",
    "    %\n",
    "    &=\n",
    "    \\begin{bmatrix}\n",
    "        w^{(l)}_{00} & w^{(l)}_{01} & \\dots & w^{(l)}_{0N} & b^{(l)}_{0} \\\\\n",
    "        w^{(l)}_{10} & w^{(l)}_{11} & \\dots & w^{(l)}_{1N} & b^{(l)}_{1} \\\\\n",
    "        \\vdots & \\vdots & & \\vdots \\\\\n",
    "        w^{(l)}_{M0} & w^{(l)}_{M1} & \\dots & w^{(l)}_{MN} & b^{(l)}_{M}\n",
    "    \\end{bmatrix}\n",
    "    %\n",
    "    \\begin{bmatrix}\n",
    "        a^{(l-1)}_{0} \\\\\n",
    "        a^{(l-1)}_{1} \\\\\n",
    "        \\vdots \\\\\n",
    "        a^{(l-1)}_{N} \\\\\n",
    "        1\n",
    "    \\end{bmatrix} \\\\\n",
    "    %\n",
    "    &=\n",
    "    \\begin{bmatrix}\n",
    "        w^{(l)}_{00} & w^{(l)}_{01} & \\dots & w^{(l)}_{0N} & w^{(l)}_{0(N+1)} \\\\\n",
    "        w^{(l)}_{10} & w^{(l)}_{11} & \\dots & w^{(l)}_{1N} & w^{(l)}_{1(N+1)} \\\\\n",
    "        \\vdots & \\vdots & & \\vdots \\\\\n",
    "        w^{(l)}_{M0} & w^{(l)}_{M1} & \\dots & w^{(l)}_{MN} & w^{(l)}_{M(N+1)}\n",
    "    \\end{bmatrix}\n",
    "    %\n",
    "    \\begin{bmatrix}\n",
    "        a^{(l-1)}_{0} \\\\\n",
    "        a^{(l-1)}_{1} \\\\\n",
    "        \\vdots \\\\\n",
    "        a^{(l-1)}_{N} \\\\\n",
    "        a^{(l-1)}_{N+1}\n",
    "    \\end{bmatrix} \\\\\n",
    "    %\n",
    "    &= \n",
    "    W^{(l)} \\, a^{l-1}\n",
    "\\end{align*}\n",
    "$$"
   ]
  },
  {
   "cell_type": "markdown",
   "metadata": {},
   "source": [
    "- For instante, we fix $l=2$ (that is last layer $L$), therefore we want compute between last layer and middle layer:\n",
    "\n",
    "$$\n",
    "\\begin{align*}\n",
    "    z^{(l)} &= W^{(l)} \\, a^{l-1} \\\\\n",
    "    &= W^{(2)} \\, a^{1} \\\\\n",
    "    &=\n",
    "    \\begin{bmatrix}\n",
    "        w^{(2)}_{00} & w^{(2)}_{01} & w^{(2)}_{02} & b^{(2)}_{0} \\\\\n",
    "        w^{(2)}_{10} & w^{(2)}_{11} & w^{(2)}_{12} & b^{(2)}_{1}\n",
    "    \\end{bmatrix}\n",
    "    %\n",
    "    \\begin{bmatrix}\n",
    "        a^{(1)}_{0} \\\\\n",
    "        a^{(1)}_{1} \\\\\n",
    "        a^{(1)}_{2} \\\\\n",
    "        1\n",
    "    \\end{bmatrix} \\\\\n",
    "    % \n",
    "    &=\n",
    "    \\begin{bmatrix}\n",
    "        w^{(2)}_{00} & w^{(2)}_{01} & w^{(2)}_{02} & w^{(2)}_{03} \\\\\n",
    "        w^{(2)}_{10} & w^{(2)}_{11} & w^{(2)}_{12} & w^{(2)}_{13}\n",
    "    \\end{bmatrix}\n",
    "    %\n",
    "    \\begin{bmatrix}\n",
    "        a^{(1)}_{0} \\\\\n",
    "        a^{(1)}_{1} \\\\\n",
    "        a^{(1)}_{2} \\\\\n",
    "        a^{(1)}_{3}\n",
    "    \\end{bmatrix} \\\\\n",
    "    % \n",
    "    &=\n",
    "    \\begin{bmatrix}\n",
    "        w^{(2)}_{00} a^{(1)}_{0} + w^{(2)}_{01} a^{(1)}_{1} + w^{(2)}_{02} a^{(1)}_{2} + w^{(2)}_{03} a^{(1)}_{3} \\\\\n",
    "        w^{(2)}_{10} a^{(1)}_{0} + w^{(2)}_{11} a^{(1)}_{1} + w^{(2)}_{12} a^{(1)}_{2} + w^{(2)}_{13} a^{(1)}_{3}\n",
    "    \\end{bmatrix} \\\\\n",
    "    %\n",
    "    &=\n",
    "    \\begin{bmatrix}\n",
    "        z^{(2)}_{0} \\\\\n",
    "        z^{(2)}_{1}\n",
    "    \\end{bmatrix}\n",
    "\\end{align*}\n",
    "$$"
   ]
  },
  {
   "cell_type": "markdown",
   "metadata": {},
   "source": [
    "- For instante, we fix $l=1$, therefore we want compute between middle layer and input:\n",
    "\n",
    "$$\n",
    "\\begin{align*}\n",
    "    z^{(l)} &= W^{(l)} \\, a^{l-1} \\\\\n",
    "    &= W^{(1)} \\, a^{0} \\\\\n",
    "    &= W^{(1)} \\, x \\\\  \n",
    "    &=\n",
    "    \\begin{bmatrix}\n",
    "        w^{(1)}_{00} & w^{(1)}_{01} & b^{(1)}_{0} \\\\\n",
    "        w^{(1)}_{10} & w^{(1)}_{11} & b^{(1)}_{1} \\\\\n",
    "        w^{(1)}_{20} & w^{(1)}_{21} & b^{(1)}_{2}\n",
    "    \\end{bmatrix}\n",
    "    %\n",
    "    \\begin{bmatrix}\n",
    "        x_{0} \\\\\n",
    "        x_{1} \\\\\n",
    "        1\n",
    "    \\end{bmatrix} \\\\\n",
    "    %\n",
    "    &=\n",
    "    \\begin{bmatrix}\n",
    "        w^{(1)}_{00} & w^{(1)}_{01} & w^{(1)}_{02} \\\\\n",
    "        w^{(1)}_{10} & w^{(1)}_{11} & w^{(1)}_{12} \\\\\n",
    "        w^{(1)}_{20} & w^{(1)}_{21} & w^{(1)}_{22}\n",
    "    \\end{bmatrix}\n",
    "    %\n",
    "    \\begin{bmatrix}\n",
    "        x_{0} \\\\\n",
    "        x_{1} \\\\\n",
    "        x_{2}\n",
    "    \\end{bmatrix} \\\\\n",
    "    %\n",
    "    &=\n",
    "    \\begin{bmatrix}\n",
    "        w^{(1)}_{00} x_{0} + w^{(1)}_{01} x_{1} + w^{(1)}_{02} x_{2} \\\\\n",
    "        w^{(1)}_{10} x_{0} + w^{(1)}_{11} x_{1} + w^{(1)}_{12} x_{2} \\\\\n",
    "        w^{(1)}_{20} x_{0} + w^{(1)}_{21} x_{1} + w^{(1)}_{22} x_{2}\n",
    "    \\end{bmatrix} \\\\\n",
    "    %\n",
    "    &=\n",
    "    \\begin{bmatrix}\n",
    "        z^{(1)}_{0} \\\\\n",
    "        z^{(1)}_{1} \\\\\n",
    "        z^{(1)}_{2}\n",
    "    \\end{bmatrix}\n",
    "\\end{align*}\n",
    "$$"
   ]
  },
  {
   "cell_type": "markdown",
   "metadata": {},
   "source": [
    "Therefore, we understood that $b$ is just a weight that has always $1$ as input."
   ]
  },
  {
   "cell_type": "markdown",
   "metadata": {},
   "source": [
    "- In scalar form:\n",
    "$$\n",
    "\\begin{align*}\n",
    "    z^{(l)}_{i} &= \\sum^{len(l)}_{i=0} \\sum^{len(l-1)}_{j=0} w^{(l)}_{ij} \\, a^{(l-1)}_{j} \\\\\n",
    "\\end{align*}\n",
    "$$\n",
    "\n",
    "$$\n",
    "\\begin{align*}\n",
    "    z^{(2)}_{0} &= w^{(2)}_{00} a^{(1)}_{0} + w^{(2)}_{01} a^{(1)}_{1} + w^{(2)}_{02} a^{(1)}_{2} + w^{(2)}_{03} a^{(1)}_{3} \\\\\n",
    "    z^{(2)}_{1} &= w^{(2)}_{10} a^{(1)}_{0} + w^{(2)}_{11} a^{(1)}_{1} + w^{(2)}_{12} a^{(1)}_{2} + w^{(2)}_{13} a^{(1)}_{3} \\\\\n",
    "    \\\\\n",
    "    z^{(1)}_{0} &= w^{(1)}_{00} x_{0} + w^{(1)}_{01} x_{1} + w^{(1)}_{02} x_{2} \\\\\n",
    "    z^{(1)}_{1} &= w^{(1)}_{10} x_{0} + w^{(1)}_{11} x_{1} + w^{(1)}_{12} x_{2} \\\\\n",
    "    z^{(1)}_{2} &= w^{(1)}_{20} x_{0} + w^{(1)}_{21} x_{1} + w^{(1)}_{22} x_{2}\n",
    "\\end{align*}\n",
    "$$"
   ]
  },
  {
   "cell_type": "markdown",
   "metadata": {},
   "source": [
    "In general:\n",
    "\n",
    "$$\n",
    "\\begin{align*}\n",
    "    \\frac{\\partial z^{(l)}_{i}}{\\partial a^{(l-1)}_{j}} = w_{ij}^{(l)}\n",
    "    \\hspace{35pt}\n",
    "    where\n",
    "    \\hspace{10pt}\n",
    "    a^{(0)}_{j} = x_j\n",
    "\\end{align*}\n",
    "$$"
   ]
  },
  {
   "cell_type": "markdown",
   "metadata": {},
   "source": [
    "In specific case:\n",
    "\n",
    "$l=2$\n",
    "\n",
    "$$\n",
    "\\begin{align*}\n",
    "    \\frac{\\partial z^{(2)}_{0}}{\\partial a^{(1)}_{0}} = w_{00}^{(2)} &&&&\n",
    "    \\frac{\\partial z^{(2)}_{0}}{\\partial a^{(1)}_{1}} = w_{01}^{(2)} &&&&\n",
    "    \\frac{\\partial z^{(2)}_{0}}{\\partial a^{(1)}_{2}} = w_{02}^{(2)} &&&&\n",
    "    \\frac{\\partial z^{(2)}_{0}}{\\partial a^{(1)}_{3}} = w_{03}^{(2)} \\\\\n",
    "    \\\\\n",
    "    \\frac{\\partial z^{(2)}_{1}}{\\partial a^{(1)}_{0}} = w_{10}^{(2)} &&&&\n",
    "    \\frac{\\partial z^{(2)}_{1}}{\\partial a^{(1)}_{1}} = w_{11}^{(2)} &&&&\n",
    "    \\frac{\\partial z^{(2)}_{1}}{\\partial a^{(1)}_{2}} = w_{12}^{(2)} &&&&\n",
    "    \\frac{\\partial z^{(2)}_{1}}{\\partial a^{(1)}_{3}} = w_{13}^{(2)}\n",
    "\\end{align*}\n",
    "$$"
   ]
  },
  {
   "cell_type": "markdown",
   "metadata": {},
   "source": [
    "$l=1$\n",
    "\n",
    "$$\n",
    "\\begin{align*}\n",
    "    \\frac{\\partial z^{(1)}_{0}}{\\partial a^{(1)}_{0}} = \\frac{\\partial z^{(1)}_{0}}{\\partial x_{0}} = w_{00}^{(1)} &&&&\n",
    "    \\frac{\\partial z^{(1)}_{0}}{\\partial a^{(1)}_{1}} = \\frac{\\partial z^{(1)}_{0}}{\\partial x_{1}} = w_{01}^{(1)} &&&&\n",
    "    \\frac{\\partial z^{(1)}_{0}}{\\partial a^{(1)}_{2}} = \\frac{\\partial z^{(1)}_{0}}{\\partial x_{2}} = w_{02}^{(1)} \\\\\n",
    "    \\\\\n",
    "    \\frac{\\partial z^{(1)}_{1}}{\\partial a^{(1)}_{0}} = \\frac{\\partial z^{(1)}_{1}}{\\partial x_{0}} = w_{10}^{(1)} &&&&\n",
    "    \\frac{\\partial z^{(1)}_{1}}{\\partial a^{(1)}_{1}} = \\frac{\\partial z^{(1)}_{1}}{\\partial x_{1}} = w_{11}^{(1)} &&&&\n",
    "    \\frac{\\partial z^{(1)}_{1}}{\\partial a^{(1)}_{2}} = \\frac{\\partial z^{(1)}_{1}}{\\partial x_{2}} = w_{12}^{(1)} \\\\\n",
    "    \\\\\n",
    "    \\frac{\\partial z^{(1)}_{2}}{\\partial a^{(1)}_{0}} = \\frac{\\partial z^{(1)}_{2}}{\\partial x_{0}} = w_{20}^{(1)} &&&&\n",
    "    \\frac{\\partial z^{(1)}_{2}}{\\partial a^{(1)}_{1}} = \\frac{\\partial z^{(1)}_{2}}{\\partial x_{1}} = w_{21}^{(1)} &&&&\n",
    "    \\frac{\\partial z^{(1)}_{2}}{\\partial a^{(1)}_{2}} = \\frac{\\partial z^{(1)}_{2}}{\\partial x_{2}} = w_{22}^{(1)}\n",
    "\\end{align*}\n",
    "$$"
   ]
  },
  {
   "cell_type": "markdown",
   "metadata": {},
   "source": [
    "In general:\n",
    "\n",
    "$$\n",
    "\\begin{align*}\n",
    "    \\frac{\\partial z^{(l)}_{i}}{\\partial w^{(l)}_{ij}} = a^{(l-1)}_{j}\n",
    "    \\hspace{35pt}\n",
    "    where\n",
    "    \\hspace{10pt}\n",
    "    a^{(0)}_{j} = x_j\n",
    "\\end{align*}\n",
    "$$"
   ]
  },
  {
   "cell_type": "markdown",
   "metadata": {},
   "source": [
    "In specific case:\n",
    "\n",
    "$l=2$\n",
    "\n",
    "$$\n",
    "\\begin{align*}\n",
    "    \\frac{\\partial z^{(2)}_{0}}{\\partial w_{00}^{(2)}} = a^{(1)}_{0} &&&&\n",
    "    \\frac{\\partial z^{(2)}_{0}}{\\partial w_{01}^{(2)}} = a^{(1)}_{1} &&&&\n",
    "    \\frac{\\partial z^{(2)}_{0}}{\\partial w_{02}^{(2)}} = a^{(1)}_{2} &&&&\n",
    "    \\frac{\\partial z^{(2)}_{0}}{\\partial w_{03}^{(2)}} = a^{(1)}_{3} \n",
    "    \\\\\n",
    "    \\frac{\\partial z^{(2)}_{1}}{\\partial w_{10}^{(2)}} = a^{(1)}_{0} &&&&\n",
    "    \\frac{\\partial z^{(2)}_{1}}{\\partial w_{11}^{(2)}} = a^{(1)}_{1} &&&&\n",
    "    \\frac{\\partial z^{(2)}_{1}}{\\partial w_{12}^{(2)}} = a^{(1)}_{2} &&&&\n",
    "    \\frac{\\partial z^{(2)}_{1}}{\\partial w_{13}^{(2)}} = a^{(1)}_{3}\n",
    "\\end{align*}\n",
    "$$"
   ]
  },
  {
   "cell_type": "markdown",
   "metadata": {},
   "source": [
    "$l=2$\n",
    "\n",
    "$$\n",
    "\\begin{align*}\n",
    "    \\frac{\\partial z^{(1)}_{0}}{\\partial w_{00}^{(1)}} = a^{(1)}_{0} = x_{0} &&&&\n",
    "    \\frac{\\partial z^{(1)}_{0}}{\\partial w_{01}^{(1)}} = a^{(1)}_{1} = x_{1} &&&&\n",
    "    \\frac{\\partial z^{(1)}_{0}}{\\partial w_{02}^{(1)}} = a^{(1)}_{2} = x_{2} \\\\\n",
    "    \\\\\n",
    "    \\frac{\\partial z^{(1)}_{1}}{\\partial w_{10}^{(1)}} = a^{(1)}_{0} = x_{0} &&&&\n",
    "    \\frac{\\partial z^{(1)}_{1}}{\\partial w_{11}^{(1)}} = a^{(1)}_{1} = x_{1} &&&&\n",
    "    \\frac{\\partial z^{(1)}_{1}}{\\partial w_{12}^{(1)}} = a^{(1)}_{2} = x_{2} \\\\\n",
    "    \\\\\n",
    "    \\frac{\\partial z^{(1)}_{2}}{\\partial w_{20}^{(1)}} = a^{(1)}_{0} = x_{0} &&&&\n",
    "    \\frac{\\partial z^{(1)}_{2}}{\\partial w_{21}^{(1)}} = a^{(1)}_{1} = x_{1} &&&&\n",
    "    \\frac{\\partial z^{(1)}_{2}}{\\partial w_{22}^{(2)}} = a^{(1)}_{2} = x_{2}\n",
    "\\end{align*}\n",
    "$$"
   ]
  },
  {
   "cell_type": "markdown",
   "metadata": {},
   "source": [
    "Activation function:\n",
    "$$\n",
    "\\begin{align*}\n",
    "    a^{(l)}_{i} = \\frac{1}{1 + e^{-z^{(l)}_{i}}} \\\\\n",
    "\\end{align*}\n",
    "$$"
   ]
  },
  {
   "cell_type": "markdown",
   "metadata": {},
   "source": [
    "In general:\n",
    "\n",
    "$$\n",
    "\\begin{align*}\n",
    "    \\frac{\\partial a^{(l)}_{i}}{\\partial z^{(l)}_{i}} = a^{(l)}_{i} (1 - a^{(l)}_{i})\n",
    "    \\hspace{35pt}\n",
    "    where\n",
    "    \\hspace{10pt}\n",
    "    1 \\le l < L\n",
    "\\end{align*}\n",
    "$$\n",
    "\n",
    "Note that for $L=2$ we have linear activation that we compute in a different way, as we have already seen before. But for the hidden layer we have the no linear activation functions."
   ]
  },
  {
   "cell_type": "markdown",
   "metadata": {},
   "source": [
    "Update weights for $l=2$:\n",
    "$$\n",
    "\\begin{align*}\n",
    "    \\frac{\\partial MSE}{\\partial w^{(2)}_{00}} = \n",
    "    \\frac{\\partial MSE}{\\partial y^{(2)}_{0}} \\,\n",
    "    \\frac{\\partial y^{(2)}_{0}}{\\partial z^{(2)}_{0}} \\,\n",
    "    \\frac{\\partial z^{(2)}_{0}}{\\partial w^{(2)}_{00}} &&&&\n",
    "    \\frac{\\partial MSE}{\\partial w^{(2)}_{01}} = \n",
    "    \\frac{\\partial MSE}{\\partial y^{(2)}_{0}} \\,\n",
    "    \\frac{\\partial y^{(2)}_{0}}{\\partial z^{(2)}_{0}} \\,\n",
    "    \\frac{\\partial z^{(2)}_{0}}{\\partial w^{(2)}_{01}} &&&&\n",
    "    \\frac{\\partial MSE}{\\partial w^{(2)}_{02}} = \n",
    "    \\frac{\\partial MSE}{\\partial y^{(2)}_{0}} \\,\n",
    "    \\frac{\\partial y^{(2)}_{0}}{\\partial z^{(2)}_{0}} \\,\n",
    "    \\frac{\\partial z^{(2)}_{0}}{\\partial w^{(2)}_{02}} &&&&\n",
    "    \\frac{\\partial MSE}{\\partial w^{(2)}_{03}} = \n",
    "    \\frac{\\partial MSE}{\\partial y^{(2)}_{0}} \\,\n",
    "    \\frac{\\partial y^{(2)}_{0}}{\\partial z^{(2)}_{0}} \\,\n",
    "    \\frac{\\partial z^{(2)}_{0}}{\\partial w^{(2)}_{03}}\n",
    "\\end{align*}\n",
    "$$"
   ]
  },
  {
   "cell_type": "markdown",
   "metadata": {},
   "source": [
    "$$\n",
    "\\begin{align*}\n",
    "    \\frac{\\partial MSE}{\\partial w^{(2)}_{10}} = \n",
    "    \\frac{\\partial MSE}{\\partial y^{(2)}_{1}} \\,\n",
    "    \\frac{\\partial y^{(2)}_{1}}{\\partial z^{(2)}_{1}} \\,\n",
    "    \\frac{\\partial z^{(2)}_{1}}{\\partial w^{(2)}_{10}} &&&&\n",
    "    \\frac{\\partial MSE}{\\partial w^{(2)}_{11}} = \n",
    "    \\frac{\\partial MSE}{\\partial y^{(2)}_{1}} \\,\n",
    "    \\frac{\\partial y^{(2)}_{1}}{\\partial z^{(2)}_{1}} \\,\n",
    "    \\frac{\\partial z^{(2)}_{1}}{\\partial w^{(2)}_{11}} &&&&\n",
    "    \\frac{\\partial MSE}{\\partial w^{(2)}_{12}} = \n",
    "    \\frac{\\partial MSE}{\\partial y^{(2)}_{1}} \\,\n",
    "    \\frac{\\partial y^{(2)}_{1}}{\\partial z^{(2)}_{1}} \\,\n",
    "    \\frac{\\partial z^{(2)}_{1}}{\\partial w^{(2)}_{12}} &&&&\n",
    "    \\frac{\\partial MSE}{\\partial w^{(2)}_{13}} = \n",
    "    \\frac{\\partial MSE}{\\partial y^{(2)}_{1}} \\,\n",
    "    \\frac{\\partial y^{(2)}_{1}}{\\partial z^{(2)}_{1}} \\,\n",
    "    \\frac{\\partial z^{(2)}_{1}}{\\partial w^{(2)}_{13}}\n",
    "\\end{align*}\n",
    "$$"
   ]
  },
  {
   "cell_type": "markdown",
   "metadata": {},
   "source": [
    "Update weights for $l=1$:\n",
    "$$\n",
    "\\begin{align*}\n",
    "    \\frac{\\partial MSE}{\\partial w^{(1)}_{00}} &= \n",
    "    \\frac{\\partial MSE}{\\partial y^{(2)}_{0}} \\,\n",
    "    \\frac{\\partial y^{(2)}_{0}}{\\partial z^{(2)}_{0}} \\, \n",
    "    \\frac{\\partial z^{(2)}_{0}}{\\partial a^{(1)}_{0}} \\,\n",
    "    \\frac{\\partial a^{(1)}_{0}}{\\partial z^{(1)}_{0}} \\,\n",
    "    \\frac{\\partial z^{(1)}_{0}}{\\partial w^{(1)}_{00}} + &&&&&\n",
    "    %\n",
    "    \\frac{\\partial MSE}{\\partial w^{(1)}_{01}} &= \n",
    "    \\frac{\\partial MSE}{\\partial y^{(2)}_{0}} \\,\n",
    "    \\frac{\\partial y^{(2)}_{0}}{\\partial z^{(2)}_{0}} \\, \n",
    "    \\frac{\\partial z^{(2)}_{0}}{\\partial a^{(1)}_{0}} \\,\n",
    "    \\frac{\\partial a^{(1)}_{0}}{\\partial z^{(1)}_{0}} \\,\n",
    "    \\frac{\\partial z^{(1)}_{0}}{\\partial w^{(1)}_{01}} + &&&&\n",
    "    %\n",
    "    \\frac{\\partial MSE}{\\partial w^{(1)}_{02}} &= \n",
    "    \\frac{\\partial MSE}{\\partial y^{(2)}_{0}} \\,\n",
    "    \\frac{\\partial y^{(2)}_{0}}{\\partial z^{(2)}_{0}} \\, \n",
    "    \\frac{\\partial z^{(2)}_{0}}{\\partial a^{(1)}_{0}} \\,\n",
    "    \\frac{\\partial a^{(1)}_{0}}{\\partial z^{(1)}_{0}} \\,\n",
    "    \\frac{\\partial z^{(1)}_{0}}{\\partial w^{(1)}_{02}} + \\\\\n",
    "    %\n",
    "    &\n",
    "    \\frac{\\partial MSE}{\\partial y^{(2)}_{1}} \\,\n",
    "    \\frac{\\partial y^{(2)}_{1}}{\\partial z^{(2)}_{1}} \\, \n",
    "    \\frac{\\partial z^{(2)}_{1}}{\\partial a^{(1)}_{0}} \\,\n",
    "    \\frac{\\partial a^{(1)}_{0}}{\\partial z^{(1)}_{0}} \\,\n",
    "    \\frac{\\partial z^{(1)}_{0}}{\\partial w^{(1)}_{00}} &&&&&\n",
    "    %\n",
    "    &\n",
    "    \\frac{\\partial MSE}{\\partial y^{(2)}_{1}} \\,\n",
    "    \\frac{\\partial y^{(2)}_{1}}{\\partial z^{(2)}_{1}} \\, \n",
    "    \\frac{\\partial z^{(2)}_{1}}{\\partial a^{(1)}_{0}} \\,\n",
    "    \\frac{\\partial a^{(1)}_{0}}{\\partial z^{(1)}_{0}} \\,\n",
    "    \\frac{\\partial z^{(1)}_{0}}{\\partial w^{(1)}_{01}} &&&&\n",
    "    %\n",
    "    &\n",
    "    \\frac{\\partial MSE}{\\partial y^{(2)}_{1}} \\,\n",
    "    \\frac{\\partial y^{(2)}_{1}}{\\partial z^{(2)}_{1}} \\, \n",
    "    \\frac{\\partial z^{(2)}_{1}}{\\partial a^{(1)}_{0}} \\,\n",
    "    \\frac{\\partial a^{(1)}_{0}}{\\partial z^{(1)}_{0}} \\,\n",
    "    \\frac{\\partial z^{(1)}_{0}}{\\partial w^{(1)}_{02}}\n",
    "\\end{align*}\n",
    "$$"
   ]
  },
  {
   "cell_type": "markdown",
   "metadata": {},
   "source": [
    "\n",
    "$$\n",
    "\\begin{align*}\n",
    "    \\frac{\\partial MSE}{\\partial w^{(1)}_{10}} &= \n",
    "    \\frac{\\partial MSE}{\\partial y^{(2)}_{0}} \\,\n",
    "    \\frac{\\partial y^{(2)}_{0}}{\\partial z^{(2)}_{0}} \\, \n",
    "    \\frac{\\partial z^{(2)}_{0}}{\\partial a^{(1)}_{1}} \\,\n",
    "    \\frac{\\partial a^{(1)}_{1}}{\\partial z^{(1)}_{1}} \\,\n",
    "    \\frac{\\partial z^{(1)}_{1}}{\\partial w^{(1)}_{10}} + &&&&&\n",
    "    %\n",
    "    \\frac{\\partial MSE}{\\partial w^{(1)}_{11}} &= \n",
    "    \\frac{\\partial MSE}{\\partial y^{(2)}_{0}} \\,\n",
    "    \\frac{\\partial y^{(2)}_{0}}{\\partial z^{(2)}_{0}} \\, \n",
    "    \\frac{\\partial z^{(2)}_{0}}{\\partial a^{(1)}_{1}} \\,\n",
    "    \\frac{\\partial a^{(1)}_{1}}{\\partial z^{(1)}_{1}} \\,\n",
    "    \\frac{\\partial z^{(1)}_{1}}{\\partial w^{(1)}_{11}} + &&&&\n",
    "    %\n",
    "    \\frac{\\partial MSE}{\\partial w^{(1)}_{12}} &= \n",
    "    \\frac{\\partial MSE}{\\partial y^{(2)}_{0}} \\,\n",
    "    \\frac{\\partial y^{(2)}_{0}}{\\partial z^{(2)}_{0}} \\, \n",
    "    \\frac{\\partial z^{(2)}_{0}}{\\partial a^{(1)}_{1}} \\,\n",
    "    \\frac{\\partial a^{(1)}_{1}}{\\partial z^{(1)}_{1}} \\,\n",
    "    \\frac{\\partial z^{(1)}_{1}}{\\partial w^{(1)}_{12}} + \\\\\n",
    "    %\n",
    "    &\n",
    "    \\frac{\\partial MSE}{\\partial y^{(2)}_{1}} \\,\n",
    "    \\frac{\\partial y^{(2)}_{1}}{\\partial z^{(2)}_{1}} \\, \n",
    "    \\frac{\\partial z^{(2)}_{1}}{\\partial a^{(1)}_{1}} \\,\n",
    "    \\frac{\\partial a^{(1)}_{1}}{\\partial z^{(1)}_{1}} \\,\n",
    "    \\frac{\\partial z^{(1)}_{1}}{\\partial w^{(1)}_{10}} &&&&&\n",
    "    %\n",
    "    &\n",
    "    \\frac{\\partial MSE}{\\partial y^{(2)}_{1}} \\,\n",
    "    \\frac{\\partial y^{(2)}_{1}}{\\partial z^{(2)}_{1}} \\, \n",
    "    \\frac{\\partial z^{(2)}_{1}}{\\partial a^{(1)}_{1}} \\,\n",
    "    \\frac{\\partial a^{(1)}_{1}}{\\partial z^{(1)}_{1}} \\,\n",
    "    \\frac{\\partial z^{(1)}_{1}}{\\partial w^{(1)}_{11}} &&&&\n",
    "    %\n",
    "    &\n",
    "    \\frac{\\partial MSE}{\\partial y^{(2)}_{1}} \\,\n",
    "    \\frac{\\partial y^{(2)}_{1}}{\\partial z^{(2)}_{1}} \\, \n",
    "    \\frac{\\partial z^{(2)}_{1}}{\\partial a^{(1)}_{1}} \\,\n",
    "    \\frac{\\partial a^{(1)}_{1}}{\\partial z^{(1)}_{1}} \\,\n",
    "    \\frac{\\partial z^{(1)}_{1}}{\\partial w^{(1)}_{12}}\n",
    "\\end{align*}\n",
    "$$\n"
   ]
  },
  {
   "cell_type": "markdown",
   "metadata": {},
   "source": [
    "$$\n",
    "\\begin{align*}\n",
    "    \\frac{\\partial MSE}{\\partial w^{(1)}_{20}} &= \n",
    "    \\frac{\\partial MSE}{\\partial y^{(2)}_{0}} \\,\n",
    "    \\frac{\\partial y^{(2)}_{0}}{\\partial z^{(2)}_{0}} \\, \n",
    "    \\frac{\\partial z^{(2)}_{0}}{\\partial a^{(1)}_{2}} \\,\n",
    "    \\frac{\\partial a^{(1)}_{2}}{\\partial z^{(1)}_{2}} \\,\n",
    "    \\frac{\\partial z^{(1)}_{2}}{\\partial w^{(1)}_{10}} + &&&&&\n",
    "    %\n",
    "    \\frac{\\partial MSE}{\\partial w^{(1)}_{21}} &= \n",
    "    \\frac{\\partial MSE}{\\partial y^{(2)}_{0}} \\,\n",
    "    \\frac{\\partial y^{(2)}_{0}}{\\partial z^{(2)}_{0}} \\, \n",
    "    \\frac{\\partial z^{(2)}_{0}}{\\partial a^{(1)}_{2}} \\,\n",
    "    \\frac{\\partial a^{(1)}_{2}}{\\partial z^{(1)}_{2}} \\,\n",
    "    \\frac{\\partial z^{(1)}_{2}}{\\partial w^{(1)}_{11}} + &&&&\n",
    "    %\n",
    "    \\frac{\\partial MSE}{\\partial w^{(1)}_{22}} &= \n",
    "    \\frac{\\partial MSE}{\\partial y^{(2)}_{0}} \\,\n",
    "    \\frac{\\partial y^{(2)}_{0}}{\\partial z^{(2)}_{0}} \\, \n",
    "    \\frac{\\partial z^{(2)}_{0}}{\\partial a^{(1)}_{2}} \\,\n",
    "    \\frac{\\partial a^{(1)}_{2}}{\\partial z^{(1)}_{2}} \\,\n",
    "    \\frac{\\partial z^{(1)}_{2}}{\\partial w^{(1)}_{12}} + \\\\\n",
    "    %\n",
    "    &\n",
    "    \\frac{\\partial MSE}{\\partial y^{(2)}_{1}} \\,\n",
    "    \\frac{\\partial y^{(2)}_{1}}{\\partial z^{(2)}_{1}} \\, \n",
    "    \\frac{\\partial z^{(2)}_{1}}{\\partial a^{(1)}_{2}} \\,\n",
    "    \\frac{\\partial a^{(1)}_{2}}{\\partial z^{(1)}_{2}} \\,\n",
    "    \\frac{\\partial z^{(1)}_{2}}{\\partial w^{(1)}_{20}} &&&&&\n",
    "    % \n",
    "    &\n",
    "    \\frac{\\partial MSE}{\\partial y^{(2)}_{1}} \\,\n",
    "    \\frac{\\partial y^{(2)}_{1}}{\\partial z^{(2)}_{1}} \\, \n",
    "    \\frac{\\partial z^{(2)}_{1}}{\\partial a^{(1)}_{2}} \\,\n",
    "    \\frac{\\partial a^{(1)}_{2}}{\\partial z^{(1)}_{2}} \\,\n",
    "    \\frac{\\partial z^{(1)}_{2}}{\\partial w^{(1)}_{21}} &&&&\n",
    "    %\n",
    "    &\n",
    "    \\frac{\\partial MSE}{\\partial y^{(2)}_{1}} \\,\n",
    "    \\frac{\\partial y^{(2)}_{1}}{\\partial z^{(2)}_{1}} \\, \n",
    "    \\frac{\\partial z^{(2)}_{1}}{\\partial a^{(1)}_{2}} \\,\n",
    "    \\frac{\\partial a^{(1)}_{2}}{\\partial z^{(1)}_{2}} \\,\n",
    "    \\frac{\\partial z^{(1)}_{2}}{\\partial w^{(1)}_{22}}\n",
    "\\end{align*}\n",
    "$$"
   ]
  },
  {
   "cell_type": "markdown",
   "metadata": {},
   "source": [
    "Decompose\n",
    "\n",
    "$$\n",
    "\\begin{align*}\n",
    "    \\delta^{(L)} &= \\frac{\\partial MSE}{\\partial y} \\,\n",
    "    \\frac{\\partial y}{\\partial z^{(L)}} \\\\\n",
    "    &= \n",
    "    \\frac{\\partial MSE}{\\partial a^{(L)}} \\,\n",
    "    \\frac{\\partial a^{(L)}}{\\partial z^{(L)}} \\\\\n",
    "\\end{align*}\n",
    "$$"
   ]
  },
  {
   "cell_type": "markdown",
   "metadata": {},
   "source": [
    "$$\n",
    "\\begin{align*}\n",
    "    \\delta^{(L-1)} &= \\delta^{(L)} \\,\n",
    "    \\frac{\\partial z^{(L)}}{\\partial a^{(L-1)}} \\,\n",
    "    \\frac{\\partial a^{(L-1)}}{\\partial z^{(L-1)}} \\\\\n",
    "    %\n",
    "    \\delta^{(L-2)} &= \\delta^{(L-1)} \\,\n",
    "    \\frac{\\partial z^{(L-1)}}{\\partial a^{(L-2)}} \\,\n",
    "    \\frac{\\partial a^{(L-2)}}{\\partial z^{(L-2)}} \\\\\n",
    "    & \\vdots \\\\\n",
    "    \\delta^{(l-1)} &= \\delta^{(l)} \\,\n",
    "    \\frac{\\partial z^{(l)}}{\\partial a^{(l-1)}} \\,\n",
    "    \\frac{\\partial a^{(l-1)}}{\\partial z^{(l-1)}}\n",
    "\\end{align*}\n",
    "$$"
   ]
  },
  {
   "cell_type": "markdown",
   "metadata": {},
   "source": [
    "Therefore\n",
    "\n",
    "$$\n",
    "\\begin{align*}\n",
    "    \\frac{\\partial MSE}{\\partial w^{(l)}_{ij}} = \\delta^{(l)} \\, \\frac{\\partial z^{(l)}}{\\partial w^{(l)}_{ij}}\n",
    "\\end{align*}\n",
    "$$"
   ]
  },
  {
   "cell_type": "markdown",
   "metadata": {},
   "source": [
    "Scalar mode:\n",
    "\n",
    "$$\n",
    "\\begin{align*}\n",
    "    \\delta^{(L)}_{i} &= \n",
    "    \\frac{\\partial MSE}{\\partial a^{(L)}_{i}} \\,\n",
    "    \\frac{\\partial a^{(L)}_{i}}{\\partial z^{(L)}_{i}}\n",
    "    \\hspace{75pt}\n",
    "    where\n",
    "    \\hspace{10pt}\n",
    "    0 \\le i < len(L) \\\\\n",
    "    %\n",
    "    \\delta^{(L-1)}_{k} &= \n",
    "    \\sum^{len(L)}_{i=0} \\delta^{(L)}_{i} \\,\n",
    "    \\frac{\\partial z^{(L)}_{i}}{\\partial a^{(L-1)}_{k}} \\,\n",
    "    \\frac{\\partial a^{(L-1)}_{k}}{\\partial z^{(L-1)}_{k}}\n",
    "    \\hspace{35pt}\n",
    "    where\n",
    "    \\hspace{10pt}\n",
    "    0 \\le k < len(L-1) \\\\\n",
    "    %\n",
    "    &\\vdots\\\\\n",
    "    \\delta^{(l-1)}_{k} &= \n",
    "    \\sum^{len(l)}_{i=0} \\delta^{(l)}_{i} \\,\n",
    "    \\frac{\\partial z^{(l)}_{i}}{\\partial a^{(l-1)}_{k}} \\,\n",
    "    \\frac{\\partial a^{(l-1)}_{k}}{\\partial z^{(l-1)}_{k}}\n",
    "    \\hspace{45pt}\n",
    "    where\n",
    "    \\hspace{10pt}\n",
    "    0 \\le k < len(l-1)\n",
    "\\end{align*}\n",
    "$$"
   ]
  },
  {
   "cell_type": "markdown",
   "metadata": {},
   "source": [
    "Therefore:\n",
    "\n",
    "$$\n",
    "\\begin{align*}\n",
    "    \\frac{\\partial MSE}{\\partial w^{(L)}_{ij}} &= \\delta^{(L)}_{i} \\, \n",
    "    \\frac{\\partial z^{(L)}_{i}}{\\partial w^{(L)}_{ij}}\n",
    "    \\hspace{50pt}\n",
    "    where\n",
    "    \\hspace{10pt}\n",
    "    0 \\le i < len(L) &\n",
    "    0 \\le j < len(L-1) \\\\\n",
    "    %\n",
    "    \\frac{\\partial MSE}{\\partial w^{(L-1)}_{ij}} &= \\delta^{(L-1)}_{i} \\, \n",
    "    \\frac{\\partial z^{(L-1)}_{i}}{\\partial w^{(L-1)}_{ij}}\n",
    "    \\hspace{35pt}\n",
    "    where\n",
    "    \\hspace{10pt}\n",
    "    0 \\le i < len(L-1) &\n",
    "    0 \\le j < len(L-2) \\\\\n",
    "    %\n",
    "    & \\vdots \\\\\n",
    "    \\frac{\\partial MSE}{\\partial w^{(l-1)}_{ij}} &= \\delta^{(l-1)}_{i} \\, \n",
    "    \\frac{\\partial z^{(l-1)}_{i}}{\\partial w^{(l-1)}_{ij}}\n",
    "    \\hspace{40pt}\n",
    "    where\n",
    "    \\hspace{10pt}\n",
    "    0 \\le i < len(l-1) &\n",
    "    0 \\le j < len(l-2)\n",
    "\\end{align*}\n",
    "$$"
   ]
  },
  {
   "cell_type": "markdown",
   "metadata": {},
   "source": [
    "## Implementation Step by Step"
   ]
  },
  {
   "cell_type": "code",
   "execution_count": 1,
   "metadata": {},
   "outputs": [],
   "source": [
    "import numpy as np\n",
    "\n",
    "np.random.seed(0)"
   ]
  },
  {
   "cell_type": "markdown",
   "metadata": {},
   "source": [
    "### Forward pass"
   ]
  },
  {
   "cell_type": "code",
   "execution_count": 2,
   "metadata": {},
   "outputs": [
    {
     "name": "stdout",
     "output_type": "stream",
     "text": [
      "Input x:\n",
      "[[1]\n",
      " [3]] \n",
      "\n",
      "Add 1 to input x:\n",
      "[[1]\n",
      " [3]\n",
      " [1]] \n",
      "\n",
      "Layer 1:\n",
      "W_l1 \n",
      " [[0.5488135  0.71518937 0.60276338]\n",
      " [0.54488318 0.4236548  0.64589411]\n",
      " [0.43758721 0.891773   0.96366276]] \n",
      "\n",
      "z_l1 \n",
      " [[3.29714498]\n",
      " [2.46174169]\n",
      " [4.07656897]] \n",
      "\n",
      "a_l1 \n",
      " [[0.96433074]\n",
      " [0.92141587]\n",
      " [0.98331745]\n",
      " [1.        ]] \n",
      "\n",
      "Layer 2:\n",
      "W_l2 \n",
      " [[0.38344152 0.79172504 0.52889492 0.56804456]\n",
      " [0.92559664 0.07103606 0.0871293  0.0202184 ]] \n",
      "\n",
      "z_l2 \n",
      " [[2.18738862]\n",
      " [1.0639292 ]] \n",
      "\n",
      "y \n",
      " [[2.18738862]\n",
      " [1.0639292 ]] \n",
      "\n",
      "t\n",
      " [[3]\n",
      " [0]] \n",
      "\n",
      "MSE \n",
      " [0.89614129] \n",
      "\n"
     ]
    }
   ],
   "source": [
    "l1_size = 3\n",
    "l2_size = 2\n",
    "\n",
    "print(\"Input x:\")\n",
    "x = np.array([[1, 3]]).T\n",
    "print(x, \"\\n\")\n",
    "\n",
    "print(\"Add 1 to input x:\")\n",
    "x = np.array([[1, 3, 1]]).T\n",
    "print(x, \"\\n\")\n",
    "\n",
    "print(\"Layer 1:\")\n",
    "W_l1 = np.random.rand(l1_size, x.shape[0])\n",
    "z_l1 = W_l1 @ x\n",
    "a_l1 = 1 / (1 + np.exp(-z_l1))\n",
    "a_l1 = np.vstack([a_l1, 1]) # add 1 input\n",
    "print(\"W_l1\", \"\\n\", W_l1, \"\\n\")\n",
    "print(\"z_l1\", \"\\n\", z_l1, \"\\n\")\n",
    "print(\"a_l1\", \"\\n\", a_l1, \"\\n\")\n",
    "\n",
    "print(\"Layer 2:\")\n",
    "W_l2 = np.random.rand(l2_size, a_l1.shape[0])\n",
    "z_l2 = W_l2 @ a_l1\n",
    "print(\"W_l2\", \"\\n\", W_l2, \"\\n\")\n",
    "print(\"z_l2\", \"\\n\", z_l2, \"\\n\")\n",
    "\n",
    "y = z_l2\n",
    "print(\"y\", \"\\n\", y, \"\\n\")\n",
    "\n",
    "t = np.random.randint(5, size=(2,1))\n",
    "print(\"t\" \"\\n\", t, \"\\n\")\n",
    "MSE = 0.5 * ( (t[0] - y[0])** 2 + (t[1] - y[1])** 2 )\n",
    "print(\"MSE\", \"\\n\", MSE, \"\\n\")"
   ]
  },
  {
   "cell_type": "markdown",
   "metadata": {},
   "source": [
    "### Backward pass"
   ]
  },
  {
   "cell_type": "markdown",
   "metadata": {},
   "source": [
    "$$\n",
    "\\begin{align*}\n",
    "    \\delta^{(L)}_{i} &= \n",
    "    \\frac{\\partial MSE}{\\partial a^{(L)}_{i}} \\,\n",
    "    \\frac{\\partial a^{(L)}_{i}}{\\partial z^{(L)}_{i}}\n",
    "    \\hspace{35pt}\n",
    "    where\n",
    "    \\hspace{10pt}\n",
    "    0 \\le i < len(L) \\\\\n",
    "    %\n",
    "    &= (y_i - t_i) \\, 1 \\\\\n",
    "    &= (y_i - t_i)\n",
    "\\end{align*}\n",
    "$$"
   ]
  },
  {
   "cell_type": "code",
   "execution_count": 3,
   "metadata": {},
   "outputs": [
    {
     "name": "stdout",
     "output_type": "stream",
     "text": [
      "Dimension of L2-layer: 2\n",
      "delta_L2: [-0.81261138  1.0639292 ]\n"
     ]
    }
   ],
   "source": [
    "L2_size = y.shape[0]\n",
    "\n",
    "delta_L2 = np.zeros(L2_size)\n",
    "for i in range(L2_size):\n",
    "    delta_L2[i] = y[i] - t[i]\n",
    "\n",
    "print(f\"Dimension of L2-layer: {L2_size}\")\n",
    "print(f\"delta_L2: {delta_L2}\")"
   ]
  },
  {
   "cell_type": "markdown",
   "metadata": {},
   "source": [
    "$$\n",
    "\\begin{align*}    \n",
    "    \\frac{\\partial MSE}{\\partial w^{(L)}_{ij}} &= \\delta^{(L)}_{i} \\, \\frac{\\partial z^{(L)}_{i}}{\\partial w^{(L)}_{ij}}\n",
    "    \\hspace{35pt}\n",
    "    where\n",
    "    \\hspace{10pt}\n",
    "    0 \\le i < len(L) &\n",
    "    0 \\le j < len(L-1) \\\\\n",
    "    %\n",
    "    &= \\delta^{(L)}_{i} \\, a^{(L-1)}_{j}\n",
    "\\end{align*}\n",
    "$$"
   ]
  },
  {
   "cell_type": "code",
   "execution_count": 4,
   "metadata": {},
   "outputs": [
    {
     "name": "stdout",
     "output_type": "stream",
     "text": [
      "W_grad of layers 2:\n",
      "[[-0.78362613 -0.74875302 -0.79905495 -0.81261138]\n",
      " [ 1.02597963  0.98032125  1.04618015  1.0639292 ]]\n"
     ]
    }
   ],
   "source": [
    "l1_size = a_l1.shape[0]\n",
    "\n",
    "W_l2_grad = np.zeros_like(W_l2)\n",
    "for i in range(L2_size):\n",
    "    for j in range(l1_size):\n",
    "        W_l2_grad[i,j] = delta_L2[i] * a_l1[j]\n",
    "\n",
    "print(\"W_grad of layers 2:\")\n",
    "print(W_l2_grad)"
   ]
  },
  {
   "cell_type": "markdown",
   "metadata": {},
   "source": [
    " $$\n",
    "\\begin{align*}   \n",
    "    \\delta^{(L-1)}_{k} &= \n",
    "    \\sum^{len(L)}_{i=0} \\delta^{(L)}_{i} \\,\n",
    "    \\frac{\\partial z^{(L)}_{i}}{\\partial a^{(L-1)}_{k}} \\,\n",
    "    \\frac{\\partial a^{(L-1)}_{k}}{\\partial z^{(L-1)}_{k}}\n",
    "    \\hspace{35pt}\n",
    "    where\n",
    "    \\hspace{10pt}\n",
    "    0 \\le k < len(L-1) \\\\\n",
    "    %\n",
    "    &= \\sum^{len(L)}_{i=0} \\delta^{(L)}_{i} \\, w^{(L)}_{ik} \\, a^{(L-1)}_{k} \\, (1 - a^{(L-1)}_{k})\n",
    "\\end{align*}\n",
    "$$"
   ]
  },
  {
   "cell_type": "code",
   "execution_count": 5,
   "metadata": {},
   "outputs": [
    {
     "name": "stdout",
     "output_type": "stream",
     "text": [
      "Dimension of L1-layer: 3\n",
      "delta_L1: [ 0.02315536 -0.04111273 -0.00552965]\n"
     ]
    }
   ],
   "source": [
    "l1_size = z_l1.shape[0]\n",
    "\n",
    "delta_l1 = np.zeros(l1_size)\n",
    "for k in range(l1_size):\n",
    "    acc = 0\n",
    "    for i in range(L2_size):\n",
    "        acc += delta_L2[i] * W_l2[i,k] * a_l1[k] * (1 - a_l1[k])\n",
    "    delta_l1[k] = acc\n",
    "\n",
    "print(f\"Dimension of L1-layer: {l1_size}\")\n",
    "print(f\"delta_L1: {delta_l1}\")"
   ]
  },
  {
   "cell_type": "markdown",
   "metadata": {},
   "source": [
    "$$\n",
    "\\begin{align*}\n",
    "    \\frac{\\partial MSE}{\\partial w^{(L-1)}_{ij}} &= \\delta^{(L-1)}_{i} \\,\n",
    "    \\frac{\\partial z^{(L-1)}_{i}}{\\partial w^{(L-1)}_{ij}}\n",
    "    \\hspace{35pt}\n",
    "    where\n",
    "    \\hspace{10pt}\n",
    "    0 \\le i < len(L-1) &\n",
    "    0 \\le j < len(L-2) \\\\\n",
    "    %\n",
    "    &= \\delta^{(L-1)}_{i} \\, a^{(L-2)}_{j} \\\\\n",
    "    &= \\delta^{(L-1)}_{i} \\, x_{j} \\\\\n",
    "\\end{align*}\n",
    "$$"
   ]
  },
  {
   "cell_type": "code",
   "execution_count": 6,
   "metadata": {},
   "outputs": [
    {
     "name": "stdout",
     "output_type": "stream",
     "text": [
      "W_grad of layers 1:\n",
      "[[ 0.02315536  0.06946609  0.02315536]\n",
      " [-0.04111273 -0.12333819 -0.04111273]\n",
      " [-0.00552965 -0.01658895 -0.00552965]]\n"
     ]
    }
   ],
   "source": [
    "l0_size = x.shape[0]\n",
    "\n",
    "W_l1_grad = np.zeros_like(W_l1)\n",
    "for i in range(l1_size):\n",
    "    for j in range(l0_size):\n",
    "        W_l1_grad[i,j] = delta_l1[i] * x[j]\n",
    "\n",
    "print(\"W_grad of layers 1:\")\n",
    "print(W_l1_grad)"
   ]
  },
  {
   "cell_type": "markdown",
   "metadata": {},
   "source": [
    "### Update weight"
   ]
  },
  {
   "cell_type": "code",
   "execution_count": 7,
   "metadata": {},
   "outputs": [],
   "source": [
    "mu = 0.01"
   ]
  },
  {
   "cell_type": "code",
   "execution_count": 8,
   "metadata": {},
   "outputs": [
    {
     "name": "stdout",
     "output_type": "stream",
     "text": [
      "w_l1 before:\n",
      "[[0.5488135  0.71518937 0.60276338]\n",
      " [0.54488318 0.4236548  0.64589411]\n",
      " [0.43758721 0.891773   0.96366276]]\n",
      "\n",
      "\n",
      "w_l1 new:\n",
      "[[0.54858195 0.71449471 0.60253182]\n",
      " [0.54529431 0.42488818 0.64630524]\n",
      " [0.43764251 0.89193889 0.96371806]]\n"
     ]
    }
   ],
   "source": [
    "print(\"w_l1 before:\")\n",
    "print(W_l1)\n",
    "W_l1 = W_l1 - mu * W_l1_grad\n",
    "\n",
    "print(\"\\n\")\n",
    "\n",
    "print(\"w_l1 new:\")\n",
    "print(W_l1)"
   ]
  },
  {
   "cell_type": "code",
   "execution_count": 9,
   "metadata": {},
   "outputs": [
    {
     "name": "stdout",
     "output_type": "stream",
     "text": [
      "w_l2 before:\n",
      "[[0.38344152 0.79172504 0.52889492 0.56804456]\n",
      " [0.92559664 0.07103606 0.0871293  0.0202184 ]]\n",
      "\n",
      "\n",
      "w_l2 new:\n",
      "[[0.39127778 0.79921257 0.53688547 0.57617067]\n",
      " [0.91533684 0.06123285 0.0766675  0.00957911]]\n"
     ]
    }
   ],
   "source": [
    "print(\"w_l2 before:\")\n",
    "print(W_l2)\n",
    "W_l2 = W_l2 - mu * W_l2_grad\n",
    "\n",
    "print(\"\\n\")\n",
    "\n",
    "print(\"w_l2 new:\")\n",
    "print(W_l2)"
   ]
  },
  {
   "cell_type": "code",
   "execution_count": 10,
   "metadata": {},
   "outputs": [
    {
     "name": "stdout",
     "output_type": "stream",
     "text": [
      "BEFORE\n",
      "MSE \n",
      " [0.89614129] \n",
      "\n",
      "AFTER\n",
      "MSE \n",
      " [0.83001984] \n",
      "\n"
     ]
    }
   ],
   "source": [
    "print(\"BEFORE\")\n",
    "print(\"MSE\", \"\\n\", MSE, \"\\n\")\n",
    "\n",
    "x = np.array([[1,3]]).T\n",
    "x = np.vstack([x, [1]])\n",
    "z_l1 = W_l1 @ x\n",
    "a_l1 = 1 / (1 + np.exp(-z_l1))\n",
    "a_l1 = np.vstack([a_l1, 1]) # add 1 input\n",
    "z_l2 = W_l2 @ a_l1\n",
    "y = z_l2\n",
    "MSE = 0.5 * ( (t[0] - y[0])** 2 + (t[1] - y[1])** 2 )\n",
    "\n",
    "print(\"AFTER\")\n",
    "print(\"MSE\", \"\\n\", MSE, \"\\n\")"
   ]
  },
  {
   "cell_type": "markdown",
   "metadata": {},
   "source": [
    "## Implementation of this Neural Network"
   ]
  },
  {
   "cell_type": "code",
   "execution_count": 11,
   "metadata": {},
   "outputs": [],
   "source": [
    "import matplotlib.pyplot as plt\n",
    "np.random.seed(2) #2"
   ]
  },
  {
   "cell_type": "code",
   "execution_count": 12,
   "metadata": {},
   "outputs": [],
   "source": [
    "X = np.random.rand(1000, 2)\n",
    "y = 15 * np.sin(X)"
   ]
  },
  {
   "cell_type": "code",
   "execution_count": 13,
   "metadata": {},
   "outputs": [],
   "source": [
    "from sklearn.model_selection import train_test_split\n",
    "X_train, X_test, y_train, y_test = train_test_split(X, y, test_size=0.33, random_state=42)"
   ]
  },
  {
   "cell_type": "code",
   "execution_count": 14,
   "metadata": {},
   "outputs": [
    {
     "data": {
      "text/plain": [
       "((670, 2), (670, 2))"
      ]
     },
     "execution_count": 14,
     "metadata": {},
     "output_type": "execute_result"
    }
   ],
   "source": [
    "X_train.shape, y_train.shape"
   ]
  },
  {
   "cell_type": "code",
   "execution_count": 15,
   "metadata": {},
   "outputs": [],
   "source": [
    "in_size = 2\n",
    "hid_1_size = 3\n",
    "out_size = 2\n",
    "\n",
    "sizes = [in_size, hid_1_size, out_size]"
   ]
  },
  {
   "cell_type": "code",
   "execution_count": 16,
   "metadata": {},
   "outputs": [
    {
     "name": "stdout",
     "output_type": "stream",
     "text": [
      "W_l1 | Layer 1, with index 0\n",
      "[[0.68835318 0.2664969  0.86073305]\n",
      " [0.92287024 0.98690241 0.7362912 ]\n",
      " [0.23766617 0.81396055 0.21752617]]\n",
      "\n",
      "\n",
      "W_l2 | Layer 2, with index 1\n",
      "[[0.11588183 0.14899267 0.25292353 0.58446352]\n",
      " [0.81021254 0.25306758 0.55864633 0.88283835]]\n"
     ]
    }
   ],
   "source": [
    "W = []\n",
    "\n",
    "W.append(np.random.rand(sizes[1], sizes[0]+1))\n",
    "print(\"W_l1 | Layer 1, with index 0\")\n",
    "print(W[0])\n",
    "\n",
    "print(\"\\n\")\n",
    "\n",
    "W.append(np.random.rand(sizes[2], sizes[1]+1))\n",
    "print(\"W_l2 | Layer 2, with index 1\")\n",
    "print(W[1])"
   ]
  },
  {
   "cell_type": "code",
   "execution_count": 17,
   "metadata": {},
   "outputs": [
    {
     "name": "stdout",
     "output_type": "stream",
     "text": [
      "z_l1 | Layer 1, with index 0:\n",
      "[0. 0. 0.]\n",
      "a_l1 | Layer 1, with index 0:\n",
      "[0. 0. 0.]\n",
      "\n",
      "\n",
      "z_l2 | Layer 2, with index 1:\n",
      "[0. 0.]\n",
      "a_l2 = y | Layer 2, with index 1:\n",
      "[0. 0.]\n"
     ]
    }
   ],
   "source": [
    "z = []\n",
    "a = []\n",
    "\n",
    "# Layer 1, with index 0\n",
    "z.append(np.zeros(sizes[1]))\n",
    "a.append(np.zeros(sizes[1]))\n",
    "print(\"z_l1 | Layer 1, with index 0:\")\n",
    "print(z[0])\n",
    "print(\"a_l1 | Layer 1, with index 0:\")\n",
    "print(a[0])\n",
    "\n",
    "print(\"\\n\")\n",
    "\n",
    "# Layer 2, with index 1\n",
    "z.append(np.zeros(sizes[2]))\n",
    "a.append(np.zeros(sizes[2]))\n",
    "print(\"z_l2 | Layer 2, with index 1:\")\n",
    "print(z[1])\n",
    "print(\"a_l2 = y | Layer 2, with index 1:\")\n",
    "print(a[1])"
   ]
  },
  {
   "cell_type": "code",
   "execution_count": 18,
   "metadata": {},
   "outputs": [],
   "source": [
    "def forward(x, log=False):\n",
    "\n",
    "    if log: print(\"Input x:\")\n",
    "    x = np.array([x]).T\n",
    "    if log: print(x, \"\\n\")\n",
    "\n",
    "    if log: print(\"Add 1 to input x:\")\n",
    "    x = np.vstack([x, 1])\n",
    "    if log: print(x, \"\\n\")\n",
    "\n",
    "    if log: print(\"Layer 1:\")\n",
    "    z[0] = W[0] @ x\n",
    "    a[0] = 1 / (1 + np.exp(-z[0]))\n",
    "    a[0] = np.vstack([a[0], 1]) # add 1 input\n",
    "    if log: print(\"W_l1\", \"\\n\", W[0], \"\\n\")\n",
    "    if log: print(\"z_l1\", \"\\n\", z[0], \"\\n\")\n",
    "    if log: print(\"a_l1\", \"\\n\", a[0], \"\\n\")\n",
    "\n",
    "    if log: print(\"Layer 2:\")\n",
    "    z[1] = W[1] @ a[0]\n",
    "    a[1] = z[1]\n",
    "    if log: print(\"W_l2\", \"\\n\", W[1], \"\\n\")\n",
    "    if log: print(\"z_l2\", \"\\n\", z[1], \"\\n\")\n",
    "    if log: print(\"y\", \"\\n\", a[1], \"\\n\")\n",
    "\n",
    "    return a[1]\n",
    "\n",
    "\n",
    "def loss_MSE(xy, t, log=False):\n",
    "    # MSE\n",
    "    if log: print(\"t\" \"\\n\", t, \"\\n\")\n",
    "\n",
    "    try:\n",
    "        MSE = 0.5 * ( (t[0] - y[0])** 2 + (t[1] - y[1])** 2 )\n",
    "        return MSE\n",
    "    except Exception as e:\n",
    "        print(e)\n",
    "\n",
    "\n",
    "def backward(t):\n",
    "\n",
    "    # Initialization\n",
    "    W_grad = []\n",
    "    for w in W:\n",
    "        W_grad.append(np.zeros_like(w))\n",
    "\n",
    "    delta = []\n",
    "    for i in range(1, len(sizes)):\n",
    "        delta.append(np.zeros(sizes[i]))\n",
    "\n",
    "    # -------------------------------\n",
    "    # LAYER 2\n",
    "    # compute delta\n",
    "    for i in range(sizes[2]):\n",
    "        delta[1][i] = a[1][i] - t[i]\n",
    "\n",
    "    # compute W_grad\n",
    "    for i in range(sizes[2]):\n",
    "        for j in range(sizes[1]+1):\n",
    "            W_grad[1][i,j] = delta[1][i] * a[0][j]\n",
    "\n",
    "    # -------------------------------\n",
    "    # LAYER 1\n",
    "    # compute delta\n",
    "    for k in range(sizes[1]):\n",
    "        acc = 0\n",
    "        for i in range(sizes[2]):\n",
    "            acc += delta[1][i] * W[1][i,k] * a[0][k] * (1 - a[0][k])\n",
    "        delta[0][k] = acc\n",
    "\n",
    "    # compute W_grad\n",
    "    for i in range(sizes[1]):\n",
    "        for j in range(sizes[0]+1):\n",
    "            W_grad[0][i,j] = delta[0][i] * x[j]\n",
    "\n",
    "    # UPDATE WEIGHTS\n",
    "    mu = 0.001\n",
    "    for idx, w_grad in enumerate(W_grad):\n",
    "        W[idx] = W[idx] - mu * w_grad"
   ]
  },
  {
   "cell_type": "code",
   "execution_count": 19,
   "metadata": {},
   "outputs": [
    {
     "name": "stdout",
     "output_type": "stream",
     "text": [
      "Epoch: 0, \t Test loss: [12.99505228], \t Train loss: [12.75279735]\n",
      "Epoch: 100, \t Test loss: [9.07089923], \t Train loss: [9.21797802]\n",
      "Epoch: 200, \t Test loss: [6.86756914], \t Train loss: [7.21262892]\n",
      "Epoch: 300, \t Test loss: [6.25708866], \t Train loss: [6.6653543]\n",
      "Epoch: 400, \t Test loss: [6.11744927], \t Train loss: [6.54977448]\n",
      "Epoch: 500, \t Test loss: [6.05963163], \t Train loss: [6.49922852]\n",
      "Epoch: 600, \t Test loss: [6.00072049], \t Train loss: [6.44633373]\n",
      "Epoch: 700, \t Test loss: [5.95762947], \t Train loss: [6.41694092]\n",
      "Epoch: 800, \t Test loss: [5.93446773], \t Train loss: [6.41081682]\n",
      "Epoch: 900, \t Test loss: [5.92651739], \t Train loss: [6.41878687]\n"
     ]
    }
   ],
   "source": [
    "EPOCHS = 1000\n",
    "for ep in range(EPOCHS):\n",
    "    for i in range(X_train.shape[0]):\n",
    "        target = y_train[i]\n",
    "        out = forward(X_train[i])\n",
    "        loss = loss_MSE(out, target)\n",
    "        backward(target)\n",
    "\n",
    "    if ep%100 == 0:\n",
    "        loss = 0\n",
    "        for j in range(X_train.shape[0]):\n",
    "            target = y_train[j]\n",
    "            out = forward(X_train[j])\n",
    "            loss += loss_MSE(out, target)\n",
    "        l_train = loss / X_train.shape[0]\n",
    "\n",
    "        loss = 0\n",
    "        for j in range(X_test.shape[0]):\n",
    "            target = y_test[j]\n",
    "            out = forward(X_test[j])\n",
    "            loss += loss_MSE(out, target)\n",
    "        l_test = loss / X_test.shape[0]\n",
    "\n",
    "        print(f\"Epoch: {ep}, \\t Test loss: {l_test}, \\t Train loss: {l_train}\")\n",
    "\n",
    "    # To visualize...\n",
    "    # if ep%500 == 0:\n",
    "    #     x_1 = X_test[:,0] + X_test[:,1]\n",
    "    #     x_2 = y_test[:,0] + y_test[:,1]\n",
    "\n",
    "    #     x_2_test = []\n",
    "    #     for j in range(X_test.shape[0]):\n",
    "    #         out = forward(X_test[j])\n",
    "    #         x_2_test.append(out[0] + out[1])\n",
    "\n",
    "    #     plt.plot(x_1, x_2)\n",
    "    #     plt.plot(x_1, x_2_test)\n",
    "    #     plt.show()"
   ]
  },
  {
   "cell_type": "code",
   "execution_count": 20,
   "metadata": {},
   "outputs": [
    {
     "name": "stdout",
     "output_type": "stream",
     "text": [
      "input \t0.7877663456138179 0.7242438157483649\n",
      "target \t10.631690317464507 9.938538744701702\n",
      "out \t5.886945494542504 9.318520184571856\n",
      "loss \t[11.44851322] \n",
      "\n",
      "input \t0.15268904057496224 0.3869828259758974\n",
      "target \t2.2814465179274093 5.660941159145452\n",
      "out \t5.99201267580201 5.906997901068623\n",
      "loss \t[6.91442257] \n",
      "\n",
      "input \t0.5250928301459313 0.12325240249941471\n",
      "target \t7.519399959928136 1.8441087258028226\n",
      "out \t6.807072301818691 1.8266540637971405\n",
      "loss \t[0.25385768] \n",
      "\n",
      "input \t0.7608453487966739 0.5548347357241061\n",
      "target \t10.343009071955935 7.9020425224062905\n",
      "out \t6.193270334831237 7.258868767078659\n",
      "loss \t[8.81700203] \n",
      "\n",
      "input \t0.43352297913889015 0.01953874317144122\n",
      "target \t6.30105714315716 0.29306250002971485\n",
      "out \t6.924505414029438 0.5552789842697301\n",
      "loss \t[0.22872262] \n",
      "\n"
     ]
    }
   ],
   "source": [
    "# Prediction\n",
    "for i in range(5):\n",
    "    out = forward(X_test[i])\n",
    "    loss = loss_MSE(out, y_test[i])\n",
    "    print(f\"input \\t{X_test[i][0]} {X_test[i][1]}\")\n",
    "    print(f\"target \\t{y_test[i][0]} {y_test[i][1]}\")\n",
    "    print(f\"out \\t{out[0][0]} {out[1][0]}\")\n",
    "    print(f\"loss \\t{loss} \\n\")"
   ]
  }
 ],
 "metadata": {
  "kernelspec": {
   "display_name": "Python 3.8.5 ('venv': venv)",
   "language": "python",
   "name": "python3"
  },
  "language_info": {
   "codemirror_mode": {
    "name": "ipython",
    "version": 3
   },
   "file_extension": ".py",
   "mimetype": "text/x-python",
   "name": "python",
   "nbconvert_exporter": "python",
   "pygments_lexer": "ipython3",
   "version": "3.8.5"
  },
  "varInspector": {
   "cols": {
    "lenName": 16,
    "lenType": 16,
    "lenVar": 40
   },
   "kernels_config": {
    "python": {
     "delete_cmd_postfix": "",
     "delete_cmd_prefix": "del ",
     "library": "var_list.py",
     "varRefreshCmd": "print(var_dic_list())"
    },
    "r": {
     "delete_cmd_postfix": ") ",
     "delete_cmd_prefix": "rm(",
     "library": "var_list.r",
     "varRefreshCmd": "cat(var_dic_list()) "
    }
   },
   "types_to_exclude": [
    "module",
    "function",
    "builtin_function_or_method",
    "instance",
    "_Feature"
   ],
   "window_display": false
  },
  "vscode": {
   "interpreter": {
    "hash": "f7e374ee5e09e3e1c64a32e01379f0a0a71f66221bd3efaa81b204d4a8f2076c"
   }
  }
 },
 "nbformat": 4,
 "nbformat_minor": 2
}
