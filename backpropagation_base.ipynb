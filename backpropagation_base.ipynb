{
 "cells": [
  {
   "cell_type": "markdown",
   "metadata": {},
   "source": [
    "# Backpropagation Algorithm"
   ]
  },
  {
   "cell_type": "markdown",
   "metadata": {},
   "source": [
    "![backpropagation](imgs/backpropagation.png)"
   ]
  },
  {
   "cell_type": "markdown",
   "metadata": {},
   "source": [
    "Mean squared error:\n",
    "\n",
    "$$\n",
    "\\begin{align*}\n",
    "    MSE &= \\frac{1}{2} \\sum^{1}_{n=0} (t_i - y_i)^2 \\\\\n",
    "    &= \\frac{1}{2} (t_0 - y_0)^2 + \\frac{1}{2} (t_1 - y_1)^2\n",
    "\\end{align*}\n",
    "$$"
   ]
  },
  {
   "cell_type": "markdown",
   "metadata": {},
   "source": [
    "In general:\n",
    "$$\n",
    "\\begin{align*}\n",
    "    \\frac{\\partial MSE}{\\partial y_{i}} &= -(t_i - y_i) \\\\\n",
    "    &= y_i - t_i \n",
    "\\end{align*}\n",
    "$$\n",
    "\n",
    "In specific case:\n",
    "$$\n",
    "\\begin{align*}\n",
    "    \\frac{\\partial MSE}{\\partial y_{0}} &= -(t_0 - y_0) \\\\\n",
    "    &= y_0 - t_0 \n",
    "\\end{align*}\n",
    "$$\n",
    "\n",
    "$$\n",
    "\\begin{align*}\n",
    "    \\frac{\\partial MSE}{\\partial y_{1}} &= -(t_1 - y_1) \\\\\n",
    "    &= y_1 - t_1 \n",
    "\\end{align*}\n",
    "$$"
   ]
  },
  {
   "cell_type": "markdown",
   "metadata": {},
   "source": [
    "Linear activation (before final output):\n",
    "$$\n",
    "\\begin{align*}\n",
    "    y_i &= z_i^{(L)}\n",
    "    \\hspace{35pt}\n",
    "    where\n",
    "    \\hspace{10pt}\n",
    "    \\{0, 1, ..., l, ..., L-1, L\\} \\,\\, layers\n",
    "\\end{align*}\n",
    "$$"
   ]
  },
  {
   "cell_type": "markdown",
   "metadata": {},
   "source": [
    "In general:\n",
    "$$\n",
    "\\begin{align*}\n",
    "    \\frac{\\partial y_i}{\\partial z^{(L)}_{i}} &= \\frac{\\partial a^{(L)}_i}{\\partial z^{(L)}_{i}} = 1 \\\\\n",
    "\\end{align*}\n",
    "$$\n",
    "\n",
    "In specific case:\n",
    "$$\n",
    "\\begin{align*}\n",
    "    \\frac{\\partial y_0}{\\partial z^{(L)}_{0}} &= \\frac{\\partial a^{(L)}_0}{\\partial z^{(L)}_{i}} = 1 \\\\\n",
    "\\end{align*}\n",
    "$$\n",
    "\n",
    "$$\n",
    "\\begin{align*}\n",
    "    \\frac{\\partial y_1}{\\partial z^{(L)}_{1}} &= \\frac{\\partial a^{(L)}_1}{\\partial z^{(L)}_{i}} = 1 \\\\\n",
    "\\end{align*}\n",
    "$$"
   ]
  },
  {
   "cell_type": "markdown",
   "metadata": {},
   "source": [
    "Before activation function:\n",
    "\n",
    "- In matrix form:\n",
    "$$\n",
    "\\begin{align*}\n",
    "    z^{(l)} &= W^{(l)}_{*} \\, a^{(l-1)}_{*} + b^{l} \\\\\n",
    "    &= W^{(l)} \\, a^{l-1}\n",
    "\\end{align*}\n",
    "$$\n",
    "\n",
    "Note that with a trick we can write:\n",
    "$$\n",
    "\\begin{align*}\n",
    "    z^{(l)} &= W^{(l)}_{*} \\, a^{l-1}_{*} + b^{l}\n",
    "    \\hspace{35pt}\n",
    "    where\n",
    "    \\hspace{10pt}\n",
    "    W^{(l)} \\in \\mathbb{R}^{M \\, x \\, N}, a^{(l-1)} \\in \\mathbb{R}^{N}, b^{(l)} \\in \\mathbb{R}^{M} \\\\\n",
    "    %\n",
    "    &=\n",
    "    \\begin{bmatrix}\n",
    "        w^{(l)}_{00} & w^{(l)}_{01} & \\dots & w^{(l)}_{0N} \\\\\n",
    "        w^{(l)}_{10} & w^{(l)}_{11} & \\dots & w^{(l)}_{1N} \\\\\n",
    "        \\vdots & \\vdots & & \\vdots \\\\\n",
    "        w^{(l)}_{M0} & w^{(l)}_{M1} & \\dots & w^{(l)}_{MN}\n",
    "    \\end{bmatrix}\n",
    "    %\n",
    "    \\begin{bmatrix}\n",
    "        a^{(l-1)}_{0} \\\\\n",
    "        a^{(l-1)}_{1} \\\\\n",
    "        \\vdots \\\\\n",
    "        a^{(l-1)}_{N}\n",
    "    \\end{bmatrix}\n",
    "    %\n",
    "    +\n",
    "    \\begin{bmatrix}\n",
    "        b^{(l)}_{0} \\\\\n",
    "        b^{(l)}_{1} \\\\\n",
    "        \\vdots \\\\\n",
    "        b^{(l)}_{M}\n",
    "    \\end{bmatrix} \\\\\n",
    "    % \n",
    "    &=\n",
    "    \\begin{bmatrix}\n",
    "        w^{(l)}_{00} a^{(l-1)}_{0} + w^{(l)}_{01} a^{(l-1)}_{1} + \\dots + w^{(l)}_{0N} a^{(l-1)}_{N} \\\\\n",
    "        w^{(l)}_{10} a^{(l-1)}_{0} + w^{(l)}_{11} a^{(l-1)}_{1} + \\dots + w^{(l)}_{1N} a^{(l-1)}_{N} \\\\\n",
    "        \\vdots \\\\\n",
    "        w^{(l)}_{M0} a^{(l-1)}_{0} + w^{(l)}_{M1} a^{(l-1)}_{1} + \\dots + w^{(l)}_{MN} a^{(l-1)}_{N}\n",
    "    \\end{bmatrix}\n",
    "    %\n",
    "    +\n",
    "    \\begin{bmatrix}\n",
    "        b^{(l)}_{0} \\\\\n",
    "        b^{(l)}_{1} \\\\\n",
    "        \\vdots \\\\\n",
    "        b^{(l)}_{M}\n",
    "    \\end{bmatrix} \\\\\n",
    "    %\n",
    "    &=\n",
    "    \\begin{bmatrix}\n",
    "        w^{(l)}_{00} a^{(l-1)}_{0} + w^{(l)}_{01} a^{(l-1)}_{1} + \\dots + w^{(l)}_{0N} a^{(l-1)}_{N} + 1b^{(l)}_{0} \\\\\n",
    "        w^{(l)}_{10} a^{(l-1)}_{0} + w^{(l)}_{11} a^{(l-1)}_{1} + \\dots + w^{(l)}_{1N} a^{(l-1)}_{N} + 1b^{(l)}_{1} \\\\\n",
    "        \\vdots \\\\\n",
    "        w^{(l)}_{M0} a^{(l-1)}_{0} + w^{(l)}_{M1} a^{(l-1)}_{1} + \\dots + w^{(l)}_{MN} a^{(l-1)}_{N} + 1b^{(l)}_{M}\n",
    "    \\end{bmatrix} \\\\\n",
    "    %\n",
    "    &=\n",
    "    \\begin{bmatrix}\n",
    "        w^{(l)}_{00} & w^{(l)}_{01} & \\dots & w^{(l)}_{0N} & b^{(l)}_{0} \\\\\n",
    "        w^{(l)}_{10} & w^{(l)}_{11} & \\dots & w^{(l)}_{1N} & b^{(l)}_{1} \\\\\n",
    "        \\vdots & \\vdots & & \\vdots \\\\\n",
    "        w^{(l)}_{M0} & w^{(l)}_{M1} & \\dots & w^{(l)}_{MN} & b^{(l)}_{M}\n",
    "    \\end{bmatrix}\n",
    "    %\n",
    "    \\begin{bmatrix}\n",
    "        a^{(l-1)}_{0} \\\\\n",
    "        a^{(l-1)}_{1} \\\\\n",
    "        \\vdots \\\\\n",
    "        a^{(l-1)}_{N} \\\\\n",
    "        1\n",
    "    \\end{bmatrix} \\\\\n",
    "    %\n",
    "    &=\n",
    "    \\begin{bmatrix}\n",
    "        w^{(l)}_{00} & w^{(l)}_{01} & \\dots & w^{(l)}_{0N} & w^{(l)}_{0(N+1)} \\\\\n",
    "        w^{(l)}_{10} & w^{(l)}_{11} & \\dots & w^{(l)}_{1N} & w^{(l)}_{1(N+1)} \\\\\n",
    "        \\vdots & \\vdots & & \\vdots \\\\\n",
    "        w^{(l)}_{M0} & w^{(l)}_{M1} & \\dots & w^{(l)}_{MN} & w^{(l)}_{M(N+1)}\n",
    "    \\end{bmatrix}\n",
    "    %\n",
    "    \\begin{bmatrix}\n",
    "        a^{(l-1)}_{0} \\\\\n",
    "        a^{(l-1)}_{1} \\\\\n",
    "        \\vdots \\\\\n",
    "        a^{(l-1)}_{N} \\\\\n",
    "        a^{(l-1)}_{N+1}\n",
    "    \\end{bmatrix} \\\\\n",
    "    %\n",
    "    &= \n",
    "    W^{(l)} \\, a^{l-1}\n",
    "\\end{align*}\n",
    "$$"
   ]
  },
  {
   "cell_type": "markdown",
   "metadata": {},
   "source": [
    "- For instante, we fix $l=2$ (that is last layer $L$), therefore we want compute between last layer and middle layer:\n",
    "\n",
    "$$\n",
    "\\begin{align*}\n",
    "    z^{(l)} &= W^{(l)} \\, a^{l-1} \\\\\n",
    "    &= W^{(2)} \\, a^{1} \\\\\n",
    "    &=\n",
    "    \\begin{bmatrix}\n",
    "        w^{(2)}_{00} & w^{(2)}_{01} & w^{(2)}_{02} & b^{(2)}_{0} \\\\\n",
    "        w^{(2)}_{10} & w^{(2)}_{11} & w^{(2)}_{12} & b^{(2)}_{1}\n",
    "    \\end{bmatrix}\n",
    "    %\n",
    "    \\begin{bmatrix}\n",
    "        a^{(1)}_{0} \\\\\n",
    "        a^{(1)}_{1} \\\\\n",
    "        a^{(1)}_{2} \\\\\n",
    "        1\n",
    "    \\end{bmatrix} \\\\\n",
    "    % \n",
    "    &=\n",
    "    \\begin{bmatrix}\n",
    "        w^{(2)}_{00} & w^{(2)}_{01} & w^{(2)}_{02} & w^{(2)}_{03} \\\\\n",
    "        w^{(2)}_{10} & w^{(2)}_{11} & w^{(2)}_{12} & w^{(2)}_{13}\n",
    "    \\end{bmatrix}\n",
    "    %\n",
    "    \\begin{bmatrix}\n",
    "        a^{(1)}_{0} \\\\\n",
    "        a^{(1)}_{1} \\\\\n",
    "        a^{(1)}_{2} \\\\\n",
    "        a^{(1)}_{3}\n",
    "    \\end{bmatrix} \\\\\n",
    "    % \n",
    "    &=\n",
    "    \\begin{bmatrix}\n",
    "        w^{(2)}_{00} a^{(1)}_{0} + w^{(2)}_{01} a^{(1)}_{1} + w^{(2)}_{02} a^{(1)}_{2} + w^{(2)}_{03} a^{(1)}_{3} \\\\\n",
    "        w^{(2)}_{10} a^{(1)}_{0} + w^{(2)}_{11} a^{(1)}_{1} + w^{(2)}_{12} a^{(1)}_{2} + w^{(2)}_{13} a^{(1)}_{3}\n",
    "    \\end{bmatrix} \\\\\n",
    "    %\n",
    "    &=\n",
    "    \\begin{bmatrix}\n",
    "        z^{(2)}_{0} \\\\\n",
    "        z^{(2)}_{1}\n",
    "    \\end{bmatrix}\n",
    "\\end{align*}\n",
    "$$"
   ]
  },
  {
   "cell_type": "markdown",
   "metadata": {},
   "source": [
    "- For instante, we fix $l=1$, therefore we want compute between middle layer and input:\n",
    "\n",
    "$$\n",
    "\\begin{align*}\n",
    "    z^{(l)} &= W^{(l)} \\, a^{l-1} \\\\\n",
    "    &= W^{(1)} \\, a^{0} \\\\\n",
    "    &= W^{(1)} \\, x \\\\  \n",
    "    &=\n",
    "    \\begin{bmatrix}\n",
    "        w^{(1)}_{00} & w^{(1)}_{01} & b^{(1)}_{0} \\\\\n",
    "        w^{(1)}_{10} & w^{(1)}_{11} & b^{(1)}_{1} \\\\\n",
    "        w^{(1)}_{20} & w^{(1)}_{21} & b^{(1)}_{2}\n",
    "    \\end{bmatrix}\n",
    "    %\n",
    "    \\begin{bmatrix}\n",
    "        x_{0} \\\\\n",
    "        x_{1} \\\\\n",
    "        1\n",
    "    \\end{bmatrix} \\\\\n",
    "    %\n",
    "    &=\n",
    "    \\begin{bmatrix}\n",
    "        w^{(1)}_{00} & w^{(1)}_{01} & w^{(1)}_{02} \\\\\n",
    "        w^{(1)}_{10} & w^{(1)}_{11} & w^{(1)}_{12} \\\\\n",
    "        w^{(1)}_{20} & w^{(1)}_{21} & w^{(1)}_{22}\n",
    "    \\end{bmatrix}\n",
    "    %\n",
    "    \\begin{bmatrix}\n",
    "        x_{0} \\\\\n",
    "        x_{1} \\\\\n",
    "        x_{2}\n",
    "    \\end{bmatrix} \\\\\n",
    "    %\n",
    "    &=\n",
    "    \\begin{bmatrix}\n",
    "        w^{(1)}_{00} x_{0} + w^{(1)}_{01} x_{1} + w^{(1)}_{02} x_{2} \\\\\n",
    "        w^{(1)}_{10} x_{0} + w^{(1)}_{11} x_{1} + w^{(1)}_{12} x_{2} \\\\\n",
    "        w^{(1)}_{20} x_{0} + w^{(1)}_{21} x_{1} + w^{(1)}_{22} x_{2}\n",
    "    \\end{bmatrix} \\\\\n",
    "    %\n",
    "    &=\n",
    "    \\begin{bmatrix}\n",
    "        z^{(1)}_{0} \\\\\n",
    "        z^{(1)}_{1} \\\\\n",
    "        z^{(1)}_{2}\n",
    "    \\end{bmatrix}\n",
    "\\end{align*}\n",
    "$$"
   ]
  },
  {
   "cell_type": "markdown",
   "metadata": {},
   "source": [
    "Therefore, we understood that $b$ is just a weight that has always $1$ as input."
   ]
  },
  {
   "cell_type": "markdown",
   "metadata": {},
   "source": [
    "- In scalar form:\n",
    "$$\n",
    "\\begin{align*}\n",
    "    z^{(l)}_{i} &= \\sum^{len(l)}_{i=0} \\sum^{len(l-1)}_{j=0} w^{(l)}_{ij} \\, a^{(l-1)}_{j} \\\\\n",
    "\\end{align*}\n",
    "$$\n",
    "\n",
    "$$\n",
    "\\begin{align*}\n",
    "    z^{(2)}_{0} &= w^{(2)}_{00} a^{(1)}_{0} + w^{(2)}_{01} a^{(1)}_{1} + w^{(2)}_{02} a^{(1)}_{2} + w^{(2)}_{03} a^{(1)}_{3} \\\\\n",
    "    z^{(2)}_{1} &= w^{(2)}_{10} a^{(1)}_{0} + w^{(2)}_{11} a^{(1)}_{1} + w^{(2)}_{12} a^{(1)}_{2} + w^{(2)}_{13} a^{(1)}_{3} \\\\\n",
    "    \\\\\n",
    "    z^{(1)}_{0} &= w^{(1)}_{00} x_{0} + w^{(1)}_{01} x_{1} + w^{(1)}_{02} x_{2} \\\\\n",
    "    z^{(1)}_{1} &= w^{(1)}_{10} x_{0} + w^{(1)}_{11} x_{1} + w^{(1)}_{12} x_{2} \\\\\n",
    "    z^{(1)}_{2} &= w^{(1)}_{20} x_{0} + w^{(1)}_{21} x_{1} + w^{(1)}_{22} x_{2}\n",
    "\\end{align*}\n",
    "$$"
   ]
  },
  {
   "cell_type": "markdown",
   "metadata": {},
   "source": [
    "In general:\n",
    "\n",
    "$$\n",
    "\\begin{align*}\n",
    "    \\frac{\\partial z^{(l)}_{i}}{\\partial a^{(l-1)}_{j}} = w_{ij}^{(l)}\n",
    "    \\hspace{35pt}\n",
    "    where\n",
    "    \\hspace{10pt}\n",
    "    a^{(0)}_{j} = x_j\n",
    "\\end{align*}\n",
    "$$"
   ]
  },
  {
   "cell_type": "markdown",
   "metadata": {},
   "source": [
    "In specific case:\n",
    "\n",
    "$l=2$\n",
    "\n",
    "$$\n",
    "\\begin{align*}\n",
    "    \\frac{\\partial z^{(2)}_{0}}{\\partial a^{(1)}_{0}} = w_{00}^{(2)} &&&&\n",
    "    \\frac{\\partial z^{(2)}_{0}}{\\partial a^{(1)}_{1}} = w_{01}^{(2)} &&&&\n",
    "    \\frac{\\partial z^{(2)}_{0}}{\\partial a^{(1)}_{2}} = w_{02}^{(2)} &&&&\n",
    "    \\frac{\\partial z^{(2)}_{0}}{\\partial a^{(1)}_{3}} = w_{03}^{(2)} \\\\\n",
    "    \\\\\n",
    "    \\frac{\\partial z^{(2)}_{1}}{\\partial a^{(1)}_{0}} = w_{10}^{(2)} &&&&\n",
    "    \\frac{\\partial z^{(2)}_{1}}{\\partial a^{(1)}_{1}} = w_{11}^{(2)} &&&&\n",
    "    \\frac{\\partial z^{(2)}_{1}}{\\partial a^{(1)}_{2}} = w_{12}^{(2)} &&&&\n",
    "    \\frac{\\partial z^{(2)}_{1}}{\\partial a^{(1)}_{3}} = w_{13}^{(2)}\n",
    "\\end{align*}\n",
    "$$"
   ]
  },
  {
   "cell_type": "markdown",
   "metadata": {},
   "source": [
    "$l=1$\n",
    "\n",
    "$$\n",
    "\\begin{align*}\n",
    "    \\frac{\\partial z^{(1)}_{0}}{\\partial a^{(1)}_{0}} = \\frac{\\partial z^{(1)}_{0}}{\\partial x_{0}} = w_{00}^{(1)} &&&&\n",
    "    \\frac{\\partial z^{(1)}_{0}}{\\partial a^{(1)}_{1}} = \\frac{\\partial z^{(1)}_{0}}{\\partial x_{1}} = w_{01}^{(1)} &&&&\n",
    "    \\frac{\\partial z^{(1)}_{0}}{\\partial a^{(1)}_{2}} = \\frac{\\partial z^{(1)}_{0}}{\\partial x_{2}} = w_{02}^{(1)} \\\\\n",
    "    \\\\\n",
    "    \\frac{\\partial z^{(1)}_{1}}{\\partial a^{(1)}_{0}} = \\frac{\\partial z^{(1)}_{1}}{\\partial x_{0}} = w_{10}^{(1)} &&&&\n",
    "    \\frac{\\partial z^{(1)}_{1}}{\\partial a^{(1)}_{1}} = \\frac{\\partial z^{(1)}_{1}}{\\partial x_{1}} = w_{11}^{(1)} &&&&\n",
    "    \\frac{\\partial z^{(1)}_{1}}{\\partial a^{(1)}_{2}} = \\frac{\\partial z^{(1)}_{1}}{\\partial x_{2}} = w_{12}^{(1)} \\\\\n",
    "    \\\\\n",
    "    \\frac{\\partial z^{(1)}_{2}}{\\partial a^{(1)}_{0}} = \\frac{\\partial z^{(1)}_{2}}{\\partial x_{0}} = w_{20}^{(1)} &&&&\n",
    "    \\frac{\\partial z^{(1)}_{2}}{\\partial a^{(1)}_{1}} = \\frac{\\partial z^{(1)}_{2}}{\\partial x_{1}} = w_{21}^{(1)} &&&&\n",
    "    \\frac{\\partial z^{(1)}_{2}}{\\partial a^{(1)}_{2}} = \\frac{\\partial z^{(1)}_{2}}{\\partial x_{2}} = w_{22}^{(1)}\n",
    "\\end{align*}\n",
    "$$"
   ]
  },
  {
   "cell_type": "markdown",
   "metadata": {},
   "source": [
    "In general:\n",
    "\n",
    "$$\n",
    "\\begin{align*}\n",
    "    \\frac{\\partial z^{(l)}_{i}}{\\partial w^{(l)}_{ij}} = a^{(l-1)}_{j}\n",
    "    \\hspace{35pt}\n",
    "    where\n",
    "    \\hspace{10pt}\n",
    "    a^{(0)}_{j} = x_j\n",
    "\\end{align*}\n",
    "$$"
   ]
  },
  {
   "cell_type": "markdown",
   "metadata": {},
   "source": [
    "In specific case:\n",
    "\n",
    "$l=2$\n",
    "\n",
    "$$\n",
    "\\begin{align*}\n",
    "    \\frac{\\partial z^{(2)}_{0}}{\\partial w_{00}^{(2)}} = a^{(1)}_{0} &&&&\n",
    "    \\frac{\\partial z^{(2)}_{0}}{\\partial w_{01}^{(2)}} = a^{(1)}_{1} &&&&\n",
    "    \\frac{\\partial z^{(2)}_{0}}{\\partial w_{02}^{(2)}} = a^{(1)}_{2} &&&&\n",
    "    \\frac{\\partial z^{(2)}_{0}}{\\partial w_{03}^{(2)}} = a^{(1)}_{3} \n",
    "    \\\\\n",
    "    \\frac{\\partial z^{(2)}_{1}}{\\partial w_{10}^{(2)}} = a^{(1)}_{0} &&&&\n",
    "    \\frac{\\partial z^{(2)}_{1}}{\\partial w_{11}^{(2)}} = a^{(1)}_{1} &&&&\n",
    "    \\frac{\\partial z^{(2)}_{1}}{\\partial w_{12}^{(2)}} = a^{(1)}_{2} &&&&\n",
    "    \\frac{\\partial z^{(2)}_{1}}{\\partial w_{13}^{(2)}} = a^{(1)}_{3}\n",
    "\\end{align*}\n",
    "$$"
   ]
  },
  {
   "cell_type": "markdown",
   "metadata": {},
   "source": [
    "$l=2$\n",
    "\n",
    "$$\n",
    "\\begin{align*}\n",
    "    \\frac{\\partial z^{(1)}_{0}}{\\partial w_{00}^{(1)}} = a^{(1)}_{0} = x_{0} &&&&\n",
    "    \\frac{\\partial z^{(1)}_{0}}{\\partial w_{01}^{(1)}} = a^{(1)}_{1} = x_{1} &&&&\n",
    "    \\frac{\\partial z^{(1)}_{0}}{\\partial w_{02}^{(1)}} = a^{(1)}_{2} = x_{2} \\\\\n",
    "    \\\\\n",
    "    \\frac{\\partial z^{(1)}_{1}}{\\partial w_{10}^{(1)}} = a^{(1)}_{0} = x_{0} &&&&\n",
    "    \\frac{\\partial z^{(1)}_{1}}{\\partial w_{11}^{(1)}} = a^{(1)}_{1} = x_{1} &&&&\n",
    "    \\frac{\\partial z^{(1)}_{1}}{\\partial w_{12}^{(1)}} = a^{(1)}_{2} = x_{2} \\\\\n",
    "    \\\\\n",
    "    \\frac{\\partial z^{(1)}_{2}}{\\partial w_{20}^{(1)}} = a^{(1)}_{0} = x_{0} &&&&\n",
    "    \\frac{\\partial z^{(1)}_{2}}{\\partial w_{21}^{(1)}} = a^{(1)}_{1} = x_{1} &&&&\n",
    "    \\frac{\\partial z^{(1)}_{2}}{\\partial w_{22}^{(2)}} = a^{(1)}_{2} = x_{2}\n",
    "\\end{align*}\n",
    "$$"
   ]
  },
  {
   "cell_type": "markdown",
   "metadata": {},
   "source": [
    "Activation function:\n",
    "$$\n",
    "\\begin{align*}\n",
    "    a^{(l)}_{i} = \\frac{1}{1 + e^{-z^{(l)}_{i}}} \\\\\n",
    "\\end{align*}\n",
    "$$"
   ]
  },
  {
   "cell_type": "markdown",
   "metadata": {},
   "source": [
    "In general:\n",
    "\n",
    "$$\n",
    "\\begin{align*}\n",
    "    \\frac{\\partial a^{(l)}_{i}}{\\partial z^{(l)}_{i}} = a^{(l)}_{i} (1 - a^{(l)}_{i})\n",
    "    \\hspace{35pt}\n",
    "    where\n",
    "    \\hspace{10pt}\n",
    "    1 \\le l < L\n",
    "\\end{align*}\n",
    "$$\n",
    "\n",
    "Note that for $L=2$ we have linear activation that we compute in a different way, as we have already seen before. But for the hidden layer we have the no linear activation functions."
   ]
  },
  {
   "cell_type": "markdown",
   "metadata": {},
   "source": [
    "Update weights for $l=2$:\n",
    "$$\n",
    "\\begin{align*}\n",
    "    \\frac{\\partial MSE}{\\partial w^{(2)}_{00}} = \n",
    "    \\frac{\\partial MSE}{\\partial y^{(2)}_{0}} \\,\n",
    "    \\frac{\\partial y^{(2)}_{0}}{\\partial z^{(2)}_{0}} \\,\n",
    "    \\frac{\\partial z^{(2)}_{0}}{\\partial w^{(2)}_{00}} &&&&\n",
    "    \\frac{\\partial MSE}{\\partial w^{(2)}_{01}} = \n",
    "    \\frac{\\partial MSE}{\\partial y^{(2)}_{0}} \\,\n",
    "    \\frac{\\partial y^{(2)}_{0}}{\\partial z^{(2)}_{0}} \\,\n",
    "    \\frac{\\partial z^{(2)}_{0}}{\\partial w^{(2)}_{01}} &&&&\n",
    "    \\frac{\\partial MSE}{\\partial w^{(2)}_{02}} = \n",
    "    \\frac{\\partial MSE}{\\partial y^{(2)}_{0}} \\,\n",
    "    \\frac{\\partial y^{(2)}_{0}}{\\partial z^{(2)}_{0}} \\,\n",
    "    \\frac{\\partial z^{(2)}_{0}}{\\partial w^{(2)}_{02}} &&&&\n",
    "    \\frac{\\partial MSE}{\\partial w^{(2)}_{03}} = \n",
    "    \\frac{\\partial MSE}{\\partial y^{(2)}_{0}} \\,\n",
    "    \\frac{\\partial y^{(2)}_{0}}{\\partial z^{(2)}_{0}} \\,\n",
    "    \\frac{\\partial z^{(2)}_{0}}{\\partial w^{(2)}_{03}}\n",
    "\\end{align*}\n",
    "$$"
   ]
  },
  {
   "cell_type": "markdown",
   "metadata": {},
   "source": [
    "$$\n",
    "\\begin{align*}\n",
    "    \\frac{\\partial MSE}{\\partial w^{(2)}_{10}} = \n",
    "    \\frac{\\partial MSE}{\\partial y^{(2)}_{1}} \\,\n",
    "    \\frac{\\partial y^{(2)}_{1}}{\\partial z^{(2)}_{1}} \\,\n",
    "    \\frac{\\partial z^{(2)}_{1}}{\\partial w^{(2)}_{10}} &&&&\n",
    "    \\frac{\\partial MSE}{\\partial w^{(2)}_{11}} = \n",
    "    \\frac{\\partial MSE}{\\partial y^{(2)}_{1}} \\,\n",
    "    \\frac{\\partial y^{(2)}_{1}}{\\partial z^{(2)}_{1}} \\,\n",
    "    \\frac{\\partial z^{(2)}_{1}}{\\partial w^{(2)}_{11}} &&&&\n",
    "    \\frac{\\partial MSE}{\\partial w^{(2)}_{12}} = \n",
    "    \\frac{\\partial MSE}{\\partial y^{(2)}_{1}} \\,\n",
    "    \\frac{\\partial y^{(2)}_{1}}{\\partial z^{(2)}_{1}} \\,\n",
    "    \\frac{\\partial z^{(2)}_{1}}{\\partial w^{(2)}_{12}} &&&&\n",
    "    \\frac{\\partial MSE}{\\partial w^{(2)}_{13}} = \n",
    "    \\frac{\\partial MSE}{\\partial y^{(2)}_{1}} \\,\n",
    "    \\frac{\\partial y^{(2)}_{1}}{\\partial z^{(2)}_{1}} \\,\n",
    "    \\frac{\\partial z^{(2)}_{1}}{\\partial w^{(2)}_{13}}\n",
    "\\end{align*}\n",
    "$$"
   ]
  },
  {
   "cell_type": "markdown",
   "metadata": {},
   "source": [
    "Update weights for $l=1$:\n",
    "$$\n",
    "\\begin{align*}\n",
    "    \\frac{\\partial MSE}{\\partial w^{(1)}_{00}} &= \n",
    "    \\frac{\\partial MSE}{\\partial y^{(2)}_{0}} \\,\n",
    "    \\frac{\\partial y^{(2)}_{0}}{\\partial z^{(2)}_{0}} \\, \n",
    "    \\frac{\\partial z^{(2)}_{0}}{\\partial a^{(1)}_{0}} \\,\n",
    "    \\frac{\\partial a^{(1)}_{0}}{\\partial z^{(1)}_{0}} \\,\n",
    "    \\frac{\\partial z^{(1)}_{0}}{\\partial w^{(1)}_{00}} + &&&&&\n",
    "    %\n",
    "    \\frac{\\partial MSE}{\\partial w^{(1)}_{01}} &= \n",
    "    \\frac{\\partial MSE}{\\partial y^{(2)}_{0}} \\,\n",
    "    \\frac{\\partial y^{(2)}_{0}}{\\partial z^{(2)}_{0}} \\, \n",
    "    \\frac{\\partial z^{(2)}_{0}}{\\partial a^{(1)}_{0}} \\,\n",
    "    \\frac{\\partial a^{(1)}_{0}}{\\partial z^{(1)}_{0}} \\,\n",
    "    \\frac{\\partial z^{(1)}_{0}}{\\partial w^{(1)}_{01}} + &&&&\n",
    "    %\n",
    "    \\frac{\\partial MSE}{\\partial w^{(1)}_{02}} &= \n",
    "    \\frac{\\partial MSE}{\\partial y^{(2)}_{0}} \\,\n",
    "    \\frac{\\partial y^{(2)}_{0}}{\\partial z^{(2)}_{0}} \\, \n",
    "    \\frac{\\partial z^{(2)}_{0}}{\\partial a^{(1)}_{0}} \\,\n",
    "    \\frac{\\partial a^{(1)}_{0}}{\\partial z^{(1)}_{0}} \\,\n",
    "    \\frac{\\partial z^{(1)}_{0}}{\\partial w^{(1)}_{02}} + \\\\\n",
    "    %\n",
    "    &\n",
    "    \\frac{\\partial MSE}{\\partial y^{(2)}_{1}} \\,\n",
    "    \\frac{\\partial y^{(2)}_{1}}{\\partial z^{(2)}_{1}} \\, \n",
    "    \\frac{\\partial z^{(2)}_{1}}{\\partial a^{(1)}_{0}} \\,\n",
    "    \\frac{\\partial a^{(1)}_{0}}{\\partial z^{(1)}_{0}} \\,\n",
    "    \\frac{\\partial z^{(1)}_{0}}{\\partial w^{(1)}_{00}} &&&&&\n",
    "    %\n",
    "    &\n",
    "    \\frac{\\partial MSE}{\\partial y^{(2)}_{1}} \\,\n",
    "    \\frac{\\partial y^{(2)}_{1}}{\\partial z^{(2)}_{1}} \\, \n",
    "    \\frac{\\partial z^{(2)}_{1}}{\\partial a^{(1)}_{0}} \\,\n",
    "    \\frac{\\partial a^{(1)}_{0}}{\\partial z^{(1)}_{0}} \\,\n",
    "    \\frac{\\partial z^{(1)}_{0}}{\\partial w^{(1)}_{01}} &&&&\n",
    "    %\n",
    "    &\n",
    "    \\frac{\\partial MSE}{\\partial y^{(2)}_{1}} \\,\n",
    "    \\frac{\\partial y^{(2)}_{1}}{\\partial z^{(2)}_{1}} \\, \n",
    "    \\frac{\\partial z^{(2)}_{1}}{\\partial a^{(1)}_{0}} \\,\n",
    "    \\frac{\\partial a^{(1)}_{0}}{\\partial z^{(1)}_{0}} \\,\n",
    "    \\frac{\\partial z^{(1)}_{0}}{\\partial w^{(1)}_{02}}\n",
    "\\end{align*}\n",
    "$$"
   ]
  },
  {
   "cell_type": "markdown",
   "metadata": {},
   "source": [
    "\n",
    "$$\n",
    "\\begin{align*}\n",
    "    \\frac{\\partial MSE}{\\partial w^{(1)}_{10}} &= \n",
    "    \\frac{\\partial MSE}{\\partial y^{(2)}_{0}} \\,\n",
    "    \\frac{\\partial y^{(2)}_{0}}{\\partial z^{(2)}_{0}} \\, \n",
    "    \\frac{\\partial z^{(2)}_{0}}{\\partial a^{(1)}_{1}} \\,\n",
    "    \\frac{\\partial a^{(1)}_{1}}{\\partial z^{(1)}_{1}} \\,\n",
    "    \\frac{\\partial z^{(1)}_{1}}{\\partial w^{(1)}_{10}} + &&&&&\n",
    "    %\n",
    "    \\frac{\\partial MSE}{\\partial w^{(1)}_{11}} &= \n",
    "    \\frac{\\partial MSE}{\\partial y^{(2)}_{0}} \\,\n",
    "    \\frac{\\partial y^{(2)}_{0}}{\\partial z^{(2)}_{0}} \\, \n",
    "    \\frac{\\partial z^{(2)}_{0}}{\\partial a^{(1)}_{1}} \\,\n",
    "    \\frac{\\partial a^{(1)}_{1}}{\\partial z^{(1)}_{1}} \\,\n",
    "    \\frac{\\partial z^{(1)}_{1}}{\\partial w^{(1)}_{11}} + &&&&\n",
    "    %\n",
    "    \\frac{\\partial MSE}{\\partial w^{(1)}_{12}} &= \n",
    "    \\frac{\\partial MSE}{\\partial y^{(2)}_{0}} \\,\n",
    "    \\frac{\\partial y^{(2)}_{0}}{\\partial z^{(2)}_{0}} \\, \n",
    "    \\frac{\\partial z^{(2)}_{0}}{\\partial a^{(1)}_{1}} \\,\n",
    "    \\frac{\\partial a^{(1)}_{1}}{\\partial z^{(1)}_{1}} \\,\n",
    "    \\frac{\\partial z^{(1)}_{1}}{\\partial w^{(1)}_{12}} + \\\\\n",
    "    %\n",
    "    &\n",
    "    \\frac{\\partial MSE}{\\partial y^{(2)}_{1}} \\,\n",
    "    \\frac{\\partial y^{(2)}_{1}}{\\partial z^{(2)}_{1}} \\, \n",
    "    \\frac{\\partial z^{(2)}_{1}}{\\partial a^{(1)}_{1}} \\,\n",
    "    \\frac{\\partial a^{(1)}_{1}}{\\partial z^{(1)}_{1}} \\,\n",
    "    \\frac{\\partial z^{(1)}_{1}}{\\partial w^{(1)}_{10}} &&&&&\n",
    "    %\n",
    "    &\n",
    "    \\frac{\\partial MSE}{\\partial y^{(2)}_{1}} \\,\n",
    "    \\frac{\\partial y^{(2)}_{1}}{\\partial z^{(2)}_{1}} \\, \n",
    "    \\frac{\\partial z^{(2)}_{1}}{\\partial a^{(1)}_{1}} \\,\n",
    "    \\frac{\\partial a^{(1)}_{1}}{\\partial z^{(1)}_{1}} \\,\n",
    "    \\frac{\\partial z^{(1)}_{1}}{\\partial w^{(1)}_{11}} &&&&\n",
    "    %\n",
    "    &\n",
    "    \\frac{\\partial MSE}{\\partial y^{(2)}_{1}} \\,\n",
    "    \\frac{\\partial y^{(2)}_{1}}{\\partial z^{(2)}_{1}} \\, \n",
    "    \\frac{\\partial z^{(2)}_{1}}{\\partial a^{(1)}_{1}} \\,\n",
    "    \\frac{\\partial a^{(1)}_{1}}{\\partial z^{(1)}_{1}} \\,\n",
    "    \\frac{\\partial z^{(1)}_{1}}{\\partial w^{(1)}_{12}}\n",
    "\\end{align*}\n",
    "$$\n"
   ]
  },
  {
   "cell_type": "markdown",
   "metadata": {},
   "source": [
    "$$\n",
    "\\begin{align*}\n",
    "    \\frac{\\partial MSE}{\\partial w^{(1)}_{20}} &= \n",
    "    \\frac{\\partial MSE}{\\partial y^{(2)}_{0}} \\,\n",
    "    \\frac{\\partial y^{(2)}_{0}}{\\partial z^{(2)}_{0}} \\, \n",
    "    \\frac{\\partial z^{(2)}_{0}}{\\partial a^{(1)}_{2}} \\,\n",
    "    \\frac{\\partial a^{(1)}_{2}}{\\partial z^{(1)}_{2}} \\,\n",
    "    \\frac{\\partial z^{(1)}_{2}}{\\partial w^{(1)}_{10}} + &&&&&\n",
    "    %\n",
    "    \\frac{\\partial MSE}{\\partial w^{(1)}_{21}} &= \n",
    "    \\frac{\\partial MSE}{\\partial y^{(2)}_{0}} \\,\n",
    "    \\frac{\\partial y^{(2)}_{0}}{\\partial z^{(2)}_{0}} \\, \n",
    "    \\frac{\\partial z^{(2)}_{0}}{\\partial a^{(1)}_{2}} \\,\n",
    "    \\frac{\\partial a^{(1)}_{2}}{\\partial z^{(1)}_{2}} \\,\n",
    "    \\frac{\\partial z^{(1)}_{2}}{\\partial w^{(1)}_{11}} + &&&&\n",
    "    %\n",
    "    \\frac{\\partial MSE}{\\partial w^{(1)}_{22}} &= \n",
    "    \\frac{\\partial MSE}{\\partial y^{(2)}_{0}} \\,\n",
    "    \\frac{\\partial y^{(2)}_{0}}{\\partial z^{(2)}_{0}} \\, \n",
    "    \\frac{\\partial z^{(2)}_{0}}{\\partial a^{(1)}_{2}} \\,\n",
    "    \\frac{\\partial a^{(1)}_{2}}{\\partial z^{(1)}_{2}} \\,\n",
    "    \\frac{\\partial z^{(1)}_{2}}{\\partial w^{(1)}_{12}} + \\\\\n",
    "    %\n",
    "    &\n",
    "    \\frac{\\partial MSE}{\\partial y^{(2)}_{1}} \\,\n",
    "    \\frac{\\partial y^{(2)}_{1}}{\\partial z^{(2)}_{1}} \\, \n",
    "    \\frac{\\partial z^{(2)}_{1}}{\\partial a^{(1)}_{2}} \\,\n",
    "    \\frac{\\partial a^{(1)}_{2}}{\\partial z^{(1)}_{2}} \\,\n",
    "    \\frac{\\partial z^{(1)}_{2}}{\\partial w^{(1)}_{20}} &&&&&\n",
    "    % \n",
    "    &\n",
    "    \\frac{\\partial MSE}{\\partial y^{(2)}_{1}} \\,\n",
    "    \\frac{\\partial y^{(2)}_{1}}{\\partial z^{(2)}_{1}} \\, \n",
    "    \\frac{\\partial z^{(2)}_{1}}{\\partial a^{(1)}_{2}} \\,\n",
    "    \\frac{\\partial a^{(1)}_{2}}{\\partial z^{(1)}_{2}} \\,\n",
    "    \\frac{\\partial z^{(1)}_{2}}{\\partial w^{(1)}_{21}} &&&&\n",
    "    %\n",
    "    &\n",
    "    \\frac{\\partial MSE}{\\partial y^{(2)}_{1}} \\,\n",
    "    \\frac{\\partial y^{(2)}_{1}}{\\partial z^{(2)}_{1}} \\, \n",
    "    \\frac{\\partial z^{(2)}_{1}}{\\partial a^{(1)}_{2}} \\,\n",
    "    \\frac{\\partial a^{(1)}_{2}}{\\partial z^{(1)}_{2}} \\,\n",
    "    \\frac{\\partial z^{(1)}_{2}}{\\partial w^{(1)}_{22}}\n",
    "\\end{align*}\n",
    "$$"
   ]
  },
  {
   "cell_type": "markdown",
   "metadata": {},
   "source": [
    "Decompose\n",
    "\n",
    "$$\n",
    "\\begin{align*}\n",
    "    \\delta^{(L)} &= \\frac{\\partial MSE}{\\partial y} \\,\n",
    "    \\frac{\\partial y}{\\partial z^{(L)}} \\\\\n",
    "    &= \n",
    "    \\frac{\\partial MSE}{\\partial a^{(L)}} \\,\n",
    "    \\frac{\\partial a^{(L)}}{\\partial z^{(L)}} \\\\\n",
    "\\end{align*}\n",
    "$$"
   ]
  },
  {
   "cell_type": "markdown",
   "metadata": {},
   "source": [
    "$$\n",
    "\\begin{align*}\n",
    "    \\delta^{(L-1)} &= \\delta^{(L)} \\,\n",
    "    \\frac{\\partial z^{(L)}}{\\partial a^{(L-1)}} \\,\n",
    "    \\frac{\\partial a^{(L-1)}}{\\partial z^{(L-1)}} \\\\\n",
    "    %\n",
    "    \\delta^{(L-2)} &= \\delta^{(L-1)} \\,\n",
    "    \\frac{\\partial z^{(L-1)}}{\\partial a^{(L-2)}} \\,\n",
    "    \\frac{\\partial a^{(L-2)}}{\\partial z^{(L-2)}} \\\\\n",
    "    & \\vdots \\\\\n",
    "    \\delta^{(l-1)} &= \\delta^{(l)} \\,\n",
    "    \\frac{\\partial z^{(l)}}{\\partial a^{(l-1)}} \\,\n",
    "    \\frac{\\partial a^{(l-1)}}{\\partial z^{(l-1)}}\n",
    "\\end{align*}\n",
    "$$"
   ]
  },
  {
   "cell_type": "markdown",
   "metadata": {},
   "source": [
    "Therefore\n",
    "\n",
    "$$\n",
    "\\begin{align*}\n",
    "    \\frac{\\partial MSE}{\\partial w^{(l)}_{ij}} = \\delta^{(l)} \\, \\frac{\\partial z^{(l)}}{\\partial w^{(l)}_{ij}}\n",
    "\\end{align*}\n",
    "$$"
   ]
  },
  {
   "cell_type": "markdown",
   "metadata": {},
   "source": [
    "Scalar mode:\n",
    "\n",
    "$$\n",
    "\\begin{align*}\n",
    "    \\delta^{(L)}_{i} &= \n",
    "    \\frac{\\partial MSE}{\\partial a^{(L)}_{i}} \\,\n",
    "    \\frac{\\partial a^{(L)}_{i}}{\\partial z^{(L)}_{i}}\n",
    "    \\hspace{75pt}\n",
    "    where\n",
    "    \\hspace{10pt}\n",
    "    0 \\le i < len(L) \\\\\n",
    "    %\n",
    "    \\delta^{(L-1)}_{k} &= \n",
    "    \\sum^{len(L)}_{i=0} \\delta^{(L)}_{i} \\,\n",
    "    \\frac{\\partial z^{(L)}_{i}}{\\partial a^{(L-1)}_{k}} \\,\n",
    "    \\frac{\\partial a^{(L-1)}_{k}}{\\partial z^{(L-1)}_{k}}\n",
    "    \\hspace{35pt}\n",
    "    where\n",
    "    \\hspace{10pt}\n",
    "    0 \\le k < len(L-1) \\\\\n",
    "    %\n",
    "    &\\vdots\\\\\n",
    "    \\delta^{(l-1)}_{k} &= \n",
    "    \\sum^{len(l)}_{i=0} \\delta^{(l)}_{i} \\,\n",
    "    \\frac{\\partial z^{(l)}_{i}}{\\partial a^{(l-1)}_{k}} \\,\n",
    "    \\frac{\\partial a^{(l-1)}_{k}}{\\partial z^{(l-1)}_{k}}\n",
    "    \\hspace{45pt}\n",
    "    where\n",
    "    \\hspace{10pt}\n",
    "    0 \\le k < len(l-1)\n",
    "\\end{align*}\n",
    "$$"
   ]
  },
  {
   "cell_type": "markdown",
   "metadata": {},
   "source": [
    "Therefore:\n",
    "\n",
    "$$\n",
    "\\begin{align*}\n",
    "    \\frac{\\partial MSE}{\\partial w^{(L)}_{ij}} &= \\delta^{(L)}_{i} \\, \n",
    "    \\frac{\\partial z^{(L)}_{i}}{\\partial w^{(L)}_{ij}}\n",
    "    \\hspace{50pt}\n",
    "    where\n",
    "    \\hspace{10pt}\n",
    "    0 \\le i < len(L) &\n",
    "    0 \\le j < len(L-1) \\\\\n",
    "    %\n",
    "    \\frac{\\partial MSE}{\\partial w^{(L-1)}_{ij}} &= \\delta^{(L-1)}_{i} \\, \n",
    "    \\frac{\\partial z^{(L-1)}_{i}}{\\partial w^{(L-1)}_{ij}}\n",
    "    \\hspace{35pt}\n",
    "    where\n",
    "    \\hspace{10pt}\n",
    "    0 \\le i < len(L-1) &\n",
    "    0 \\le j < len(L-2) \\\\\n",
    "    %\n",
    "    & \\vdots \\\\\n",
    "    \\frac{\\partial MSE}{\\partial w^{(l-1)}_{ij}} &= \\delta^{(l-1)}_{i} \\, \n",
    "    \\frac{\\partial z^{(l-1)}_{i}}{\\partial w^{(l-1)}_{ij}}\n",
    "    \\hspace{40pt}\n",
    "    where\n",
    "    \\hspace{10pt}\n",
    "    0 \\le i < len(l-1) &\n",
    "    0 \\le j < len(l-2)\n",
    "\\end{align*}\n",
    "$$"
   ]
  },
  {
   "cell_type": "markdown",
   "metadata": {},
   "source": [
    "## Implementation"
   ]
  },
  {
   "cell_type": "code",
   "execution_count": 166,
   "metadata": {},
   "outputs": [],
   "source": [
    "import numpy as np\n",
    "\n",
    "np.random.seed(0)"
   ]
  },
  {
   "cell_type": "markdown",
   "metadata": {},
   "source": [
    "### Forward pass"
   ]
  },
  {
   "cell_type": "code",
   "execution_count": 167,
   "metadata": {},
   "outputs": [
    {
     "name": "stdout",
     "output_type": "stream",
     "text": [
      "Input x:\n",
      "[[1]\n",
      " [3]] \n",
      "\n",
      "Add 1 to input x:\n",
      "[[1]\n",
      " [3]\n",
      " [1]] \n",
      "\n",
      "Layer 1:\n",
      "W_l1 \n",
      " [[0.5488135  0.71518937 0.60276338]\n",
      " [0.54488318 0.4236548  0.64589411]\n",
      " [0.43758721 0.891773   0.96366276]] \n",
      "\n"
     ]
    }
   ],
   "source": [
    "print(\"Input x:\")\n",
    "x = np.array([[1, 3]]).T\n",
    "print(x, \"\\n\")\n",
    "\n",
    "print(\"Add 1 to input x:\")\n",
    "x = np.array([[1, 3, 1]]).T\n",
    "print(x, \"\\n\")\n",
    "\n",
    "print(\"Layer 1:\")\n",
    "\n",
    "W_l1 = np.random.rand(3, x.shape[0])\n",
    "print(\"W_l1\", \"\\n\", W_l1, \"\\n\")"
   ]
  },
  {
   "cell_type": "code",
   "execution_count": 168,
   "metadata": {},
   "outputs": [
    {
     "data": {
      "text/plain": [
       "3"
      ]
     },
     "execution_count": 168,
     "metadata": {},
     "output_type": "execute_result"
    }
   ],
   "source": [
    "x.shape[0]"
   ]
  },
  {
   "cell_type": "code",
   "execution_count": 169,
   "metadata": {},
   "outputs": [
    {
     "name": "stdout",
     "output_type": "stream",
     "text": [
      "Input x:\n",
      "[[1]\n",
      " [3]] \n",
      "\n",
      "Add 1 to input x:\n",
      "[[1]\n",
      " [3]\n",
      " [1]] \n",
      "\n",
      "Layer 1:\n",
      "W_l1 \n",
      " [[0.38344152 0.79172504 0.52889492]\n",
      " [0.56804456 0.92559664 0.07103606]\n",
      " [0.0871293  0.0202184  0.83261985]] \n",
      "\n",
      "z_l1 \n",
      " [[3.28751155]\n",
      " [3.41587053]\n",
      " [0.98040434]] \n",
      "\n",
      "a_l1 \n",
      " [[0.96399789]\n",
      " [0.96819686]\n",
      " [0.72718844]\n",
      " [1.        ]] \n",
      "\n",
      "Layer 2:\n",
      "W_l2 \n",
      " [[0.77815675 0.87001215 0.97861834 0.79915856]\n",
      " [0.46147936 0.78052918 0.11827443 0.63992102]] \n",
      "\n",
      "z_l2 \n",
      " [[3.10328301]\n",
      " [1.92649985]] \n",
      "\n",
      "y \n",
      " [[3.10328301]\n",
      " [1.92649985]] \n",
      "\n",
      "t\n",
      " [[1]\n",
      " [1]] \n",
      "\n",
      "MSE \n",
      " [2.64110069] \n",
      "\n"
     ]
    }
   ],
   "source": [
    "l1_size = 3\n",
    "l2_size = 2\n",
    "\n",
    "print(\"Input x:\")\n",
    "x = np.array([[1, 3]]).T\n",
    "print(x, \"\\n\")\n",
    "\n",
    "print(\"Add 1 to input x:\")\n",
    "x = np.array([[1, 3, 1]]).T\n",
    "print(x, \"\\n\")\n",
    "\n",
    "print(\"Layer 1:\")\n",
    "W_l1 = np.random.rand(l1_size, x.shape[0])\n",
    "z_l1 = W_l1 @ x\n",
    "a_l1 = 1 / (1 + np.exp(-z_l1))\n",
    "a_l1 = np.vstack([a_l1, 1]) # add 1 input\n",
    "print(\"W_l1\", \"\\n\", W_l1, \"\\n\")\n",
    "print(\"z_l1\", \"\\n\", z_l1, \"\\n\")\n",
    "print(\"a_l1\", \"\\n\", a_l1, \"\\n\")\n",
    "\n",
    "print(\"Layer 2:\")\n",
    "W_l2 = np.random.rand(l2_size, a_l1.shape[0])\n",
    "z_l2 = W_l2 @ a_l1\n",
    "print(\"W_l2\", \"\\n\", W_l2, \"\\n\")\n",
    "print(\"z_l2\", \"\\n\", z_l2, \"\\n\")\n",
    "\n",
    "y = z_l2\n",
    "print(\"y\", \"\\n\", y, \"\\n\")\n",
    "\n",
    "t = np.random.randint(5, size=(2,1))\n",
    "print(\"t\" \"\\n\", t, \"\\n\")\n",
    "MSE = 0.5 * ( (t[0] - y[0])** 2 + (t[1] - y[1])** 2 )\n",
    "print(\"MSE\", \"\\n\", MSE, \"\\n\")"
   ]
  },
  {
   "cell_type": "markdown",
   "metadata": {},
   "source": [
    "## Backward pass"
   ]
  },
  {
   "cell_type": "markdown",
   "metadata": {},
   "source": [
    "$$\n",
    "\\begin{align*}\n",
    "    \\delta^{(L)}_{i} &= \n",
    "    \\frac{\\partial MSE}{\\partial a^{(L)}_{i}} \\,\n",
    "    \\frac{\\partial a^{(L)}_{i}}{\\partial z^{(L)}_{i}}\n",
    "    \\hspace{35pt}\n",
    "    where\n",
    "    \\hspace{10pt}\n",
    "    0 \\le i < len(L) \\\\\n",
    "    %\n",
    "    &= (y_i - t_i) \\, 1 \\\\\n",
    "    &= (y_i - t_i)\n",
    "\\end{align*}\n",
    "$$"
   ]
  },
  {
   "cell_type": "code",
   "execution_count": 170,
   "metadata": {},
   "outputs": [
    {
     "name": "stdout",
     "output_type": "stream",
     "text": [
      "Dimension of L2-layer: 2\n",
      "delta_L2: [2.10328301 0.92649985]\n"
     ]
    }
   ],
   "source": [
    "L2_size = y.shape[0]\n",
    "\n",
    "delta_L2 = np.zeros(L2_size)\n",
    "for i in range(L2_size):\n",
    "    delta_L2[i] = y[i] - t[i]\n",
    "\n",
    "print(f\"Dimension of L2-layer: {L2_size}\")\n",
    "print(f\"delta_L2: {delta_L2}\")"
   ]
  },
  {
   "cell_type": "markdown",
   "metadata": {},
   "source": [
    "$$\n",
    "\\begin{align*}    \n",
    "    \\frac{\\partial MSE}{\\partial w^{(L)}_{ij}} &= \\delta^{(L)}_{i} \\, \\frac{\\partial z^{(L)}_{i}}{\\partial w^{(L)}_{ij}}\n",
    "    \\hspace{35pt}\n",
    "    where\n",
    "    \\hspace{10pt}\n",
    "    0 \\le i < len(L) &\n",
    "    0 \\le j < len(L-1) \\\\\n",
    "    %\n",
    "    &= \\delta^{(L)}_{i} \\, a^{(L-1)}_{j}\n",
    "\\end{align*}\n",
    "$$"
   ]
  },
  {
   "cell_type": "code",
   "execution_count": 171,
   "metadata": {},
   "outputs": [
    {
     "name": "stdout",
     "output_type": "stream",
     "text": [
      "W_grad of layers 2:\n",
      "[[2.02756038 2.03639201 1.52948309 2.10328301]\n",
      " [0.8931439  0.89703425 0.67373998 0.92649985]]\n"
     ]
    }
   ],
   "source": [
    "l1_size = a_l1.shape[0]\n",
    "\n",
    "W_l2_grad = np.zeros_like(W_l2)\n",
    "for i in range(L2_size):\n",
    "    for j in range(l1_size):\n",
    "        W_l2_grad[i,j] = delta_L2[i] * a_l1[j]\n",
    "\n",
    "print(\"W_grad of layers 2:\")\n",
    "print(W_l2_grad)"
   ]
  },
  {
   "cell_type": "markdown",
   "metadata": {},
   "source": [
    " $$\n",
    "\\begin{align*}   \n",
    "    \\delta^{(L-1)}_{k} &= \n",
    "    \\sum^{len(L)}_{i=0} \\delta^{(L)}_{i} \\,\n",
    "    \\frac{\\partial z^{(L)}_{i}}{\\partial a^{(L-1)}_{k}} \\,\n",
    "    \\frac{\\partial a^{(L-1)}_{k}}{\\partial z^{(L-1)}_{k}}\n",
    "    \\hspace{35pt}\n",
    "    where\n",
    "    \\hspace{10pt}\n",
    "    0 \\le k < len(L-1) \\\\\n",
    "    %\n",
    "    &= \\sum^{len(L)}_{i=0} \\delta^{(L)}_{i} \\, w^{(L)}_{ik} \\, a^{(L-1)}_{k} \\, (1 - a^{(L-1)}_{k})\n",
    "\\end{align*}\n",
    "$$"
   ]
  },
  {
   "cell_type": "code",
   "execution_count": 172,
   "metadata": {},
   "outputs": [
    {
     "name": "stdout",
     "output_type": "stream",
     "text": [
      "Dimension of L1-layer: 3\n",
      "delta_L1: [0.07164158 0.07861249 0.43007826]\n"
     ]
    }
   ],
   "source": [
    "l1_size = z_l1.shape[0]\n",
    "\n",
    "delta_l1 = np.zeros(l1_size)\n",
    "for k in range(l1_size):\n",
    "    acc = 0\n",
    "    for i in range(L2_size):\n",
    "        acc += delta_L2[i] * W_l2[i,k] * a_l1[k] * (1 - a_l1[k])\n",
    "    delta_l1[k] = acc\n",
    "\n",
    "print(f\"Dimension of L1-layer: {l1_size}\")\n",
    "print(f\"delta_L1: {delta_l1}\")"
   ]
  },
  {
   "cell_type": "markdown",
   "metadata": {},
   "source": [
    "$$\n",
    "\\begin{align*}\n",
    "    \\frac{\\partial MSE}{\\partial w^{(L-1)}_{ij}} &= \\delta^{(L-1)}_{i} \\,\n",
    "    \\frac{\\partial z^{(L-1)}_{i}}{\\partial w^{(L-1)}_{ij}}\n",
    "    \\hspace{35pt}\n",
    "    where\n",
    "    \\hspace{10pt}\n",
    "    0 \\le i < len(L-1) &\n",
    "    0 \\le j < len(L-2) \\\\\n",
    "    %\n",
    "    &= \\delta^{(L-1)}_{i} \\, a^{(L-2)}_{j} \\\\\n",
    "    &= \\delta^{(L-1)}_{i} \\, x_{j} \\\\\n",
    "\\end{align*}\n",
    "$$"
   ]
  },
  {
   "cell_type": "code",
   "execution_count": 173,
   "metadata": {},
   "outputs": [
    {
     "name": "stdout",
     "output_type": "stream",
     "text": [
      "W_grad of layers 1:\n",
      "[[0.07164158 0.21492474 0.07164158]\n",
      " [0.07861249 0.23583748 0.07861249]\n",
      " [0.43007826 1.29023479 0.43007826]]\n"
     ]
    }
   ],
   "source": [
    "l0_size = x.shape[0]\n",
    "\n",
    "W_l1_grad = np.zeros_like(W_l1)\n",
    "for i in range(l1_size):\n",
    "    for j in range(l0_size):\n",
    "        W_l1_grad[i,j] = delta_l1[i] * x[j]\n",
    "\n",
    "print(\"W_grad of layers 1:\")\n",
    "print(W_l1_grad)"
   ]
  },
  {
   "cell_type": "markdown",
   "metadata": {},
   "source": [
    "## Gradient descent"
   ]
  },
  {
   "cell_type": "code",
   "execution_count": 174,
   "metadata": {},
   "outputs": [],
   "source": [
    "mu = 0.01"
   ]
  },
  {
   "cell_type": "code",
   "execution_count": 175,
   "metadata": {},
   "outputs": [
    {
     "name": "stdout",
     "output_type": "stream",
     "text": [
      "w_l1 before:\n",
      "[[0.38344152 0.79172504 0.52889492]\n",
      " [0.56804456 0.92559664 0.07103606]\n",
      " [0.0871293  0.0202184  0.83261985]]\n",
      "\n",
      "\n",
      "w_l1 new:\n",
      "[[0.3827251  0.78957579 0.5281785 ]\n",
      " [0.56725844 0.92323826 0.07024993]\n",
      " [0.08282852 0.00731605 0.82831906]]\n"
     ]
    }
   ],
   "source": [
    "print(\"w_l1 before:\")\n",
    "print(W_l1)\n",
    "W_l1 = W_l1 - mu * W_l1_grad\n",
    "\n",
    "print(\"\\n\")\n",
    "\n",
    "print(\"w_l1 new:\")\n",
    "print(W_l1)"
   ]
  },
  {
   "cell_type": "code",
   "execution_count": 176,
   "metadata": {},
   "outputs": [
    {
     "name": "stdout",
     "output_type": "stream",
     "text": [
      "w_l2 before:\n",
      "[[0.77815675 0.87001215 0.97861834 0.79915856]\n",
      " [0.46147936 0.78052918 0.11827443 0.63992102]]\n",
      "\n",
      "\n",
      "w_l2 new:\n",
      "[[0.75788115 0.84964823 0.96332351 0.77812573]\n",
      " [0.45254792 0.77155883 0.11153703 0.63065602]]\n"
     ]
    }
   ],
   "source": [
    "print(\"w_l2 before:\")\n",
    "print(W_l2)\n",
    "W_l2 = W_l2 - mu * W_l2_grad\n",
    "\n",
    "print(\"\\n\")\n",
    "\n",
    "print(\"w_l2 new:\")\n",
    "print(W_l2)"
   ]
  },
  {
   "cell_type": "code",
   "execution_count": 177,
   "metadata": {},
   "outputs": [
    {
     "name": "stdout",
     "output_type": "stream",
     "text": [
      "BEFORE\n",
      "MSE \n",
      " [2.64110069] \n",
      "\n",
      "AFTER\n",
      "MSE \n",
      " [2.44414192] \n",
      "\n"
     ]
    }
   ],
   "source": [
    "print(\"BEFORE\")\n",
    "print(\"MSE\", \"\\n\", MSE, \"\\n\")\n",
    "\n",
    "x = np.array([[1,3]]).T\n",
    "x = np.vstack([x, [1]])\n",
    "z_l1 = W_l1 @ x\n",
    "a_l1 = 1 / (1 + np.exp(-z_l1))\n",
    "a_l1 = np.vstack([a_l1, 1]) # add 1 input\n",
    "z_l2 = W_l2 @ a_l1\n",
    "y = z_l2\n",
    "MSE = 0.5 * ( (t[0] - y[0])** 2 + (t[1] - y[1])** 2 )\n",
    "\n",
    "print(\"AFTER\")\n",
    "print(\"MSE\", \"\\n\", MSE, \"\\n\")"
   ]
  },
  {
   "cell_type": "markdown",
   "metadata": {},
   "source": [
    "## Problem"
   ]
  },
  {
   "cell_type": "code",
   "execution_count": 233,
   "metadata": {},
   "outputs": [],
   "source": [
    "X = np.random.rand(1000, 2)\n",
    "#y = 50 * np.exp(np.sin(X)) # too difficult?\n",
    "y = 15 * np.sin(X)"
   ]
  },
  {
   "cell_type": "code",
   "execution_count": 234,
   "metadata": {},
   "outputs": [],
   "source": [
    "from sklearn.model_selection import train_test_split\n",
    "X_train, X_test, y_train, y_test = train_test_split(X, y, test_size=0.33, random_state=42)"
   ]
  },
  {
   "cell_type": "code",
   "execution_count": 235,
   "metadata": {},
   "outputs": [
    {
     "data": {
      "text/plain": [
       "((670, 2), (670, 2))"
      ]
     },
     "execution_count": 235,
     "metadata": {},
     "output_type": "execute_result"
    }
   ],
   "source": [
    "X_train.shape, y_train.shape"
   ]
  },
  {
   "cell_type": "code",
   "execution_count": 236,
   "metadata": {},
   "outputs": [],
   "source": [
    "in_size = 2\n",
    "hid_1_size = 3\n",
    "out_size = 2\n",
    "\n",
    "sizes = [in_size, hid_1_size, out_size]"
   ]
  },
  {
   "cell_type": "code",
   "execution_count": 237,
   "metadata": {},
   "outputs": [
    {
     "name": "stdout",
     "output_type": "stream",
     "text": [
      "W_l1 | Layer 1, with index 0\n",
      "[[0.74669869 0.96823925]\n",
      " [0.31578774 0.45369754]\n",
      " [0.47384458 0.28591303]]\n",
      "\n",
      "\n",
      "W_l2 | Layer 2, with index 1\n",
      "[[0.28946358 0.33217074 0.73033831]\n",
      " [0.7637502  0.85113377 0.67101466]]\n"
     ]
    }
   ],
   "source": [
    "W = []\n",
    "\n",
    "W.append(np.random.rand(sizes[1], sizes[0]))\n",
    "print(\"W_l1 | Layer 1, with index 0\")\n",
    "print(W[0])\n",
    "\n",
    "print(\"\\n\")\n",
    "\n",
    "W.append(np.random.rand(sizes[2], sizes[1]))\n",
    "print(\"W_l2 | Layer 2, with index 1\")\n",
    "print(W[1])"
   ]
  },
  {
   "cell_type": "code",
   "execution_count": 238,
   "metadata": {},
   "outputs": [
    {
     "name": "stdout",
     "output_type": "stream",
     "text": [
      "z_l1 | Layer 1, with index 0:\n",
      "[0. 0. 0.]\n",
      "a_l1 | Layer 1, with index 0:\n",
      "[0. 0. 0.]\n",
      "\n",
      "\n",
      "z_l2 | Layer 2, with index 1:\n",
      "[0. 0.]\n",
      "a_l2 = y | Layer 2, with index 1:\n",
      "[0. 0.]\n"
     ]
    }
   ],
   "source": [
    "z = []\n",
    "a = []\n",
    "\n",
    "# Layer 1, with index 0\n",
    "z.append(np.zeros(sizes[1]))\n",
    "a.append(np.zeros(sizes[1]))\n",
    "print(\"z_l1 | Layer 1, with index 0:\")\n",
    "print(z[0])\n",
    "print(\"a_l1 | Layer 1, with index 0:\")\n",
    "print(a[0])\n",
    "\n",
    "print(\"\\n\")\n",
    "\n",
    "# Layer 2, with index 1\n",
    "a.append(np.zeros(sizes[2]))\n",
    "z.append(np.zeros(sizes[2]))\n",
    "print(\"z_l2 | Layer 2, with index 1:\")\n",
    "print(z[1])\n",
    "print(\"a_l2 = y | Layer 2, with index 1:\")\n",
    "print(a[1])"
   ]
  },
  {
   "cell_type": "code",
   "execution_count": 239,
   "metadata": {},
   "outputs": [],
   "source": [
    "def forward(xi, log=False):\n",
    "\n",
    "    # Input\n",
    "    if log: print(\"Input x:\")\n",
    "    x = np.array([xi]).T\n",
    "    if log: print(x, \"\\n\")\n",
    "\n",
    "    # Layer 1\n",
    "    if log: print(\"Layer 1:\")\n",
    "    z[0] = W[0] @ x\n",
    "    a[0] = 1 / (1 + np.exp(-z[0]))\n",
    "    if log: print(\"W_l1\", \"\\n\", W[0], \"\\n\")\n",
    "    if log: print(\"z_l1\", \"\\n\", z[0], \"\\n\")\n",
    "    if log: print(\"a_l1\", \"\\n\", a[0], \"\\n\")\n",
    "\n",
    "    # Layer 2\n",
    "    if log: print(\"Layer 2:\")\n",
    "    z[1] = W[1] @ a[0]\n",
    "    a[1] = z[1]\n",
    "    if log: print(\"W_l2\", \"\\n\", W[1], \"\\n\")\n",
    "    if log: print(\"z_l2\", \"\\n\", z[1], \"\\n\")\n",
    "    if log: print(\"y\", \"\\n\", a[1], \"\\n\")\n",
    "\n",
    "    return a[1]\n",
    "\n",
    "\n",
    "def loss_MSE(x, t, log=False):\n",
    "    # MSE\n",
    "    if log: print(\"t\" \"\\n\", t, \"\\n\")\n",
    "\n",
    "    try:\n",
    "        MSE = 0.5 * ( (t[0] - x[0])** 2 + (t[1] - x[1])** 2 )\n",
    "        return MSE\n",
    "    except Exception as e:\n",
    "        print(e)\n",
    "\n",
    "\n",
    "def backward(t):\n",
    "\n",
    "    # Initialization\n",
    "    W_grad = []\n",
    "    for w in W:\n",
    "        W_grad.append(np.zeros_like(w))\n",
    "\n",
    "    delta = []\n",
    "    for i in range(1, len(sizes)):\n",
    "        delta.append(np.zeros(sizes[i]))\n",
    "\n",
    "    # -------------------------------\n",
    "    # LAYER 2\n",
    "    # compute delta\n",
    "    for i in range(sizes[2]):\n",
    "        delta[1][i] = a[1][i] - t[i]\n",
    "\n",
    "    # compute W_grad\n",
    "    for i in range(sizes[2]):\n",
    "        for j in range(sizes[1]):\n",
    "            W_grad[1][i,j] = delta[1][i] * a[0][j]\n",
    "\n",
    "    # -------------------------------\n",
    "    # LAYER 1\n",
    "    # compute delta\n",
    "    for k in range(sizes[1]):\n",
    "        acc = 0\n",
    "        for i in range(sizes[2]):\n",
    "            acc += delta[1][i] * W[1][i,k] * a[0][k] * (1 - a[0][k])\n",
    "        delta[0][k] = acc\n",
    "\n",
    "    # compute W_grad\n",
    "    for i in range(sizes[1]):\n",
    "        for j in range(sizes[0]):\n",
    "            W_grad[0][i,j] = delta[0][i] * x[j]\n",
    "\n",
    "    # UPDATE WEIGHTS\n",
    "    mu = 0.00001\n",
    "    for idx, w_grad in enumerate(W_grad):\n",
    "        W[idx] = W[idx] - mu * w_grad"
   ]
  },
  {
   "cell_type": "code",
   "execution_count": 240,
   "metadata": {},
   "outputs": [
    {
     "name": "stdout",
     "output_type": "stream",
     "text": [
      "Epoch: 0, \t Test loss: [43.95948972], \t Train loss: [45.0018069]\n",
      "Epoch: 10, \t Test loss: [37.46226462], \t Train loss: [38.31239628]\n",
      "Epoch: 20, \t Test loss: [31.34839281], \t Train loss: [32.00964916]\n",
      "Epoch: 30, \t Test loss: [26.13928967], \t Train loss: [26.6355257]\n",
      "Epoch: 40, \t Test loss: [22.01773909], \t Train loss: [22.37745752]\n",
      "Epoch: 50, \t Test loss: [18.90758545], \t Train loss: [19.15606628]\n",
      "Epoch: 60, \t Test loss: [16.62757953], \t Train loss: [16.78534274]\n",
      "Epoch: 70, \t Test loss: [14.98516174], \t Train loss: [15.06855663]\n",
      "Epoch: 80, \t Test loss: [13.81419841], \t Train loss: [13.83629569]\n",
      "Epoch: 90, \t Test loss: [12.98386605], \t Train loss: [12.95519922]\n",
      "Epoch: 100, \t Test loss: [12.3960044], \t Train loss: [12.32512389]\n",
      "Epoch: 110, \t Test loss: [11.97904215], \t Train loss: [11.87292684]\n",
      "Epoch: 120, \t Test loss: [11.68175715], \t Train loss: [11.54612643]\n",
      "Epoch: 130, \t Test loss: [11.46796921], \t Train loss: [11.30752554]\n",
      "Epoch: 140, \t Test loss: [11.31237909], \t Train loss: [11.13100032]\n",
      "Epoch: 150, \t Test loss: [11.19744402], \t Train loss: [10.99833821]\n",
      "Epoch: 160, \t Test loss: [11.11109094], \t Train loss: [10.89692179]\n",
      "Epoch: 170, \t Test loss: [11.04506944], \t Train loss: [10.81805851]\n",
      "Epoch: 180, \t Test loss: [10.99377825], \t Train loss: [10.755788]\n",
      "Epoch: 190, \t Test loss: [10.95343514], \t Train loss: [10.70603632]\n",
      "Epoch: 200, \t Test loss: [10.92149315], \t Train loss: [10.66601892]\n",
      "Epoch: 210, \t Test loss: [10.89623216], \t Train loss: [10.6338214]\n",
      "Epoch: 220, \t Test loss: [10.87647534], \t Train loss: [10.60810676]\n",
      "Epoch: 230, \t Test loss: [10.86139429], \t Train loss: [10.58791324]\n",
      "Epoch: 240, \t Test loss: [10.85037766], \t Train loss: [10.57251701]\n",
      "Epoch: 250, \t Test loss: [10.84294509], \t Train loss: [10.56134154]\n",
      "Epoch: 260, \t Test loss: [10.83869338], \t Train loss: [10.55390042]\n",
      "Epoch: 270, \t Test loss: [10.83726527], \t Train loss: [10.54976369]\n",
      "Epoch: 280, \t Test loss: [10.83833346], \t Train loss: [10.54854027]\n",
      "Epoch: 290, \t Test loss: [10.84159429], \t Train loss: [10.54987052]\n"
     ]
    }
   ],
   "source": [
    "EPOCHS = 300\n",
    "for ep in range(EPOCHS):\n",
    "    for i in range(X_train.shape[0]):\n",
    "        target = y_train[i]\n",
    "        out = forward(X_train[i])\n",
    "        loss = loss_MSE(out, target)\n",
    "        backward(target)\n",
    "\n",
    "    if ep%10==0:\n",
    "        loss = 0\n",
    "        for j in range(X_train.shape[0]):\n",
    "            target = y_train[j]\n",
    "            out = forward(X_train[j])\n",
    "            loss += loss_MSE(out, target)\n",
    "        l_train = loss / X_train.shape[0]\n",
    "\n",
    "        loss = 0\n",
    "        for j in range(X_test.shape[0]):\n",
    "            target = y_test[j]\n",
    "            out = forward(X_test[j])\n",
    "            loss += loss_MSE(out, target)\n",
    "        l_test = loss / X_test.shape[0]\n",
    "\n",
    "        print(f\"Epoch: {ep}, \\t Test loss: {l_test}, \\t Train loss: {l_train}\")"
   ]
  },
  {
   "cell_type": "code",
   "execution_count": 241,
   "metadata": {},
   "outputs": [
    {
     "name": "stdout",
     "output_type": "stream",
     "text": [
      "input \t0.6054662992640721 0.6300245595074443\n",
      "target \t8.53718319800151 8.83746903783294\n",
      "out \t7.0828813315987516 7.26092870559477\n",
      "loss \t[2.30023667] \n",
      "\n",
      "input \t0.6525266404212424 0.05851174583322949\n",
      "target \t9.107938340591033 0.8771754676180992\n",
      "out \t5.656536016550342 5.794287243201136\n",
      "loss \t[18.04508311] \n",
      "\n",
      "input \t0.9950727226478373 0.24058989751789528\n",
      "target \t12.58197842465046 3.5741336234480428\n",
      "out \t6.676524804947052 6.839117833788919\n",
      "loss \t[22.76725217] \n",
      "\n",
      "input \t0.41620098844153264 0.2524901502675777\n",
      "target \t6.064330252047687 3.7472389084557305\n",
      "out \t5.8695629016157325 6.016078581608252\n",
      "loss \t[2.59278389] \n",
      "\n",
      "input \t0.45722022198423384 0.9436332676510186\n",
      "target \t6.621833518658247 12.145434349640754\n",
      "out \t7.497821335317667 7.688697472024757\n",
      "loss \t[10.31492913] \n",
      "\n"
     ]
    }
   ],
   "source": [
    "# Prediction\n",
    "for i in range(5):\n",
    "    out = forward(X_test[i])\n",
    "    loss = loss_MSE(out, y_test[i])\n",
    "    print(f\"input \\t{X_test[i][0]} {X_test[i][1]}\")\n",
    "    print(f\"target \\t{y_test[i][0]} {y_test[i][1]}\")\n",
    "    print(f\"out \\t{out[0][0]} {out[1][0]}\")\n",
    "    print(f\"loss \\t{loss} \\n\")"
   ]
  }
 ],
 "metadata": {
  "kernelspec": {
   "display_name": "Python 3.8.5 ('venv': venv)",
   "language": "python",
   "name": "python3"
  },
  "language_info": {
   "codemirror_mode": {
    "name": "ipython",
    "version": 3
   },
   "file_extension": ".py",
   "mimetype": "text/x-python",
   "name": "python",
   "nbconvert_exporter": "python",
   "pygments_lexer": "ipython3",
   "version": "3.8.5"
  },
  "varInspector": {
   "cols": {
    "lenName": 16,
    "lenType": 16,
    "lenVar": 40
   },
   "kernels_config": {
    "python": {
     "delete_cmd_postfix": "",
     "delete_cmd_prefix": "del ",
     "library": "var_list.py",
     "varRefreshCmd": "print(var_dic_list())"
    },
    "r": {
     "delete_cmd_postfix": ") ",
     "delete_cmd_prefix": "rm(",
     "library": "var_list.r",
     "varRefreshCmd": "cat(var_dic_list()) "
    }
   },
   "types_to_exclude": [
    "module",
    "function",
    "builtin_function_or_method",
    "instance",
    "_Feature"
   ],
   "window_display": false
  },
  "vscode": {
   "interpreter": {
    "hash": "f7e374ee5e09e3e1c64a32e01379f0a0a71f66221bd3efaa81b204d4a8f2076c"
   }
  }
 },
 "nbformat": 4,
 "nbformat_minor": 2
}
