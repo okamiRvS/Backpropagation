{
 "cells": [
  {
   "cell_type": "code",
   "execution_count": 2,
   "metadata": {},
   "outputs": [],
   "source": [
    "import numpy as np\n",
    "\n",
    "np.random.seed(0)"
   ]
  },
  {
   "cell_type": "markdown",
   "metadata": {},
   "source": [
    "![backpropagation](imgs/backpropagation.png)"
   ]
  },
  {
   "cell_type": "markdown",
   "metadata": {},
   "source": [
    "Mean squared error:\n",
    "\n",
    "$$\n",
    "\\begin{align*}\n",
    "    MSE &= \\frac{1}{2} \\sum^{1}_{n=0} (t_i - y_i)^2 \\\\\n",
    "    &= \\frac{1}{2} (t_0 - y_0)^2 + \\frac{1}{2} (t_1 - y_1)^2\n",
    "\\end{align*}\n",
    "$$"
   ]
  },
  {
   "cell_type": "markdown",
   "metadata": {},
   "source": [
    "In general:\n",
    "$$\n",
    "\\begin{align*}\n",
    "    \\frac{\\partial MSE}{\\partial y_{i}} &= -(t_i - y_i) \\\\\n",
    "    &= -y_i + t_i \n",
    "\\end{align*}\n",
    "$$\n",
    "\n",
    "In specific case:\n",
    "$$\n",
    "\\begin{align*}\n",
    "    \\frac{\\partial MSE}{\\partial y_{0}} &= -(t_0 - y_0) \\\\\n",
    "    &= -y_0 + t_0 \n",
    "\\end{align*}\n",
    "$$\n",
    "\n",
    "$$\n",
    "\\begin{align*}\n",
    "    \\frac{\\partial MSE}{\\partial y_{1}} &= -(t_1 - y_1) \\\\\n",
    "    &= -y_1 + t_1 \n",
    "\\end{align*}\n",
    "$$"
   ]
  },
  {
   "cell_type": "markdown",
   "metadata": {},
   "source": [
    "Linear activation (before final output):\n",
    "$$\n",
    "\\begin{align*}\n",
    "    y_i &= z_i^{(L)}\n",
    "    \\hspace{35pt}\n",
    "    where\n",
    "    \\hspace{10pt}\n",
    "    \\{0, 1, ..., l, ..., L-1, L\\} \\,\\, layers\n",
    "\\end{align*}\n",
    "$$"
   ]
  },
  {
   "cell_type": "markdown",
   "metadata": {},
   "source": [
    "In general:\n",
    "$$\n",
    "\\begin{align*}\n",
    "    \\frac{\\partial y_i}{\\partial z^{(L)}_{i}} &= \\frac{\\partial a^{(L)}_i}{\\partial z^{(L)}_{i}} = 1 \\\\\n",
    "\\end{align*}\n",
    "$$\n",
    "\n",
    "In specific case:\n",
    "$$\n",
    "\\begin{align*}\n",
    "    \\frac{\\partial y_0}{\\partial z^{(L)}_{0}} &= \\frac{\\partial a^{(L)}_0}{\\partial z^{(L)}_{i}} = 1 \\\\\n",
    "\\end{align*}\n",
    "$$\n",
    "\n",
    "$$\n",
    "\\begin{align*}\n",
    "    \\frac{\\partial y_1}{\\partial z^{(L)}_{1}} &= \\frac{\\partial a^{(L)}_1}{\\partial z^{(L)}_{i}} = 1 \\\\\n",
    "\\end{align*}\n",
    "$$"
   ]
  },
  {
   "cell_type": "markdown",
   "metadata": {},
   "source": [
    "Before activation function:\n",
    "\n",
    "- In matrix form:\n",
    "$$\n",
    "\\begin{align*}\n",
    "    z^{(l)} &= W^{(l)} \\, a^{l-1} \\\\\n",
    "\\end{align*}\n",
    "$$"
   ]
  },
  {
   "cell_type": "markdown",
   "metadata": {},
   "source": [
    "- For instante, we fix $l=2$ (that is last layer L), therefore we want compute between last layer and middle layer:\n",
    "$$\n",
    "\\begin{align*}\n",
    "\n",
    "    z^{(l)} &= W^{(l)} \\, a^{l-1} \\\\\n",
    "    &= W^{(2)} \\, a^{1} \\\\\n",
    "    \n",
    "    &=\n",
    "    \\begin{bmatrix}\n",
    "        w^{(2)}_{00} & w^{(2)}_{01} & w^{(2)}_{02} \\\\\n",
    "        w^{(2)}_{10} & w^{(2)}_{11} & w^{(2)}_{12}\n",
    "    \\end{bmatrix}\n",
    "\n",
    "    \\begin{bmatrix}\n",
    "        a^{(1)}_{0} \\\\\n",
    "        a^{(1)}_{1} \\\\\n",
    "        a^{(1)}_{2}\n",
    "    \\end{bmatrix} \\\\\n",
    "\n",
    "    &=\n",
    "    \\begin{bmatrix}\n",
    "        w^{(2)}_{00} a^{(1)}_{0} + w^{(2)}_{01} a^{(1)}_{01} + w^{(2)}_{02} a^{(1)}_{2} \\\\\n",
    "        w^{(2)}_{10} a^{(1)}_{0} + w^{(2)}_{11} a^{(1)}_{01} + w^{(2)}_{12} a^{(1)}_{2}\n",
    "    \\end{bmatrix} \\\\\n",
    "\n",
    "    &=\n",
    "    \\begin{bmatrix}\n",
    "        z^{(2)}_{0} \\\\\n",
    "        z^{(2)}_{1}\n",
    "    \\end{bmatrix}\n",
    "\n",
    "\\end{align*}\n",
    "$$"
   ]
  },
  {
   "cell_type": "markdown",
   "metadata": {},
   "source": [
    "- For instante, we fix $l=1$, therefore we want compute between middle layer and input:\n",
    "$$\n",
    "\\begin{align*}\n",
    "\n",
    "    z^{(l)} &= W^{(l)} \\, a^{l-1} \\\\\n",
    "    &= W^{(1)} \\, a^{0} \\\\\n",
    "    &= W^{(1)} \\, x \\\\\n",
    "    \n",
    "    &=\n",
    "    \\begin{bmatrix}\n",
    "        w^{(1)}_{00} & w^{(1)}_{01 } \\\\\n",
    "        w^{(1)}_{10} & w^{(1)}_{11} \\\\\n",
    "        w^{(1)}_{20} & w^{(1)}_{21}\n",
    "    \\end{bmatrix}\n",
    "\n",
    "    \\begin{bmatrix}\n",
    "        x^{(1)}_{0} \\\\\n",
    "        x^{(1)}_{1}\n",
    "    \\end{bmatrix} \\\\\n",
    "\n",
    "    &=\n",
    "    \\begin{bmatrix}\n",
    "        w^{(1)}_{00} x_{0} + w^{(1)}_{01} x_{1} \\\\\n",
    "        w^{(1)}_{10} x_{0} + w^{(1)}_{11} x_{1} \\\\\n",
    "        w^{(1)}_{20} x_{0} + w^{(1)}_{21} x_{1}\n",
    "    \\end{bmatrix} \\\\\n",
    "\n",
    "    &=\n",
    "    \\begin{bmatrix}\n",
    "        z^{(1)}_{0} \\\\\n",
    "        z^{(1)}_{1} \\\\\n",
    "        z^{(1)}_{2}\n",
    "    \\end{bmatrix}\n",
    "\n",
    "\\end{align*}\n",
    "$$"
   ]
  },
  {
   "cell_type": "markdown",
   "metadata": {},
   "source": [
    "- In scalar form:\n",
    "$$\n",
    "\\begin{align*}\n",
    "    z^{(l)}_{i} &= \\sum^{len(l)}_{i=0} \\sum^{len(l-1)}_{j=0} w^{(l)}_{ij} \\, a^{(l-1)}_{j} \\\\\n",
    "\\end{align*}\n",
    "$$\n",
    "\n",
    "$$\n",
    "\\begin{align*}\n",
    "    z^{(2)}_{0} &= w^{(2)}_{00} a^{(1)}_{0} + w^{(2)}_{01} a^{(1)}_{1} + w^{(2)}_{02} a^{(1)}_{2} \\\\\n",
    "    z^{(2)}_{1} &= w^{(2)}_{10} a^{(1)}_{0} + w^{(2)}_{11} a^{(1)}_{1} + w^{(2)}_{12} a^{(1)}_{2} \\\\\n",
    "    \\\\\n",
    "    z^{(1)}_{0} &= w^{(1)}_{00} x_{0} + w^{(1)}_{01} x_{1} \\\\\n",
    "    z^{(1)}_{1} &= w^{(1)}_{10} x_{0} + w^{(1)}_{11} x_{1} \\\\\n",
    "    z^{(1)}_{2} &= w^{(1)}_{20} x_{0} + w^{(1)}_{21} x_{1}\n",
    "\\end{align*}\n",
    "$$"
   ]
  },
  {
   "cell_type": "markdown",
   "metadata": {},
   "source": [
    "In general:\n",
    "\n",
    "$$\n",
    "\\begin{align*}\n",
    "    \\frac{\\partial z^{(l)}_{i}}{\\partial a^{(l-1)}_{j}} = w_{ij}^{(l)}\n",
    "    \\hspace{35pt}\n",
    "    where\n",
    "    \\hspace{10pt}\n",
    "    a^{(0)}_{j} = x_j\n",
    "\\end{align*}\n",
    "$$"
   ]
  },
  {
   "cell_type": "markdown",
   "metadata": {},
   "source": [
    "In specific case:\n",
    "\n",
    "$$\n",
    "\\begin{align*}\n",
    "    \\frac{\\partial z^{(2)}_{0}}{\\partial a^{(1)}_{0}} = w_{00}^{(2)} \\\\\n",
    "    \\frac{\\partial z^{(2)}_{0}}{\\partial a^{(1)}_{1}} = w_{01}^{(2)} \\\\\n",
    "    \\frac{\\partial z^{(2)}_{0}}{\\partial a^{(1)}_{2}} = w_{02}^{(2)} \\\\\n",
    "    \\\\\n",
    "    \\frac{\\partial z^{(2)}_{1}}{\\partial a^{(1)}_{0}} = w_{10}^{(2)} \\\\\n",
    "    \\frac{\\partial z^{(2)}_{1}}{\\partial a^{(1)}_{1}} = w_{11}^{(2)} \\\\\n",
    "    \\frac{\\partial z^{(2)}_{1}}{\\partial a^{(1)}_{2}} = w_{12}^{(2)} \\\\\n",
    "    \\\\\n",
    "    \\frac{\\partial z^{(1)}_{0}}{\\partial a^{(1)}_{0}} = \\frac{\\partial z^{(1)}_{0}}{\\partial x_{0}} = w_{00}^{(1)} \\\\\n",
    "    \\frac{\\partial z^{(1)}_{0}}{\\partial a^{(1)}_{1}} = \\frac{\\partial z^{(1)}_{0}}{\\partial x_{1}} = w_{01}^{(1)} \\\\\n",
    "    \\\\\n",
    "    \\frac{\\partial z^{(1)}_{1}}{\\partial a^{(1)}_{0}} = \\frac{\\partial z^{(1)}_{1}}{\\partial x_{0}} = w_{10}^{(1)} \\\\\n",
    "    \\frac{\\partial z^{(1)}_{1}}{\\partial a^{(1)}_{1}} = \\frac{\\partial z^{(1)}_{1}}{\\partial x_{1}} = w_{11}^{(1)} \\\\\n",
    "    \\\\\n",
    "    \\frac{\\partial z^{(1)}_{2}}{\\partial a^{(1)}_{0}} = \\frac{\\partial z^{(1)}_{2}}{\\partial x_{0}} = w_{20}^{(1)} \\\\\n",
    "    \\frac{\\partial z^{(1)}_{2}}{\\partial a^{(1)}_{1}} = \\frac{\\partial z^{(1)}_{2}}{\\partial x_{1}} = w_{21}^{(1)} \\\\\n",
    "\\end{align*}"
   ]
  },
  {
   "cell_type": "markdown",
   "metadata": {},
   "source": [
    "In general:\n",
    "\n",
    "$$\n",
    "\\begin{align*}\n",
    "    \\frac{\\partial z^{(l)}_{i}}{\\partial w^{(l)}_{ij}} = a^{(l-1)}_{j}\n",
    "    \\hspace{35pt}\n",
    "    where\n",
    "    \\hspace{10pt}\n",
    "    a^{(0)}_{j} = x_j\n",
    "\\end{align*}\n",
    "$$"
   ]
  },
  {
   "cell_type": "markdown",
   "metadata": {},
   "source": [
    "In specific case:\n",
    "\n",
    "$$\n",
    "\\begin{align*}\n",
    "    \\frac{\\partial z^{(2)}_{0}}{\\partial w_{00}^{(2)}} = a^{(1)}_{0} \\\\\n",
    "    \\frac{\\partial z^{(2)}_{0}}{\\partial w_{01}^{(2)}} = a^{(1)}_{1}  \\\\\n",
    "    \\frac{\\partial z^{(2)}_{0}}{\\partial w_{02}^{(2)}} = a^{(1)}_{2} \\\\\n",
    "    \\\\\n",
    "    \\frac{\\partial z^{(2)}_{1}}{\\partial w_{10}^{(2)}} = a^{(1)}_{0} \\\\\n",
    "    \\frac{\\partial z^{(2)}_{1}}{\\partial w_{11}^{(2)}} = a^{(1)}_{1} \\\\\n",
    "    \\frac{\\partial z^{(2)}_{1}}{\\partial w_{12}^{(2)}} = a^{(1)}_{2} \\\\\n",
    "    \\\\\n",
    "    \\frac{\\partial z^{(1)}_{0}}{\\partial w_{00}^{(1)}} = a^{(1)}_{0} = x_{0}\\\\\n",
    "    \\frac{\\partial z^{(1)}_{0}}{\\partial w_{01}^{(1)}} = a^{(1)}_{1} = x_{1}\\\\\n",
    "    \\\\\n",
    "    \\frac{\\partial z^{(1)}_{1}}{\\partial w_{10}^{(1)}} = a^{(1)}_{0} = x_{0} \\\\\n",
    "    \\frac{\\partial z^{(1)}_{1}}{\\partial w_{11}^{(1)}} = a^{(1)}_{1} = x_{1} \\\\\n",
    "    \\\\\n",
    "    \\frac{\\partial z^{(1)}_{2}}{\\partial w_{20}^{(1)}} = a^{(1)}_{0} = x_{0} \\\\\n",
    "    \\frac{\\partial z^{(1)}_{2}}{\\partial w_{21}^{(1)}} = a^{(1)}_{1} = x_{1}\n",
    "\\end{align*}"
   ]
  },
  {
   "cell_type": "markdown",
   "metadata": {},
   "source": [
    "Activation function:\n",
    "$$\n",
    "\\begin{align*}\n",
    "    a^{(l)}_{i} = \\frac{1}{1 + e^{-z^{(l)}_{i}}} \\\\\n",
    "\\end{align*}\n",
    "$$"
   ]
  },
  {
   "cell_type": "markdown",
   "metadata": {},
   "source": [
    "In general:\n",
    "\n",
    "$$\n",
    "\\begin{align*}\n",
    "    \\frac{\\partial a^{(l)}_{i}}{\\partial z^{(l)}_{i}} = a^{(l)}_{i} (1 - a^{(l)}_{i})\n",
    "    \\hspace{35pt}\n",
    "    where\n",
    "    \\hspace{10pt}\n",
    "    1 \\le l < L\n",
    "\\end{align*}\n",
    "$$\n",
    "\n",
    "Note that for $L=2$ we have linear activation that we compute in a different way, as we have already seen before. But for the hidden layer we have the no linear activation functions."
   ]
  },
  {
   "cell_type": "markdown",
   "metadata": {},
   "source": [
    "Update weights for $l=2$:\n",
    "$$\n",
    "\\begin{align*}\n",
    "    \\frac{\\partial MSE}{\\partial w^{(2)}_{00}} = \n",
    "    \\frac{\\partial MSE}{\\partial y^{(2)}_{0}} \\,\n",
    "    \\frac{\\partial y^{(2)}_{0}}{\\partial z^{(2)}_{0}} \\,\n",
    "    \\frac{\\partial z^{(2)}_{0}}{\\partial w^{(2)}_{00}}\n",
    "\\end{align*}\n",
    "$$\n",
    "\n",
    "$$\n",
    "\\begin{align*}\n",
    "    \\frac{\\partial MSE}{\\partial w^{(2)}_{01}} = \n",
    "    \\frac{\\partial MSE}{\\partial y^{(2)}_{0}} \\,\n",
    "    \\frac{\\partial y^{(2)}_{0}}{\\partial z^{(2)}_{0}} \\,\n",
    "    \\frac{\\partial z^{(2)}_{0}}{\\partial w^{(2)}_{01}}\n",
    "\\end{align*}\n",
    "$$\n",
    "\n",
    "$$\n",
    "\\begin{align*}\n",
    "    \\frac{\\partial MSE}{\\partial w^{(2)}_{02}} = \n",
    "    \\frac{\\partial MSE}{\\partial y^{(2)}_{0}} \\,\n",
    "    \\frac{\\partial y^{(2)}_{0}}{\\partial z^{(2)}_{0}} \\,\n",
    "    \\frac{\\partial z^{(2)}_{0}}{\\partial w^{(2)}_{02}}\n",
    "\\end{align*}\n",
    "$$"
   ]
  },
  {
   "cell_type": "markdown",
   "metadata": {},
   "source": [
    "$$\n",
    "\\begin{align*}\n",
    "    \\frac{\\partial MSE}{\\partial w^{(2)}_{10}} = \n",
    "    \\frac{\\partial MSE}{\\partial y^{(2)}_{1}} \\,\n",
    "    \\frac{\\partial y^{(2)}_{1}}{\\partial z^{(2)}_{1}} \\,\n",
    "    \\frac{\\partial z^{(2)}_{1}}{\\partial w^{(2)}_{10}}\n",
    "\\end{align*}\n",
    "$$\n",
    "\n",
    "$$\n",
    "\\begin{align*}\n",
    "    \\frac{\\partial MSE}{\\partial w^{(2)}_{11}} = \n",
    "    \\frac{\\partial MSE}{\\partial y^{(2)}_{1}} \\,\n",
    "    \\frac{\\partial y^{(2)}_{1}}{\\partial z^{(2)}_{1}} \\,\n",
    "    \\frac{\\partial z^{(2)}_{1}}{\\partial w^{(2)}_{11}}\n",
    "\\end{align*}\n",
    "$$\n",
    "\n",
    "$$\n",
    "\\begin{align*}\n",
    "    \\frac{\\partial MSE}{\\partial w^{(2)}_{12}} = \n",
    "    \\frac{\\partial MSE}{\\partial y^{(2)}_{1}} \\,\n",
    "    \\frac{\\partial y^{(2)}_{1}}{\\partial z^{(2)}_{1}} \\,\n",
    "    \\frac{\\partial z^{(2)}_{1}}{\\partial w^{(2)}_{12}}\n",
    "\\end{align*}\n",
    "$$"
   ]
  },
  {
   "cell_type": "markdown",
   "metadata": {},
   "source": [
    "Update weights for $l=1$:\n",
    "$$\n",
    "\\begin{align*}\n",
    "    \\frac{\\partial MSE}{\\partial w^{(1)}_{00}} = \n",
    "    \\frac{\\partial MSE}{\\partial y^{(2)}_{0}} \\,\n",
    "    \\frac{\\partial y^{(2)}_{0}}{\\partial z^{(2)}_{0}} \\, \n",
    "    \\frac{\\partial z^{(2)}_{0}}{\\partial a^{(1)}_{0}} \\,\n",
    "    \\frac{\\partial a^{(1)}_{0}}{\\partial z^{(1)}_{0}} \\,\n",
    "    \\frac{\\partial z^{(1)}_{0}}{\\partial w^{(1)}_{00}} + \\\\\n",
    "    \\frac{\\partial MSE}{\\partial y^{(2)}_{1}} \\,\n",
    "    \\frac{\\partial y^{(2)}_{1}}{\\partial z^{(2)}_{1}} \\, \n",
    "    \\frac{\\partial z^{(2)}_{1}}{\\partial a^{(1)}_{0}} \\,\n",
    "    \\frac{\\partial a^{(1)}_{0}}{\\partial z^{(1)}_{0}} \\,\n",
    "    \\frac{\\partial z^{(1)}_{0}}{\\partial w^{(1)}_{00}}\n",
    "\\end{align*}\n",
    "$$\n",
    "\n",
    "$$\n",
    "\\begin{align*}\n",
    "    \\frac{\\partial MSE}{\\partial w^{(1)}_{01}} = \n",
    "    \\frac{\\partial MSE}{\\partial y^{(2)}_{0}} \\,\n",
    "    \\frac{\\partial y^{(2)}_{0}}{\\partial z^{(2)}_{0}} \\, \n",
    "    \\frac{\\partial z^{(2)}_{0}}{\\partial a^{(1)}_{0}} \\,\n",
    "    \\frac{\\partial a^{(1)}_{0}}{\\partial z^{(1)}_{0}} \\,\n",
    "    \\frac{\\partial z^{(1)}_{0}}{\\partial w^{(1)}_{01}} + \\\\\n",
    "    \\frac{\\partial MSE}{\\partial y^{(2)}_{1}} \\,\n",
    "    \\frac{\\partial y^{(2)}_{1}}{\\partial z^{(2)}_{1}} \\, \n",
    "    \\frac{\\partial z^{(2)}_{1}}{\\partial a^{(1)}_{0}} \\,\n",
    "    \\frac{\\partial a^{(1)}_{0}}{\\partial z^{(1)}_{0}} \\,\n",
    "    \\frac{\\partial z^{(1)}_{0}}{\\partial w^{(1)}_{01}}\n",
    "\\end{align*}\n",
    "$$\n"
   ]
  },
  {
   "cell_type": "markdown",
   "metadata": {},
   "source": [
    "\n",
    "$$\n",
    "\\begin{align*}\n",
    "    \\frac{\\partial MSE}{\\partial w^{(1)}_{10}} = \n",
    "    \\frac{\\partial MSE}{\\partial y^{(2)}_{0}} \\,\n",
    "    \\frac{\\partial y^{(2)}_{0}}{\\partial z^{(2)}_{0}} \\, \n",
    "    \\frac{\\partial z^{(2)}_{0}}{\\partial a^{(1)}_{1}} \\,\n",
    "    \\frac{\\partial a^{(1)}_{1}}{\\partial z^{(1)}_{1}} \\,\n",
    "    \\frac{\\partial z^{(1)}_{1}}{\\partial w^{(1)}_{10}} + \\\\\n",
    "    \\frac{\\partial MSE}{\\partial y^{(2)}_{1}} \\,\n",
    "    \\frac{\\partial y^{(2)}_{1}}{\\partial z^{(2)}_{1}} \\, \n",
    "    \\frac{\\partial z^{(2)}_{1}}{\\partial a^{(1)}_{1}} \\,\n",
    "    \\frac{\\partial a^{(1)}_{1}}{\\partial z^{(1)}_{1}} \\,\n",
    "    \\frac{\\partial z^{(1)}_{1}}{\\partial w^{(1)}_{10}}\n",
    "\\end{align*}\n",
    "$$\n",
    "\n",
    "$$\n",
    "\\begin{align*}\n",
    "    \\frac{\\partial MSE}{\\partial w^{(1)}_{11}} = \n",
    "    \\frac{\\partial MSE}{\\partial y^{(2)}_{0}} \\,\n",
    "    \\frac{\\partial y^{(2)}_{0}}{\\partial z^{(2)}_{0}} \\, \n",
    "    \\frac{\\partial z^{(2)}_{0}}{\\partial a^{(1)}_{1}} \\,\n",
    "    \\frac{\\partial a^{(1)}_{1}}{\\partial z^{(1)}_{1}} \\,\n",
    "    \\frac{\\partial z^{(1)}_{1}}{\\partial w^{(1)}_{11}} + \\\\\n",
    "    \\frac{\\partial MSE}{\\partial y^{(2)}_{1}} \\,\n",
    "    \\frac{\\partial y^{(2)}_{1}}{\\partial z^{(2)}_{1}} \\, \n",
    "    \\frac{\\partial z^{(2)}_{1}}{\\partial a^{(1)}_{1}} \\,\n",
    "    \\frac{\\partial a^{(1)}_{1}}{\\partial z^{(1)}_{1}} \\,\n",
    "    \\frac{\\partial z^{(1)}_{1}}{\\partial w^{(1)}_{11}}\n",
    "\\end{align*}\n",
    "$$\n"
   ]
  },
  {
   "cell_type": "markdown",
   "metadata": {},
   "source": [
    "$$\n",
    "\\begin{align*}\n",
    "    \\frac{\\partial MSE}{\\partial w^{(1)}_{20}} = \n",
    "    \\frac{\\partial MSE}{\\partial y^{(2)}_{0}} \\,\n",
    "    \\frac{\\partial y^{(2)}_{0}}{\\partial z^{(2)}_{0}} \\, \n",
    "    \\frac{\\partial z^{(2)}_{0}}{\\partial a^{(1)}_{2}} \\,\n",
    "    \\frac{\\partial a^{(1)}_{2}}{\\partial z^{(1)}_{2}} \\,\n",
    "    \\frac{\\partial z^{(1)}_{2}}{\\partial w^{(1)}_{10}} + \\\\\n",
    "    \\frac{\\partial MSE}{\\partial y^{(2)}_{1}} \\,\n",
    "    \\frac{\\partial y^{(2)}_{1}}{\\partial z^{(2)}_{1}} \\, \n",
    "    \\frac{\\partial z^{(2)}_{1}}{\\partial a^{(1)}_{2}} \\,\n",
    "    \\frac{\\partial a^{(1)}_{2}}{\\partial z^{(1)}_{2}} \\,\n",
    "    \\frac{\\partial z^{(1)}_{2}}{\\partial w^{(1)}_{20}}\n",
    "\\end{align*}\n",
    "$$\n",
    "\n",
    "$$\n",
    "\\begin{align*}\n",
    "    \\frac{\\partial MSE}{\\partial w^{(1)}_{21}} = \n",
    "    \\frac{\\partial MSE}{\\partial y^{(2)}_{0}} \\,\n",
    "    \\frac{\\partial y^{(2)}_{0}}{\\partial z^{(2)}_{0}} \\, \n",
    "    \\frac{\\partial z^{(2)}_{0}}{\\partial a^{(1)}_{2}} \\,\n",
    "    \\frac{\\partial a^{(1)}_{2}}{\\partial z^{(1)}_{2}} \\,\n",
    "    \\frac{\\partial z^{(1)}_{2}}{\\partial w^{(1)}_{11}} + \\\\\n",
    "    \\frac{\\partial MSE}{\\partial y^{(2)}_{1}} \\,\n",
    "    \\frac{\\partial y^{(2)}_{1}}{\\partial z^{(2)}_{1}} \\, \n",
    "    \\frac{\\partial z^{(2)}_{1}}{\\partial a^{(1)}_{2}} \\,\n",
    "    \\frac{\\partial a^{(1)}_{2}}{\\partial z^{(1)}_{2}} \\,\n",
    "    \\frac{\\partial z^{(1)}_{2}}{\\partial w^{(1)}_{21}}\n",
    "\\end{align*}\n",
    "$$"
   ]
  },
  {
   "cell_type": "markdown",
   "metadata": {},
   "source": [
    "Decompose\n",
    "\n",
    "$$\n",
    "\\begin{align*}\n",
    "    \\delta^{(L)} &= \\frac{\\partial MSE}{\\partial y} \\,\n",
    "    \\frac{\\partial y}{\\partial z^{(L)}} \\\\\n",
    "    &= \n",
    "    \\frac{\\partial MSE}{\\partial a^{(L)}} \\,\n",
    "    \\frac{\\partial a^{(L)}}{\\partial z^{(L)}} \\\\\n",
    "\n",
    "    \\delta^{(L-1)} &= \\delta^{(L)} \\,\n",
    "    \\frac{\\partial z^{(L)}}{\\partial a^{(L-1)}} \\,\n",
    "    \\frac{\\partial a^{(L-1)}}{\\partial z^{(L-1)}} \\\\\n",
    "\n",
    "    \\delta^{(L-2)} &= \\delta^{(L-1)} \\,\n",
    "    \\frac{\\partial z^{(L-1)}}{\\partial a^{(L-2)}} \\,\n",
    "    \\frac{\\partial a^{(L-2)}}{\\partial z^{(L-2)}} \\\\\n",
    "\n",
    "    &\\vdots\\\\\n",
    "    \\delta^{(l-1)} &= \\delta^{(l)} \\,\n",
    "    \\frac{\\partial z^{(l)}}{\\partial a^{(l-1)}} \\,\n",
    "    \\frac{\\partial a^{(l-1)}}{\\partial z^{(l-1)}}\n",
    "\\end{align*}\n",
    "$$"
   ]
  },
  {
   "cell_type": "markdown",
   "metadata": {},
   "source": [
    "Therefore\n",
    "\n",
    "$$\n",
    "\\begin{align*}\n",
    "    \\frac{\\partial MSE}{\\partial w^{(l)}_{ij}} = \\delta^{(l)} \\, \\frac{\\partial z^{(l)}}{\\partial w^{(l)}_{ij}}\n",
    "\\end{align*}\n",
    "$$"
   ]
  },
  {
   "cell_type": "markdown",
   "metadata": {},
   "source": [
    "Scalar mode:\n",
    "\n",
    "$$\n",
    "\\begin{align*}\n",
    "    \\delta^{(L)}_{i} &= \n",
    "    \\frac{\\partial MSE}{\\partial a^{(L)}_{i}} \\,\n",
    "    \\frac{\\partial a^{(L)}_{i}}{\\partial z^{(L)}_{i}}\n",
    "    \\hspace{35pt}\n",
    "    where\n",
    "    \\hspace{10pt}\n",
    "    0 \\le i < len(L) \\\\\n",
    "\n",
    "    \\delta^{(L-1)}_{k} &= \n",
    "    \\sum^{len(L)}_{i=0} \\delta^{(L)}_{i} \\,\n",
    "    \\frac{\\partial z^{(L)}_{i}}{\\partial a^{(L-1)}_{k}} \\,\n",
    "    \\frac{\\partial a^{(L-1)}_{k}}{\\partial z^{(L-1)}_{k}}\n",
    "    \\hspace{35pt}\n",
    "    where\n",
    "    \\hspace{10pt}\n",
    "    0 \\le k < len(L-1) \\\\\n",
    "\n",
    "    &\\vdots\\\\\n",
    "    \\delta^{(l-1)}_{k} &= \n",
    "    \\sum^{len(l)}_{i=0} \\delta^{(l)}_{i} \\,\n",
    "    \\frac{\\partial z^{(l)}_{i}}{\\partial a^{(l-1)}_{k}} \\,\n",
    "    \\frac{\\partial a^{(l-1)}_{k}}{\\partial z^{(l-1)}_{k}}\n",
    "    \\hspace{35pt}\n",
    "    where\n",
    "    \\hspace{10pt}\n",
    "    0 \\le k < len(l-1)\n",
    "\\end{align*}\n",
    "$$"
   ]
  },
  {
   "cell_type": "markdown",
   "metadata": {},
   "source": [
    "Therefore:\n",
    "\n",
    "$$\n",
    "\\begin{align*}\n",
    "    \\frac{\\partial MSE}{\\partial w^{(L)}_{ij}} &= \\delta^{(L)}_{i} \\, \\frac{\\partial z^{(L)}_{i}}{\\partial w^{(L)}_{ij}}\n",
    "    \\hspace{35pt}\n",
    "    where\n",
    "    \\hspace{10pt}\n",
    "    0 \\le i < len(L) &\n",
    "    0 \\le j < len(L-1) \\\\\n",
    "\n",
    "    \\frac{\\partial MSE}{\\partial w^{(L-1)}_{ij}} &= \\delta^{(L-1)}_{i} \\, \\frac{\\partial z^{(L-1)}_{i}}{\\partial w^{(L-1)}_{ij}}\n",
    "    \\hspace{35pt}\n",
    "    where\n",
    "    \\hspace{10pt}\n",
    "    0 \\le i < len(L-1) &\n",
    "    0 \\le j < len(L-2) \\\\\n",
    "\n",
    "    & \\vdots \\\\\n",
    "    \\frac{\\partial MSE}{\\partial w^{(l-1)}_{ij}} &= \\delta^{(l-1)}_{i} \\, \\frac{\\partial z^{(l-1)}_{i}}{\\partial w^{(l-1)}_{ij}}\n",
    "    \\hspace{35pt}\n",
    "    where\n",
    "    \\hspace{10pt}\n",
    "    0 \\le i < len(l-1) &\n",
    "    0 \\le j < len(l-2)\n",
    "\\end{align*}\n",
    "$$"
   ]
  },
  {
   "cell_type": "markdown",
   "metadata": {},
   "source": [
    "## Forward pass"
   ]
  },
  {
   "cell_type": "code",
   "execution_count": 234,
   "metadata": {},
   "outputs": [
    {
     "name": "stdout",
     "output_type": "stream",
     "text": [
      "Input x:\n",
      "[[1]\n",
      " [3]] \n",
      "\n",
      "Layer 1:\n",
      "W_l1 \n",
      " [[0.97007005 0.61840113]\n",
      " [0.92420913 0.97500156]\n",
      " [0.72183716 0.53289514]] \n",
      "\n",
      "z_l1 \n",
      " [[2.82527343]\n",
      " [3.8492138 ]\n",
      " [2.32052258]] \n",
      "\n",
      "a_l1 \n",
      " [[0.94402637]\n",
      " [0.97914761]\n",
      " [0.91056251]] \n",
      "\n",
      "Layer 2:\n",
      "W_l2 \n",
      " [[0.85264027 0.97336448 0.51301245]\n",
      " [0.2620828  0.97489056 0.90059674]] \n",
      "\n",
      "z_l2 \n",
      " [[7.34608685]\n",
      " [6.58287285]] \n",
      "\n",
      "y \n",
      " [[7.34608685]\n",
      " [6.58287285]] \n",
      "\n",
      "t\n",
      " [[4]\n",
      " [1]] \n",
      "\n",
      "MSE \n",
      " [21.18238321] \n",
      "\n"
     ]
    }
   ],
   "source": [
    "print(\"Input x:\")\n",
    "x = np.array([[1,3]]).T\n",
    "print(x, \"\\n\")\n",
    "\n",
    "print(\"Layer 1:\")\n",
    "W_l1 = np.random.rand(3,2)\n",
    "z_l1 = W_l1 @ x\n",
    "a_l1 = 1 / (1 + np.exp(-z_l1))\n",
    "print(\"W_l1\", \"\\n\", W_l1, \"\\n\")\n",
    "print(\"z_l1\", \"\\n\", z_l1, \"\\n\")\n",
    "print(\"a_l1\", \"\\n\", a_l1, \"\\n\")\n",
    "\n",
    "print(\"Layer 2:\")\n",
    "W_l2 = np.random.rand(2,3)\n",
    "z_l2 = W_l2 @ z_l1\n",
    "print(\"W_l2\", \"\\n\", W_l2, \"\\n\")\n",
    "print(\"z_l2\", \"\\n\", z_l2, \"\\n\")\n",
    "\n",
    "y = z_l2\n",
    "print(\"y\", \"\\n\", y, \"\\n\")\n",
    "\n",
    "t = np.random.randint(5, size=(2,1))\n",
    "print(\"t\" \"\\n\", t, \"\\n\")\n",
    "MSE = 0.5 * ( (t[0] - y[0])** 2 + (t[1] - y[1])** 2 )\n",
    "print(\"MSE\", \"\\n\", MSE, \"\\n\")"
   ]
  },
  {
   "cell_type": "markdown",
   "metadata": {},
   "source": [
    "## Backward pass"
   ]
  },
  {
   "cell_type": "markdown",
   "metadata": {},
   "source": [
    "$$\n",
    "\\begin{align*}\n",
    "    \\delta^{(L)}_{i} &= \n",
    "    \\frac{\\partial MSE}{\\partial a^{(L)}_{i}} \\,\n",
    "    \\frac{\\partial a^{(L)}_{i}}{\\partial z^{(L)}_{i}}\n",
    "    \\hspace{35pt}\n",
    "    where\n",
    "    \\hspace{10pt}\n",
    "    0 \\le i < len(L) \\\\\n",
    "\n",
    "    &= (-y_i + t_i) \\, 1 \\\\\n",
    "    &= (-y_i + t_i)\n",
    "\\end{align*}\n",
    "$$"
   ]
  },
  {
   "cell_type": "code",
   "execution_count": 235,
   "metadata": {},
   "outputs": [
    {
     "name": "stdout",
     "output_type": "stream",
     "text": [
      "Dimension of L-layer: 2\n",
      "delta_L2: [-3.34608685 -5.58287285]\n"
     ]
    }
   ],
   "source": [
    "L2_size = z_l2.shape[0]\n",
    "\n",
    "delta_L2 = np.zeros(L2_size)\n",
    "for i in range(L2_size):\n",
    "    delta_L2[i] = -y[i] + t[i]\n",
    "\n",
    "print(f\"Dimension of L-layer: {L2_size}\")\n",
    "print(f\"delta_L2: {delta_L2}\")"
   ]
  },
  {
   "cell_type": "markdown",
   "metadata": {},
   "source": [
    "$$\n",
    "\\begin{align*}    \n",
    "    \\frac{\\partial MSE}{\\partial w^{(L)}_{ij}} &= \\delta^{(L)}_{i} \\, \\frac{\\partial z^{(L)}_{i}}{\\partial w^{(L)}_{ij}}\n",
    "    \\hspace{35pt}\n",
    "    where\n",
    "    \\hspace{10pt}\n",
    "    0 \\le i < len(L) &\n",
    "    0 \\le j < len(L-1) \\\\\n",
    "\n",
    "    &= \\delta^{(L)}_{i} \\, a^{(L-1)}_{j}\n",
    "\\end{align*}\n",
    "$$"
   ]
  },
  {
   "cell_type": "code",
   "execution_count": 236,
   "metadata": {},
   "outputs": [
    {
     "name": "stdout",
     "output_type": "stream",
     "text": [
      "W_grad of layers 2:\n",
      "[[-3.15879422 -3.27631294 -3.04682123]\n",
      " [-5.27037919 -5.4664566  -5.0835547 ]]\n"
     ]
    }
   ],
   "source": [
    "l1_size = z_l1.shape[0]\n",
    "\n",
    "W_l2_grad = np.zeros_like(W_l2)\n",
    "for i in range(L2_size):\n",
    "    for j in range(l1_size):\n",
    "        W_l2_grad[i,j] = delta_L2[i] * a_l1[j]\n",
    "\n",
    "print(\"W_grad of layers 2:\")\n",
    "print(W_l2_grad)"
   ]
  },
  {
   "cell_type": "markdown",
   "metadata": {},
   "source": [
    " $$\n",
    "\\begin{align*}   \n",
    "    \\delta^{(L-1)}_{k} &= \n",
    "    \\sum^{len(L)}_{i=0} \\delta^{(L)}_{i} \\,\n",
    "    \\frac{\\partial z^{(L)}_{i}}{\\partial a^{(L-1)}_{k}} \\,\n",
    "    \\frac{\\partial a^{(L-1)}_{k}}{\\partial z^{(L-1)}_{k}}\n",
    "    \\hspace{35pt}\n",
    "    where\n",
    "    \\hspace{10pt}\n",
    "    0 \\le k < len(L-1) \\\\\n",
    "\n",
    "    &= \\sum^{len(L)}_{i=0} \\delta^{(L)}_{i} \\, w^{(L)}_{ik} \\, a^{(L-1)}_{k} \\, (1 - a^{(L-1)}_{k})\n",
    "\\end{align*}\n",
    "$$"
   ]
  },
  {
   "cell_type": "code",
   "execution_count": 237,
   "metadata": {},
   "outputs": [
    {
     "name": "stdout",
     "output_type": "stream",
     "text": [
      "Dimension of L-1 layer: 3\n",
      "delta_L-1: [-0.22806964 -0.17762574 -0.54926157]\n"
     ]
    }
   ],
   "source": [
    "delta_l1 = np.zeros(l1_size)\n",
    "for k in range(l1_size):\n",
    "    acc = 0\n",
    "    for i in range(L2_size):\n",
    "        acc += delta_L2[i] * W_l2[i,k] * a_l1[k] * (1 - a_l1[k])\n",
    "    delta_l1[k] = acc\n",
    "\n",
    "print(f\"Dimension of L-1 layer: {l1_size}\")\n",
    "print(f\"delta_L-1: {delta_l1}\")"
   ]
  },
  {
   "cell_type": "markdown",
   "metadata": {},
   "source": [
    "$$\n",
    "\\begin{align*}\n",
    "    \\frac{\\partial MSE}{\\partial w^{(L-1)}_{ij}} &= \\delta^{(L-1)}_{i} \\, \\frac{\\partial z^{(L-1)}_{i}}{\\partial w^{(L-1)}_{ij}}\n",
    "    \\hspace{35pt}\n",
    "    where\n",
    "    \\hspace{10pt}\n",
    "    0 \\le i < len(L-1) &\n",
    "    0 \\le j < len(L-2) \\\\\n",
    "\n",
    "    &= \\delta^{(L-1)}_{i} \\, a^{(L-2)}_{j} \\\\\n",
    "    &= \\delta^{(L-1)}_{i} \\, x_{j} \\\\\n",
    "\\end{align*}\n",
    "$$"
   ]
  },
  {
   "cell_type": "code",
   "execution_count": 238,
   "metadata": {},
   "outputs": [
    {
     "name": "stdout",
     "output_type": "stream",
     "text": [
      "W_grad of layers 1:\n",
      "[[-0.22806964 -0.68420891]\n",
      " [-0.17762574 -0.53287723]\n",
      " [-0.54926157 -1.64778472]]\n"
     ]
    }
   ],
   "source": [
    "l0_size = x.shape[0]\n",
    "\n",
    "W_l1_grad = np.zeros_like(W_l1)\n",
    "for i in range(l1_size):\n",
    "    for j in range(l0_size):\n",
    "        W_l1_grad[i,j] = delta_l1[i] * x[j]\n",
    "\n",
    "print(\"W_grad of layers 1:\")\n",
    "print(W_l1_grad)"
   ]
  },
  {
   "cell_type": "markdown",
   "metadata": {},
   "source": [
    "## Gradient descent"
   ]
  },
  {
   "cell_type": "code",
   "execution_count": 239,
   "metadata": {},
   "outputs": [],
   "source": [
    "mu = 0.01"
   ]
  },
  {
   "cell_type": "code",
   "execution_count": 240,
   "metadata": {},
   "outputs": [
    {
     "name": "stdout",
     "output_type": "stream",
     "text": [
      "w_l1 before:\n",
      "[[0.97007005 0.61840113]\n",
      " [0.92420913 0.97500156]\n",
      " [0.72183716 0.53289514]]\n",
      "\n",
      "\n",
      "w_l1 new:\n",
      "[[0.96778936 0.61155904]\n",
      " [0.92243287 0.96967279]\n",
      " [0.71634454 0.51641729]]\n"
     ]
    }
   ],
   "source": [
    "print(\"w_l1 before:\")\n",
    "print(W_l1)\n",
    "W_l1 = W_l1 + mu * W_l1_grad\n",
    "\n",
    "print(\"\\n\")\n",
    "\n",
    "print(\"w_l1 new:\")\n",
    "print(W_l1)"
   ]
  },
  {
   "cell_type": "code",
   "execution_count": 241,
   "metadata": {},
   "outputs": [
    {
     "name": "stdout",
     "output_type": "stream",
     "text": [
      "w_l2 before:\n",
      "[[0.85264027 0.97336448 0.51301245]\n",
      " [0.2620828  0.97489056 0.90059674]]\n",
      "\n",
      "\n",
      "w_l2 new:\n",
      "[[0.82105233 0.94060135 0.48254424]\n",
      " [0.20937901 0.920226   0.84976119]]\n"
     ]
    }
   ],
   "source": [
    "print(\"w_l2 before:\")\n",
    "print(W_l2)\n",
    "W_l2 = W_l2 - mu * W_l2_grad\n",
    "\n",
    "print(\"\\n\")\n",
    "\n",
    "print(\"w_l2 new:\")\n",
    "print(W_l2)"
   ]
  },
  {
   "cell_type": "code",
   "execution_count": 242,
   "metadata": {},
   "outputs": [
    {
     "name": "stdout",
     "output_type": "stream",
     "text": [
      "BEFORE\n",
      "y \n",
      " [[7.34608685]\n",
      " [6.58287285]] \n",
      "\n",
      "t\n",
      " [[4]\n",
      " [1]] \n",
      "\n",
      "MSE \n",
      " [21.18238321] \n",
      "\n",
      "AFTER\n",
      "y \n",
      " [[6.9980903 ]\n",
      " [6.03779459]] \n",
      "\n",
      "t\n",
      " [[4]\n",
      " [1]] \n",
      "\n",
      "MSE \n",
      " [17.18395987] \n",
      "\n"
     ]
    }
   ],
   "source": [
    "print(\"BEFORE\")\n",
    "print(\"y\", \"\\n\", y, \"\\n\")\n",
    "print(\"t\" \"\\n\", t, \"\\n\")\n",
    "print(\"MSE\", \"\\n\", MSE, \"\\n\")\n",
    "\n",
    "x = np.array([[1,3]]).T\n",
    "z_l1 = W_l1 @ x\n",
    "a_l1 = 1 / (1 + np.exp(-z_l1))\n",
    "z_l2 = W_l2 @ z_l1\n",
    "y = z_l2\n",
    "MSE = 0.5 * ( (t[0] - y[0])** 2 + (t[1] - y[1])** 2 )\n",
    "\n",
    "print(\"AFTER\")\n",
    "print(\"y\", \"\\n\", y, \"\\n\")\n",
    "print(\"t\" \"\\n\", t, \"\\n\")\n",
    "print(\"MSE\", \"\\n\", MSE, \"\\n\")"
   ]
  },
  {
   "cell_type": "markdown",
   "metadata": {},
   "source": [
    "## Problem"
   ]
  },
  {
   "cell_type": "code",
   "execution_count": 368,
   "metadata": {},
   "outputs": [],
   "source": [
    "X = np.random.rand(10000, 2)\n",
    "y = 300 * np.exp(np.sin(X))"
   ]
  },
  {
   "cell_type": "code",
   "execution_count": 369,
   "metadata": {},
   "outputs": [],
   "source": [
    "from sklearn.model_selection import train_test_split\n",
    "X_train, X_test, y_train, y_test = train_test_split(X, y, test_size=0.33, random_state=42)"
   ]
  },
  {
   "cell_type": "code",
   "execution_count": 370,
   "metadata": {},
   "outputs": [
    {
     "data": {
      "text/plain": [
       "((6700, 2), (6700, 2))"
      ]
     },
     "execution_count": 370,
     "metadata": {},
     "output_type": "execute_result"
    }
   ],
   "source": [
    "X_train.shape, y_train.shape"
   ]
  },
  {
   "cell_type": "code",
   "execution_count": 371,
   "metadata": {},
   "outputs": [],
   "source": [
    "in_size = 2\n",
    "hid_1_size = 3\n",
    "out_size = 2\n",
    "\n",
    "sizes = [in_size, hid_1_size, out_size]"
   ]
  },
  {
   "cell_type": "code",
   "execution_count": 372,
   "metadata": {},
   "outputs": [
    {
     "name": "stdout",
     "output_type": "stream",
     "text": [
      "W_l1 | Layer 1, with index 0\n",
      "[[0.1119346  0.41278924]\n",
      " [0.0773129  0.04300956]\n",
      " [0.95629953 0.7044888 ]]\n",
      "\n",
      "\n",
      "W_l2 | Layer 2, with index 1\n",
      "[[0.08559176 0.67401742 0.95201433]\n",
      " [0.73588922 0.44185315 0.74352088]]\n"
     ]
    }
   ],
   "source": [
    "W = []\n",
    "\n",
    "W.append(np.random.rand(sizes[1], sizes[0]))\n",
    "print(\"W_l1 | Layer 1, with index 0\")\n",
    "print(W[0])\n",
    "\n",
    "print(\"\\n\")\n",
    "\n",
    "W.append(np.random.rand(sizes[2], sizes[1]))\n",
    "print(\"W_l2 | Layer 2, with index 1\")\n",
    "print(W[1])"
   ]
  },
  {
   "cell_type": "code",
   "execution_count": 373,
   "metadata": {},
   "outputs": [
    {
     "name": "stdout",
     "output_type": "stream",
     "text": [
      "z_l1 | Layer 1, with index 0:\n",
      "[0. 0. 0.]\n",
      "a_l1 | Layer 1, with index 0:\n",
      "[0. 0. 0.]\n",
      "\n",
      "\n",
      "z_l2 | Layer 2, with index 1:\n",
      "[0. 0.]\n",
      "a_l2 = y | Layer 2, with index 1:\n",
      "[0. 0.]\n"
     ]
    }
   ],
   "source": [
    "z = []\n",
    "a = []\n",
    "\n",
    "# Layer 1, with index 0\n",
    "z.append(np.zeros(sizes[1]))\n",
    "a.append(np.zeros(sizes[1]))\n",
    "print(\"z_l1 | Layer 1, with index 0:\")\n",
    "print(z[0])\n",
    "print(\"a_l1 | Layer 1, with index 0:\")\n",
    "print(a[0])\n",
    "\n",
    "print(\"\\n\")\n",
    "\n",
    "# Layer 2, with index 1\n",
    "a.append(np.zeros(sizes[2]))\n",
    "z.append(np.zeros(sizes[2]))\n",
    "print(\"z_l2 | Layer 2, with index 1:\")\n",
    "print(z[1])\n",
    "print(\"a_l2 = y | Layer 2, with index 1:\")\n",
    "print(a[1])"
   ]
  },
  {
   "cell_type": "code",
   "execution_count": 374,
   "metadata": {},
   "outputs": [],
   "source": [
    "def forward(xi, log=False):\n",
    "\n",
    "    # Input\n",
    "    if log: print(\"Input x:\")\n",
    "    x = np.array([xi]).T\n",
    "    if log: print(x, \"\\n\")\n",
    "\n",
    "    # Layer 1\n",
    "    if log: print(\"Layer 1:\")\n",
    "    z[0] = W[0] @ x\n",
    "    a[0] = 1 / (1 + np.exp(-z[0]))\n",
    "    if log: print(\"W_l1\", \"\\n\", W[0], \"\\n\")\n",
    "    if log: print(\"z_l1\", \"\\n\", z[0], \"\\n\")\n",
    "    if log: print(\"a_l1\", \"\\n\", a[0], \"\\n\")\n",
    "\n",
    "    # Layer 2\n",
    "    if log: print(\"Layer 2:\")\n",
    "    z[1] = W[1] @ z[0]\n",
    "    a[1] = z[1]\n",
    "    if log: print(\"W_l2\", \"\\n\", W[1], \"\\n\")\n",
    "    if log: print(\"z_l2\", \"\\n\", z[1], \"\\n\")\n",
    "    if log: print(\"y\", \"\\n\", a[1], \"\\n\")\n",
    "\n",
    "    # MSE\n",
    "    t = np.random.randint(5, size=(2,1))\n",
    "    if log: print(\"t\" \"\\n\", t, \"\\n\")\n",
    "    MSE = 0.5 * ( (t[0] - a[1][0])** 2 + (t[1] - a[1][1])** 2 )\n",
    "    return MSE\n",
    "\n",
    "\n",
    "def backward():\n",
    "\n",
    "    # Initialization\n",
    "    W_grad = []\n",
    "    for w in W:\n",
    "        W_grad.append(np.zeros_like(w))\n",
    "\n",
    "    delta = []\n",
    "    for i in range(len(sizes)-1, 0, -1):\n",
    "        delta.append(np.zeros(sizes[i]))\n",
    "\n",
    "    # -------------------------------\n",
    "    # LAYER 2\n",
    "    # compute delta\n",
    "    for i in range(sizes[2]):\n",
    "        delta[0][i] = -a[1][i] + t[i]\n",
    "\n",
    "    # compute W_grad\n",
    "    for i in range(sizes[2]):\n",
    "        for j in range(sizes[1]):\n",
    "            W_grad[1][i,j] = delta[0][i] * a[0][j]\n",
    "\n",
    "    # -------------------------------\n",
    "    # LAYER 1\n",
    "    # compute delta\n",
    "    for k in range(sizes[1]):\n",
    "        acc = 0\n",
    "        for i in range(sizes[2]):\n",
    "            acc += delta[0][i] * W[1][i,k] * a[0][k] * (1 - a[0][k])\n",
    "        delta[1][k] = acc\n",
    "\n",
    "    # compute W_grad\n",
    "    for i in range(sizes[1]):\n",
    "        for j in range(sizes[0]):\n",
    "            W_grad[0][i,j] = delta[1][i] * x[j]\n",
    "\n",
    "    # UPDATE WEIGHTS\n",
    "    mu = 0.001\n",
    "    for idx, w_grad in enumerate(W_grad):\n",
    "        W[idx] = W[idx] + mu * w_grad # NOTE WITH \"-\" EXPLODING GRADIENTS, THERE MUST EXISTS SOME ERROR"
   ]
  },
  {
   "cell_type": "code",
   "execution_count": 375,
   "metadata": {},
   "outputs": [
    {
     "name": "stdout",
     "output_type": "stream",
     "text": [
      "Epoch: 0, Train loss: [40778.84947518]\n",
      "Epoch: 0, Test loss: [20047.53456471]\n",
      "Epoch: 1, Train loss: [41694.15444421]\n",
      "Epoch: 1, Test loss: [20476.62903596]\n",
      "Epoch: 2, Train loss: [41717.28322423]\n",
      "Epoch: 2, Test loss: [20890.64052609]\n",
      "Epoch: 3, Train loss: [43523.63314933]\n",
      "Epoch: 3, Test loss: [21942.02686374]\n",
      "Epoch: 4, Train loss: [43334.72402015]\n",
      "Epoch: 4, Test loss: [21387.0804549]\n",
      "Epoch: 5, Train loss: [43874.65806443]\n",
      "Epoch: 5, Test loss: [21659.51677369]\n",
      "Epoch: 6, Train loss: [44009.26624979]\n",
      "Epoch: 6, Test loss: [21663.25510824]\n",
      "Epoch: 7, Train loss: [43927.3506858]\n",
      "Epoch: 7, Test loss: [21534.51274113]\n",
      "Epoch: 8, Train loss: [43384.98844775]\n",
      "Epoch: 8, Test loss: [21499.80313462]\n",
      "Epoch: 9, Train loss: [43752.17746886]\n",
      "Epoch: 9, Test loss: [21671.96727445]\n",
      "Epoch: 10, Train loss: [44066.98790726]\n",
      "Epoch: 10, Test loss: [22099.602941]\n",
      "Epoch: 11, Train loss: [44268.05357934]\n",
      "Epoch: 11, Test loss: [21548.4276201]\n",
      "Epoch: 12, Train loss: [44647.57467009]\n",
      "Epoch: 12, Test loss: [22322.10562657]\n",
      "Epoch: 13, Train loss: [44255.90007612]\n",
      "Epoch: 13, Test loss: [21923.97096689]\n"
     ]
    },
    {
     "ename": "KeyboardInterrupt",
     "evalue": "",
     "output_type": "error",
     "traceback": [
      "\u001b[1;31m---------------------------------------------------------------------------\u001b[0m",
      "\u001b[1;31mKeyboardInterrupt\u001b[0m                         Traceback (most recent call last)",
      "Cell \u001b[1;32mIn [375], line 5\u001b[0m\n\u001b[0;32m      3\u001b[0m \u001b[38;5;28;01mfor\u001b[39;00m i \u001b[38;5;129;01min\u001b[39;00m \u001b[38;5;28mrange\u001b[39m(X_train\u001b[38;5;241m.\u001b[39mshape[\u001b[38;5;241m0\u001b[39m]):\n\u001b[0;32m      4\u001b[0m     forward(X_train[i])\n\u001b[1;32m----> 5\u001b[0m     \u001b[43mbackward\u001b[49m\u001b[43m(\u001b[49m\u001b[43m)\u001b[49m\n\u001b[0;32m      7\u001b[0m loss \u001b[38;5;241m=\u001b[39m \u001b[38;5;241m0\u001b[39m\n\u001b[0;32m      8\u001b[0m \u001b[38;5;28;01mfor\u001b[39;00m j \u001b[38;5;129;01min\u001b[39;00m \u001b[38;5;28mrange\u001b[39m(X_train\u001b[38;5;241m.\u001b[39mshape[\u001b[38;5;241m0\u001b[39m]):\n",
      "Cell \u001b[1;32mIn [374], line 36\u001b[0m, in \u001b[0;36mbackward\u001b[1;34m()\u001b[0m\n\u001b[0;32m     34\u001b[0m W_grad \u001b[38;5;241m=\u001b[39m []\n\u001b[0;32m     35\u001b[0m \u001b[38;5;28;01mfor\u001b[39;00m w \u001b[38;5;129;01min\u001b[39;00m W:\n\u001b[1;32m---> 36\u001b[0m     W_grad\u001b[38;5;241m.\u001b[39mappend(\u001b[43mnp\u001b[49m\u001b[38;5;241;43m.\u001b[39;49m\u001b[43mzeros_like\u001b[49m\u001b[43m(\u001b[49m\u001b[43mw\u001b[49m\u001b[43m)\u001b[49m)\n\u001b[0;32m     38\u001b[0m delta \u001b[38;5;241m=\u001b[39m []\n\u001b[0;32m     39\u001b[0m \u001b[38;5;28;01mfor\u001b[39;00m i \u001b[38;5;129;01min\u001b[39;00m \u001b[38;5;28mrange\u001b[39m(\u001b[38;5;28mlen\u001b[39m(sizes)\u001b[38;5;241m-\u001b[39m\u001b[38;5;241m1\u001b[39m, \u001b[38;5;241m0\u001b[39m, \u001b[38;5;241m-\u001b[39m\u001b[38;5;241m1\u001b[39m):\n",
      "File \u001b[1;32m<__array_function__ internals>:180\u001b[0m, in \u001b[0;36mzeros_like\u001b[1;34m(*args, **kwargs)\u001b[0m\n",
      "File \u001b[1;32mg:\\Data Scientist\\Discesa del Gradiente\\venv\\lib\\site-packages\\numpy\\core\\numeric.py:141\u001b[0m, in \u001b[0;36mzeros_like\u001b[1;34m(a, dtype, order, subok, shape)\u001b[0m\n\u001b[0;32m    139\u001b[0m \u001b[39m# needed instead of a 0 to get same result as zeros for string dtypes\u001b[39;00m\n\u001b[0;32m    140\u001b[0m z \u001b[39m=\u001b[39m zeros(\u001b[39m1\u001b[39m, dtype\u001b[39m=\u001b[39mres\u001b[39m.\u001b[39mdtype)\n\u001b[1;32m--> 141\u001b[0m multiarray\u001b[39m.\u001b[39;49mcopyto(res, z, casting\u001b[39m=\u001b[39;49m\u001b[39m'\u001b[39;49m\u001b[39munsafe\u001b[39;49m\u001b[39m'\u001b[39;49m)\n\u001b[0;32m    142\u001b[0m \u001b[39mreturn\u001b[39;00m res\n",
      "File \u001b[1;32m<__array_function__ internals>:180\u001b[0m, in \u001b[0;36mcopyto\u001b[1;34m(*args, **kwargs)\u001b[0m\n",
      "\u001b[1;31mKeyboardInterrupt\u001b[0m: "
     ]
    }
   ],
   "source": [
    "EPOCHS = 50\n",
    "for ep in range(EPOCHS):\n",
    "    for i in range(X_train.shape[0]):\n",
    "        forward(X_train[i])\n",
    "        backward()\n",
    "    \n",
    "    loss = 0\n",
    "    for j in range(X_train.shape[0]):\n",
    "        loss += forward(X_train[j])\n",
    "    print(f\"Epoch: {ep}, Train loss: {loss}\")\n",
    "\n",
    "    loss = 0\n",
    "    for j in range(X_test.shape[0]):\n",
    "        loss += forward(X_test[j])\n",
    "    print(f\"Epoch: {ep}, Test loss: {loss}\")"
   ]
  }
 ],
 "metadata": {
  "kernelspec": {
   "display_name": "Python 3",
   "language": "python",
   "name": "python3"
  },
  "language_info": {
   "codemirror_mode": {
    "name": "ipython",
    "version": 3
   },
   "file_extension": ".py",
   "mimetype": "text/x-python",
   "name": "python",
   "nbconvert_exporter": "python",
   "pygments_lexer": "ipython3",
   "version": "3.8.5"
  },
  "varInspector": {
   "cols": {
    "lenName": 16,
    "lenType": 16,
    "lenVar": 40
   },
   "kernels_config": {
    "python": {
     "delete_cmd_postfix": "",
     "delete_cmd_prefix": "del ",
     "library": "var_list.py",
     "varRefreshCmd": "print(var_dic_list())"
    },
    "r": {
     "delete_cmd_postfix": ") ",
     "delete_cmd_prefix": "rm(",
     "library": "var_list.r",
     "varRefreshCmd": "cat(var_dic_list()) "
    }
   },
   "types_to_exclude": [
    "module",
    "function",
    "builtin_function_or_method",
    "instance",
    "_Feature"
   ],
   "window_display": false
  },
  "vscode": {
   "interpreter": {
    "hash": "f7e374ee5e09e3e1c64a32e01379f0a0a71f66221bd3efaa81b204d4a8f2076c"
   }
  }
 },
 "nbformat": 4,
 "nbformat_minor": 2
}
